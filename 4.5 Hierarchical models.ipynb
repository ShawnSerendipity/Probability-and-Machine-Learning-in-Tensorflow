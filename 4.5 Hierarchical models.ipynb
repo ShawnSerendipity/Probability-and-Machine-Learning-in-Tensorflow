{
  "nbformat": 4,
  "nbformat_minor": 0,
  "metadata": {
    "anaconda-cloud": {},
    "celltoolbar": "Slideshow",
    "kernelspec": {
      "display_name": "Python [default]",
      "language": "python",
      "name": "python3"
    },
    "language_info": {
      "codemirror_mode": {
        "name": "ipython",
        "version": 3
      },
      "file_extension": ".py",
      "mimetype": "text/x-python",
      "name": "python",
      "nbconvert_exporter": "python",
      "pygments_lexer": "ipython3",
      "version": "3.5.2"
    },
    "colab": {
      "name": "4.5 Hierarchical models.ipynb",
      "version": "0.3.2",
      "provenance": [],
      "collapsed_sections": []
    }
  },
  "cells": [
    {
      "cell_type": "markdown",
      "metadata": {
        "id": "l1ecpTLZ_n-i",
        "colab_type": "text"
      },
      "source": [
        "# 4.5 Hierarchical models"
      ]
    },
    {
      "cell_type": "markdown",
      "metadata": {
        "id": "-kHwp3C7_n-k",
        "colab_type": "text"
      },
      "source": [
        "## Objectives\n",
        "\n",
        "+ Bayes factors and their implementation for hypothesis testing in Python\n",
        "+ Hierarchical models and their applications\n",
        "\n",
        " \n"
      ]
    },
    {
      "cell_type": "markdown",
      "metadata": {
        "id": "D0Eab5es_n-l",
        "colab_type": "text"
      },
      "source": [
        "## List of Symbols:\n",
        "$--\\mu$ is the mean<br>\n",
        "$-- \\sigma^2$ is the variance<br>\n",
        "$--P$ is the probability<br>\n",
        "$--θ$ is the vector of parameters <br>\n",
        "$--BF$ is the Bayes Factor <br>\n",
        "$--H_0$ is the null Hypothesis <br>\n",
        "$--H_1$ is the alternate Hypothesis <br>\n"
      ]
    },
    {
      "cell_type": "code",
      "metadata": {
        "id": "5LGn-xtT_1bu",
        "colab_type": "code",
        "colab": {}
      },
      "source": [
        "#@title Import { display-mode: \"form\" }\n",
        "\n",
        "%matplotlib inline\n",
        "import pymc3 as pm\n",
        "import math\n",
        "import warnings\n",
        "warnings.filterwarnings('ignore')\n",
        "\n",
        "import numpy as np\n",
        "from matplotlib import pyplot as plt\n",
        "plt.style.use('seaborn-darkgrid')\n",
        "from pymc3.step_methods import smc\n",
        "from tempfile import mkdtemp\n",
        "from scipy.special import betaln\n",
        "from scipy.stats import beta\n",
        "import pandas as pd\n",
        "\n",
        "import tensorflow as tf\n",
        "\n",
        "from tensorflow.python import tf2\n",
        "if not tf2.enabled():\n",
        "  import tensorflow.compat.v2 as tf\n",
        "  tf.enable_v2_behavior()\n",
        "  assert tf2.enabled()\n",
        "  \n",
        "import tensorflow_probability as tfp\n",
        "\n",
        "tfd = tfp.distributions"
      ],
      "execution_count": 0,
      "outputs": []
    },
    {
      "cell_type": "markdown",
      "metadata": {
        "id": "IP6mzFEX_n-o",
        "colab_type": "text"
      },
      "source": [
        "## Definitions\n",
        "\n",
        "+ **Bayes factors** - The Bayes factor is a ratio of the likelihood probability of two hypotheses, a null and an alternative hypothesis. It presents a new approach for hypothesis testing[1].\n",
        "\n",
        "\\begin{align}\n",
        "\\text{Bayes Factor} &= \\frac{\\text{Likelihood of data given Hypothesis } H_0}{\\text{Likelihood of data given Hypothesis } H_1} \\\\\n",
        "&= \\frac{P(D \\mid H_0)}{P(D \\mid H_1)}\n",
        "\\end{align}\n",
        "\n",
        "+ ** Hierarchical Models** - They are statistical models which are used to estimate various parameters of distributions using bayesian statistical methods where different but related parameters are used for each group. Various sub-models are combined to form the hierarchical model, and Bayes' theorem is used to integrate them with the observed data and account for all the uncertainty that is present[4].\n",
        "\n",
        "In this notebook, we will go into detail for both of the above topics."
      ]
    },
    {
      "cell_type": "markdown",
      "metadata": {
        "id": "hcTkFFSj_n-r",
        "colab_type": "text"
      },
      "source": [
        "## Bayes Factors\n",
        "Bayesian statisitcal methods are gaining more support now-a-days in the research community. Bayes factor provide an alternative to the p-value approach for hypothesis testing. P‐values present a problem that they can be used to make claims of ‘no effect’. P‐values signal the extremeness of the data under the assumption of the null hypothesis and so only tell us the probability of a test statistic at least as extreme as the one observed. P > 0.05 may reflect evidence for ‘no effect’ or data insensitivity, i.e. a failure to distinguish the null hypothesis from the alternative because, for example, the standard error (SE) is high.\n",
        "It only tells us whether the hypothesis can be accepted or not.\n",
        "Bayes factor is a measure of likelood ratio for two hypothesis. It gives the evidence of how better is one hypothesis from the other. The formula for Bayes Factors is mentioned in the previous cell. \n",
        "$$\\text{Bayes Factor (BF) }= \\frac{P(D \\mid H_0)}{P(D \\mid H_1)}$$\n",
        "\n",
        "where $H_0$ and $H_1$ are two hyposthesis being compared, and BF gives us the evidence of $H_0$ being better than $H_1$.\n",
        "It can be interpreted as below:\n",
        "+ If, BF $< 3 $, No Evidence\n",
        "+ If, 3 < BF < 10, Moderate Evidence\n",
        "+ If, 10 < BF < 30, Strong evidence\n",
        "+ If, BF > 30, very strong evidence\n",
        "\n",
        "Below, we will do do an example implementation for hypothesis testing"
      ]
    },
    {
      "cell_type": "markdown",
      "metadata": {
        "id": "x864Za7t_n-z",
        "colab_type": "text"
      },
      "source": [
        "We will use the coin-flipping problem[3] as example. We will have two models and compare them using the Bayes Factor.\n",
        "\n",
        "+ B is the Beta function\n",
        "+ n is the number of trials\n",
        "+ h is the number of success(heads)\n",
        "\n",
        "We will consider 100 flips of coin and compare two models, one with uniform prior and one with a more concentrated prior around $\\theta$ = 0.5 \n",
        "\n",
        "$M_1$ = With a prior of $\\theta$ = 0.5<br>\n",
        "$M_2$ = With no prior (uniform distribution which can be realized by beta distribution using $\\alpha = \\beta = 1$) <br>\n",
        "\n",
        "The equations for the solution are as shown under:\n",
        "\n",
        "the evidence can be found using the below equation:\n",
        "\n",
        "![Image01](https://github.com/Health-Devices/Course-Uncertainty-Evaluation-in-Measurements-and-Machine-Learning/raw/d31e370d1410b8667fb33c98bf04c757ed406810/Course%20Material/4.5/scribing_11_4.PNG)\n",
        "\n",
        "![Image01](https://github.com/Health-Devices/Course-Uncertainty-Evaluation-in-Measurements-and-Machine-Learning/raw/d31e370d1410b8667fb33c98bf04c757ed406810/Course%20Material/4.5/equations_11.3.PNG)\n",
        "\n",
        "![Image01](https://github.com/Health-Devices/Course-Uncertainty-Evaluation-in-Measurements-and-Machine-Learning/raw/d31e370d1410b8667fb33c98bf04c757ed406810/Course%20Material/4.5/scribing_11_4.PNG)\n",
        "Now we will use the above equations ( 11.14) to find out the Bayes factor for comparison of $M_1$ and $M_2$. For this initially we will consider n = 100 tosses of the coin and assume head comes 61 times out of those. keeping the prior for $M_1$ as o.5 , we get the Bayes factor as below"
      ]
    },
    {
      "cell_type": "code",
      "metadata": {
        "id": "IcjWqnRS_n-0",
        "colab_type": "code",
        "colab": {
          "base_uri": "https://localhost:8080/",
          "height": 34
        },
        "outputId": "a793ca07-ddcd-457f-ac18-3083024e332e"
      },
      "source": [
        "# Set up parameters\n",
        "n=100\n",
        "r=61\n",
        "phi=0.5\n",
        "alpha = beta =1\n",
        "\n",
        "# Calculate Bayes Factor\n",
        "BFu = (math.factorial(n)/(math.factorial(r) * math.factorial(n-r)))*pow(phi,r)*pow((1-phi),(n-r)) * (n+1)\n",
        "\n",
        "print(\"The Bayes Factor is:\", BFu)"
      ],
      "execution_count": 3,
      "outputs": [
        {
          "output_type": "stream",
          "text": [
            "The Bayes Factor is: 0.7181839592625815\n"
          ],
          "name": "stdout"
        }
      ]
    },
    {
      "cell_type": "markdown",
      "metadata": {
        "id": "pTVtdDYZ_n-4",
        "colab_type": "text"
      },
      "source": [
        "We see from aboce that we get bayes factor of 0.71, which is less than 3. So according the criteria defined earlier, we will say that there is no evidence of $M_1$ being better than $M_2$\n",
        "\n",
        "Now we will see what happens, if for the same models, we provide the input data as having 100 heads out of 200 tosses."
      ]
    },
    {
      "cell_type": "code",
      "metadata": {
        "id": "IFg4Mbt__n-5",
        "colab_type": "code",
        "colab": {
          "base_uri": "https://localhost:8080/",
          "height": 34
        },
        "outputId": "65d75870-baa8-4542-a8b7-dc6e2a266e06"
      },
      "source": [
        "# Set up parameters\n",
        "n=200\n",
        "r=100\n",
        "phi=0.5\n",
        "alpha = beta =1\n",
        "\n",
        "# Calculate Bayes Factor\n",
        "BFu = (math.factorial(n)/(math.factorial(r) * math.factorial(n-r)))*pow(phi,r)*pow((1-phi),(n-r)) * (n+1)\n",
        "\n",
        "print (\"The Bayes Factor is:\",BFu)"
      ],
      "execution_count": 4,
      "outputs": [
        {
          "output_type": "stream",
          "text": [
            "The Bayes Factor is: 11.326044280860541\n"
          ],
          "name": "stdout"
        }
      ]
    },
    {
      "cell_type": "markdown",
      "metadata": {
        "id": "nqJoQxKu_n-9",
        "colab_type": "text"
      },
      "source": [
        "Here we get BF = 11.32, which is more than 10. Hence from this result, we can say that $M_1$ is better than $M_2$ for the given data. We see this increase in BF due the fact, that the number of data increased and also heads and tails are equal in the distribution thus close to the prior of $M_1$\n",
        "\n",
        "Now we below we have plotted the $log_{10}(BF)$ for various values of r and n. On the X-axis we have $f = \\frac{r}{n}$ "
      ]
    },
    {
      "cell_type": "code",
      "metadata": {
        "id": "Ouzux4NQ_n--",
        "colab_type": "code",
        "colab": {
          "base_uri": "https://localhost:8080/",
          "height": 276
        },
        "outputId": "2d0ede48-aac7-4858-cec4-7948f2a5fbff"
      },
      "source": [
        "# Set up parameters\n",
        "n = [5,10,25,50,100]\n",
        "k = [.10,.2,.3,.4,.5,.6,.7,.8,.9,1]\n",
        "\n",
        "# Plot Bayes Factor\n",
        "for i in n:\n",
        "    f_m=[]\n",
        "    BF_m=[]\n",
        "    for j in k:\n",
        "        r=int(i*j)\n",
        "        f=r/i\n",
        "        BFu = (math.factorial(i)/(math.factorial(r) * math.factorial(i-r)))*pow(phi,r)*pow((1-phi),(i-r)) * (i+1)\n",
        "        BF_m.append(BFu)\n",
        "        f_m.append(f)\n",
        "   \n",
        "    plt.plot(f_m,BF_m,label=r'n = {:d}'.format(i))\n",
        "    plt.legend()\n",
        "    plt.xlabel(\"f\")\n",
        "    plt.ylabel(\"BF\")\n",
        "plt.show()"
      ],
      "execution_count": 5,
      "outputs": [
        {
          "output_type": "display_data",
          "data": {
            "image/png": "[encoded data removed]",
            "text/plain": [
              "<Figure size 432x288 with 1 Axes>"
            ]
          },
          "metadata": {
            "tags": []
          }
        }
      ]
    },
    {
      "cell_type": "markdown",
      "metadata": {
        "id": "Lx0mrLdV_n_A",
        "colab_type": "text"
      },
      "source": [
        "The curves are symmetric around $f = \\frac{1}{2}$, because getting r heads has thesame probability as getting n − r heads when p = 1/2. We also see the BF increases as we increase the number of coin tosses. And within each n, it is highest around f = 0.5. That is the model $M_1$ with prior is better most when we take many data points and the heads are almost equal to tails in that"
      ]
    },
    {
      "cell_type": "markdown",
      "metadata": {
        "id": "ffSJFe-Y_n_B",
        "colab_type": "text"
      },
      "source": [
        "\n",
        "## Hierarchical Models\n",
        "\n",
        "Hierarchical modeling is used when information is available on several different levels of observational units. Various models involve multiple parameters that can be regarded as related or connected in such a way that the problem implies dependence of the joint probability model for these parameters. Hierarchical Models come into play in these scenarios.\n",
        "\n",
        "\n",
        "![Image01](https://github.com/Health-Devices/Course-Uncertainty-Evaluation-in-Measurements-and-Machine-Learning/raw/d31e370d1410b8667fb33c98bf04c757ed406810/Course%20Material/4.5/heirarchical_model.PNG)\n",
        "\n",
        "In the picture above, we have different parameters $x_1$, $x_2$,.... $x_n$, which are are related to each other by $\\theta$. From these different parameters, we get different but similar data points $D_i$\n"
      ]
    },
    {
      "cell_type": "markdown",
      "metadata": {
        "id": "og4KS9Yg_n_B",
        "colab_type": "text"
      },
      "source": [
        "Below we will solve an example using hierarchical models.\n",
        "\n",
        "The problem is to assess the performance of 18 different Sales Agents from two sales regions.\n",
        "We will use the following binomial equation to simulate successful sales for agent k[6]:\n",
        "$$\n",
        "X_k \\sim BINOM(n_k,\\pi_k) \\tag{1}\\\\\n",
        "$$\n",
        "\n",
        "where,\n",
        "+ k = 1,2,3,.... 18 (sales agents) \\\\\n",
        "+ $\\pi_k$ is the success probability for agent k \\\\\n",
        "+ $x_k$ is the successful number sales for agent k\\\\\n",
        "+ $n_k$ is the number of sales tried for agent k \\\\\n",
        "\n",
        "\n",
        "We can use heirarchical models to solve this problem and find the individual 90% credible intervals for each agent. We will pool the data within each region and compute an estimate of the probability of a successful sale within each region.\n",
        "We will use the beta distribution to model the probabiility of success, as it outputs numbers between 0 and 1 with\n",
        "a wide range of shapes depending on the parameters a and b.\n",
        "\n",
        "$$\\pi_k \\sim BETA(a,b) \\text{  for k =1,2,3,4...18} \\tag{2}$$\n",
        "\n",
        "(1) and (2) combined form a beta-binomial hierarchical model. The unknown model parameters a and b can be estimated from the available data.\n",
        "To implement Bayesian estimation for this model, prior is defined using the beta distribution parameters a and b given by equations as $a \\sim GAMMA(0.001,0.001)$ and $b \\sim GAMMA(0.001,0.001)$ (as from book [6]).\n",
        "\n",
        "Below figure is taken from the book [6] which has the problem data. We will take this data as the actual data\n",
        "\n",
        "![Image01](https://github.com/Health-Devices/Course-Uncertainty-Evaluation-in-Measurements-and-Machine-Learning/raw/d31e370d1410b8667fb33c98bf04c757ed406810/Course%20Material/4.5/scribing_sample_data_17.3.png)"
      ]
    },
    {
      "cell_type": "code",
      "metadata": {
        "id": "i3_CVE7e_n_C",
        "colab_type": "code",
        "colab": {
          "base_uri": "https://localhost:8080/",
          "height": 408
        },
        "outputId": "137792a0-1273-475a-d87e-4a1b71ec34fd"
      },
      "source": [
        "## creating actual data for agents from the problem\n",
        "regions = [\"Region 1\",\"Region 1\",\"Region 1\",\"Region 1\",\"Region 1\",\"Region 1\",\"Region 1\",\"Region 1\",\"Region 1\",\n",
        "           \"Region 2\",\"Region 2\",\"Region 2\",\"Region 2\",\"Region 2\",\"Region 2\",\"Region 2\",\"Region 2\",\"Region 2\"]\n",
        "agents = [\"A\",\"B\",\"C\",\"D\",\"E\",\"F\",\"G\",\"H\",\"I\",\"J\",\"K\",\"L\",\"M\",\"N\",\"O\",\"P\",\"Q\",\"R\"]\n",
        "n_k = [12,30,20,26,24,17,38,20,17,24,27,19,14,10,17,33,28,14]\n",
        "p_k = [.5,.7,.9,.58,.71,.65,.66,.8,.71,.67,.67,.58,.64,.80,.76,.64,.71,.5]\n",
        "\n",
        "print(\"The number of sales regions:\", len(regions))\n",
        "print(\"The number of sales agents:\", len(agents))\n",
        "print(\"The size of n_k:\", len(n_k))\n",
        "print(\"The size of p_k:\", len(p_k))\n",
        "\n",
        "data = pd.DataFrame({'p_k':p_k, 'n_k':n_k,'agents':agents,'regions':regions},)\n",
        "print(data)"
      ],
      "execution_count": 6,
      "outputs": [
        {
          "output_type": "stream",
          "text": [
            "The number of sales regions: 18\n",
            "The number of sales agents: 18\n",
            "The size of n_k: 18\n",
            "The size of p_k: 18\n",
            "     p_k  n_k agents   regions\n",
            "0   0.50   12      A  Region 1\n",
            "1   0.70   30      B  Region 1\n",
            "2   0.90   20      C  Region 1\n",
            "3   0.58   26      D  Region 1\n",
            "4   0.71   24      E  Region 1\n",
            "5   0.65   17      F  Region 1\n",
            "6   0.66   38      G  Region 1\n",
            "7   0.80   20      H  Region 1\n",
            "8   0.71   17      I  Region 1\n",
            "9   0.67   24      J  Region 2\n",
            "10  0.67   27      K  Region 2\n",
            "11  0.58   19      L  Region 2\n",
            "12  0.64   14      M  Region 2\n",
            "13  0.80   10      N  Region 2\n",
            "14  0.76   17      O  Region 2\n",
            "15  0.64   33      P  Region 2\n",
            "16  0.71   28      Q  Region 2\n",
            "17  0.50   14      R  Region 2\n"
          ],
          "name": "stdout"
        }
      ]
    },
    {
      "cell_type": "code",
      "metadata": {
        "id": "QjDx4j8b_n_F",
        "colab_type": "code",
        "colab": {
          "base_uri": "https://localhost:8080/",
          "height": 34
        },
        "outputId": "fa55761e-8a0f-43ec-dccf-a464de1de54e"
      },
      "source": [
        "data.region = data.regions.map(str.strip)\n",
        "region_unique = data.region.unique()\n",
        "\n",
        "print(\"The number of region is:\", len(region_unique))\n",
        "\n",
        "region_lookup = dict(zip(region_unique, range(len(region_unique))))"
      ],
      "execution_count": 7,
      "outputs": [
        {
          "output_type": "stream",
          "text": [
            "The number of region is: 2\n"
          ],
          "name": "stdout"
        }
      ]
    },
    {
      "cell_type": "markdown",
      "metadata": {
        "id": "JI6iUPT9_n_G",
        "colab_type": "text"
      },
      "source": [
        "This problem can conventionaly be done in two ways:\n",
        "+ Treat all the agents in same way and fit a single model to all the agents\n",
        "+ Model each agent separately, thus we will have 18 models in total\n",
        "\n",
        "These are both extremites. What we can do is build a heirarchical model on tha basis of 2 regions. So we will end up having 2 models which will fit each region. "
      ]
    },
    {
      "cell_type": "markdown",
      "metadata": {
        "id": "j5I8km8aBYT1",
        "colab_type": "text"
      },
      "source": [
        "### PyMC3 Implementation"
      ]
    },
    {
      "cell_type": "code",
      "metadata": {
        "id": "ay-Qceh6_n_H",
        "colab_type": "code",
        "colab": {}
      },
      "source": [
        "with pm.Model() as heirarchical_model:\n",
        "    ## a and b\n",
        "    a = pm.Gamma(\"a\",0.001,0.001)\n",
        "    b = pm.Gamma(\"b\",0.001,0.001)\n",
        "    ## pi from a and b\n",
        "    pi = pm.Beta(\"pi\",a,b)\n",
        "    n = pm.Normal(\"n\",24,10)\n",
        "    ## noise\n",
        "    #eps = pm.HalfNormal('eps', sd=1)\n",
        "    \n",
        "    x = pm.Binomial(\"x\",n, pi)"
      ],
      "execution_count": 0,
      "outputs": []
    },
    {
      "cell_type": "code",
      "metadata": {
        "id": "wz64RCJg_n_J",
        "colab_type": "code",
        "colab": {},
        "outputId": "4cbc740a-ce13-40ff-cc5a-85851cc722b5"
      },
      "source": [
        "with heirarchical_model:\n",
        "    hierarchical_trace = pm.sample(draws=10000)"
      ],
      "execution_count": 0,
      "outputs": [
        {
          "output_type": "stream",
          "text": [
            "Multiprocess sampling (2 chains in 2 jobs)\n",
            "CompoundStep\n",
            ">NUTS: [n, pi_logodds__, b_log__, a_log__]\n",
            ">Metropolis: [x]\n",
            "Tuning was enabled throughout the whole trace.\n",
            "Tuning was enabled throughout the whole trace.\n",
            "The estimated number of effective samples is smaller than 200 for some parameters.\n"
          ],
          "name": "stderr"
        }
      ]
    },
    {
      "cell_type": "code",
      "metadata": {
        "id": "EOC56z_4_n_L",
        "colab_type": "code",
        "colab": {},
        "outputId": "aa80dfbc-f3b1-4b2c-9a7f-040dfabc2212"
      },
      "source": [
        "from pymc3 import forestplot, traceplot, plot_posterior\n",
        "\n",
        "plt.figure(figsize=(14,14))\n",
        "forestplot(hierarchical_trace)"
      ],
      "execution_count": 0,
      "outputs": [
        {
          "output_type": "execute_result",
          "data": {
            "text/plain": [
              "<matplotlib.gridspec.GridSpec at 0x23d1e1721d0>"
            ]
          },
          "metadata": {
            "tags": []
          },
          "execution_count": 126
        },
        {
          "output_type": "display_data",
          "data": {
            "image/png": "[encoded data removed]",
            "text/plain": [
              "<matplotlib.figure.Figure at 0x23d1dba7ac8>"
            ]
          },
          "metadata": {
            "tags": []
          }
        }
      ]
    },
    {
      "cell_type": "code",
      "metadata": {
        "id": "uH43LLjo_n_M",
        "colab_type": "code",
        "colab": {},
        "outputId": "88ad93d6-3719-4a06-f291-01bc2c53866f"
      },
      "source": [
        "var = ['n', 'x', 'pi','a','b']\n",
        "pm.df_summary(hierarchical_trace, var)"
      ],
      "execution_count": 0,
      "outputs": [
        {
          "output_type": "execute_result",
          "data": {
            "text/html": [
              "<div>\n",
              "<style>\n",
              "    .dataframe thead tr:only-child th {\n",
              "        text-align: right;\n",
              "    }\n",
              "\n",
              "    .dataframe thead th {\n",
              "        text-align: left;\n",
              "    }\n",
              "\n",
              "    .dataframe tbody tr th {\n",
              "        vertical-align: top;\n",
              "    }\n",
              "</style>\n",
              "<table border=\"1\" class=\"dataframe\">\n",
              "  <thead>\n",
              "    <tr style=\"text-align: right;\">\n",
              "      <th></th>\n",
              "      <th>mean</th>\n",
              "      <th>sd</th>\n",
              "      <th>mc_error</th>\n",
              "      <th>hpd_2.5</th>\n",
              "      <th>hpd_97.5</th>\n",
              "      <th>n_eff</th>\n",
              "      <th>Rhat</th>\n",
              "    </tr>\n",
              "  </thead>\n",
              "  <tbody>\n",
              "    <tr>\n",
              "      <th>n</th>\n",
              "      <td>24.147355</td>\n",
              "      <td>10.074902</td>\n",
              "      <td>0.348284</td>\n",
              "      <td>4.993046e+00</td>\n",
              "      <td>43.706229</td>\n",
              "      <td>587.0</td>\n",
              "      <td>1.001266</td>\n",
              "    </tr>\n",
              "    <tr>\n",
              "      <th>x</th>\n",
              "      <td>4.197100</td>\n",
              "      <td>8.882097</td>\n",
              "      <td>0.798349</td>\n",
              "      <td>0.000000e+00</td>\n",
              "      <td>25.000000</td>\n",
              "      <td>51.0</td>\n",
              "      <td>1.002344</td>\n",
              "    </tr>\n",
              "    <tr>\n",
              "      <th>pi</th>\n",
              "      <td>0.171935</td>\n",
              "      <td>0.312334</td>\n",
              "      <td>0.026122</td>\n",
              "      <td>9.370181e-14</td>\n",
              "      <td>0.961816</td>\n",
              "      <td>51.0</td>\n",
              "      <td>1.008672</td>\n",
              "    </tr>\n",
              "    <tr>\n",
              "      <th>a</th>\n",
              "      <td>13.340624</td>\n",
              "      <td>78.392103</td>\n",
              "      <td>4.660789</td>\n",
              "      <td>2.041582e-05</td>\n",
              "      <td>38.585128</td>\n",
              "      <td>246.0</td>\n",
              "      <td>1.000157</td>\n",
              "    </tr>\n",
              "    <tr>\n",
              "      <th>b</th>\n",
              "      <td>109.443203</td>\n",
              "      <td>302.443890</td>\n",
              "      <td>5.511326</td>\n",
              "      <td>2.888897e-05</td>\n",
              "      <td>562.326893</td>\n",
              "      <td>2877.0</td>\n",
              "      <td>1.000609</td>\n",
              "    </tr>\n",
              "  </tbody>\n",
              "</table>\n",
              "</div>"
            ],
            "text/plain": [
              "          mean          sd  mc_error       hpd_2.5    hpd_97.5   n_eff  \\\n",
              "n    24.147355   10.074902  0.348284  4.993046e+00   43.706229   587.0   \n",
              "x     4.197100    8.882097  0.798349  0.000000e+00   25.000000    51.0   \n",
              "pi    0.171935    0.312334  0.026122  9.370181e-14    0.961816    51.0   \n",
              "a    13.340624   78.392103  4.660789  2.041582e-05   38.585128   246.0   \n",
              "b   109.443203  302.443890  5.511326  2.888897e-05  562.326893  2877.0   \n",
              "\n",
              "        Rhat  \n",
              "n   1.001266  \n",
              "x   1.002344  \n",
              "pi  1.008672  \n",
              "a   1.000157  \n",
              "b   1.000609  "
            ]
          },
          "metadata": {
            "tags": []
          },
          "execution_count": 124
        }
      ]
    },
    {
      "cell_type": "code",
      "metadata": {
        "id": "GQLLSwN-_n_O",
        "colab_type": "code",
        "colab": {},
        "outputId": "5fa1da26-8779-4cf2-b4ba-64b653a0fb04"
      },
      "source": [
        "pm.autocorrplot(hierarchical_trace, var);"
      ],
      "execution_count": 0,
      "outputs": [
        {
          "output_type": "display_data",
          "data": {
            "image/png": "[encoded data removed]",
            "text/plain": [
              "<matplotlib.figure.Figure at 0x23d1b5c7b00>"
            ]
          },
          "metadata": {
            "tags": []
          }
        }
      ]
    },
    {
      "cell_type": "markdown",
      "metadata": {
        "id": "4ID2yh3tBczn",
        "colab_type": "text"
      },
      "source": [
        "### TFP Implementation"
      ]
    },
    {
      "cell_type": "code",
      "metadata": {
        "id": "WsMMQPfSBjTf",
        "colab_type": "code",
        "colab": {}
      },
      "source": [
        "###=================== Define the model =====================\n",
        "def joint_log_prob(a, b, pi, n, x):\n",
        "  \n",
        "  # a and b\n",
        "  rv_a = tfd.Gamma(concentration=0.001, rate=0.001)\n",
        "  rv_b = tfd.Gamma(concentration=0.001, rate=0.001)\n",
        "  \n",
        "  # pi from a and b\n",
        "  rv_pi = tfd.Beta(a, b)\n",
        "  rv_n = tfd.Normal(loc=24., scale=10.)\n",
        "  \n",
        "  # x\n",
        "  rv_x = tfd.Binomial(total_count=n, probs=pi)\n",
        "   \n",
        "  return (rv_a.log_prob(a) + rv_b.log_prob(b)\n",
        "         + rv_pi.log_prob(pi) + rv_n.log_prob(n)\n",
        "         + rv_x.log_prob(x))\n",
        "\n",
        "def unnormalized_posterior(a, b, pi, n, x):\n",
        "  return joint_log_prob(a, b, pi, n, x)"
      ],
      "execution_count": 0,
      "outputs": []
    },
    {
      "cell_type": "code",
      "metadata": {
        "id": "7OYNFjRiD4DF",
        "colab_type": "code",
        "colab": {
          "base_uri": "https://localhost:8080/",
          "height": 115
        },
        "outputId": "2005d02d-25b8-4b7a-9a40-ca7c1f84d534"
      },
      "source": [
        "###=================== Sample the model =====================\n",
        "\n",
        "# Initialize the HMC transition kernel.\n",
        "num_results = int(10e3)\n",
        "num_burnin_steps = int(1e3)\n",
        "\n",
        "adaptive_hmc = tfp.mcmc.SimpleStepSizeAdaptation(\n",
        "    tfp.mcmc.HamiltonianMonteCarlo(\n",
        "        target_log_prob_fn=unnormalized_posterior,\n",
        "        num_leapfrog_steps=3,\n",
        "        step_size=1.),\n",
        "    num_adaptation_steps=int(num_burnin_steps * 0.8))\n",
        "\n",
        "# Wrap sample_chain in function\n",
        "def run_chain():\n",
        "  # Run the chain (with burn-in).\n",
        "  samples, is_accepted = tfp.mcmc.sample_chain(\n",
        "      num_results=num_results,\n",
        "      num_burnin_steps=num_burnin_steps,\n",
        "      current_state=initial_state,\n",
        "      kernel=adaptive_hmc,\n",
        "      trace_fn=lambda _, pkr: pkr.inner_results.is_accepted)\n",
        "  \n",
        "  is_accepted = tf.reduce_mean(tf.cast(is_accepted, dtype=tf.float32))\n",
        "  \n",
        "  return samples, is_accepted\n",
        "\n",
        "# Call run_chain\n",
        "initial_state = [tf.zeros(1), tf.zeros(1), tf.zeros(1), tf.zeros(1), tf.zeros(1)]\n",
        "samples, is_accepted = run_chain()\n",
        "sampled_a, sampled_b, sampled_pi, sampled_n, sampled_x = samples"
      ],
      "execution_count": 11,
      "outputs": [
        {
          "output_type": "stream",
          "text": [
            "WARNING: Logging before flag parsing goes to stderr.\n",
            "W0824 19:18:41.568292 140475748681600 deprecation.py:323] From /usr/local/lib/python3.6/dist-packages/tensorflow/python/ops/math_ops.py:2403: add_dispatch_support.<locals>.wrapper (from tensorflow.python.ops.array_ops) is deprecated and will be removed in a future version.\n",
            "Instructions for updating:\n",
            "Use tf.where in 2.0, which has the same broadcast rule as np.where\n"
          ],
          "name": "stderr"
        }
      ]
    },
    {
      "cell_type": "code",
      "metadata": {
        "id": "VcDFERsWEbSi",
        "colab_type": "code",
        "colab": {}
      },
      "source": [
        "###=================== Trace the sampling =====================\n",
        "\n",
        "# Plot sampled_a\n",
        "plt.plot(sampled_a, label=\"sampled_a\")\n",
        "plt.title(\"sampled_a\")\n",
        "plt.show()\n",
        "\n",
        "# Plot sampled_b\n",
        "plt.plot(sampled_b, label=\"sampled_b\")\n",
        "plt.title(\"sampled_b\")\n",
        "plt.show()\n",
        "\n",
        "# Plot sampled_pi\n",
        "plt.plot(sampled_pi, label=\"sampled_pi\")\n",
        "plt.title(\"sampled_pi\")\n",
        "plt.show()\n",
        "\n",
        "# Plot sampled_n\n",
        "plt.plot(sampled_n, label=\"sampled_n\")\n",
        "plt.title(\"sampled_n\")\n",
        "plt.show()\n",
        "\n",
        "# Plot sampled_x\n",
        "plt.plot(sampled_n, label=\"sampled_x\")\n",
        "plt.title(\"sampled_x\")\n",
        "plt.show()"
      ],
      "execution_count": 0,
      "outputs": []
    },
    {
      "cell_type": "markdown",
      "metadata": {
        "id": "7VL7PY3y_n_Q",
        "colab_type": "text"
      },
      "source": [
        "\n",
        "## References\n",
        "\n",
        "[1] Bayes factor from Wikipedia: https://en.wikipedia.org/wiki/Bayes_factor <br>\n",
        "[2] Using Bayes factors for testing hypotheses about intervention effectiveness in addictions research. https://www.ncbi.nlm.nih.gov/pmc/articles/PMC5111611/<br>\n",
        "[3] Bayes Factors and Marginal Likelihood. https://docs.pymc.io/notebooks/Bayes_factor.html<br>\n",
        "[4] Bayesian hierarchical modeling. https://en.wikipedia.org/wiki/Bayesian_hierarchical_modeling<br>\n",
        "[5] The Best Of Both Worlds: Hierarchical Linear Regression in PyMC3. http://twiecki.github.io/blog/2014/03/17/bayesian-glms-3/<br>\n",
        "[6] W. Meeker, G. Hahn and L. Escobar, STATISTICAL INTERVALS A Guide for Practitioners and Researchers, 2nd ed. John Wiley & Sons Inc., 2017, pp. 353-360.<br>\n",
        "[7] C. A.L and B. Jones, Practical Bayesian inference - A primer for Physical students. Cambridge: Cambridge University Press, 2017, p. Chapter 11.<br>\n",
        "[8] ]Tensorflow Probability[Online] https://www.tensorflow.org/probability"
      ]
    }
  ]
}