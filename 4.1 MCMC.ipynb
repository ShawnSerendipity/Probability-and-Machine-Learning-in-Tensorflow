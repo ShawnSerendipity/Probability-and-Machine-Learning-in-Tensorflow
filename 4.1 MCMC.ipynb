{
  "nbformat": 4,
  "nbformat_minor": 0,
  "metadata": {
    "anaconda-cloud": {},
    "celltoolbar": "Slideshow",
    "kernelspec": {
      "display_name": "Python [default]",
      "language": "python",
      "name": "python3"
    },
    "language_info": {
      "codemirror_mode": {
        "name": "ipython",
        "version": 3
      },
      "file_extension": ".py",
      "mimetype": "text/x-python",
      "name": "python",
      "nbconvert_exporter": "python",
      "pygments_lexer": "ipython3",
      "version": "3.5.2"
    },
    "colab": {
      "name": "4.1 MCMC.ipynb",
      "version": "0.3.2",
      "provenance": [],
      "collapsed_sections": []
    }
  },
  "cells": [
    {
      "cell_type": "markdown",
      "metadata": {
        "id": "QzVtmipIRudO",
        "colab_type": "text"
      },
      "source": [
        "# 4.1 MCMC"
      ]
    },
    {
      "cell_type": "markdown",
      "metadata": {
        "id": "FXzx2gP6RudQ",
        "colab_type": "text"
      },
      "source": [
        "## Objectives\n",
        "\n",
        "+ Intro: Bayesian Analysis\n",
        "+ Markov Chain analysis and Monte Carlo Markov chain(MCMC) \n",
        "+ MCMC methods: Metropolis-Hastings, Gibbs Sampling\n"
      ]
    },
    {
      "cell_type": "markdown",
      "metadata": {
        "id": "7WRsftQLRudR",
        "colab_type": "text"
      },
      "source": [
        "### List of Symbols :\n",
        "$--\\mu$ is the mean<br>\n",
        "$-- \\sigma^2$ is the variance<br>\n",
        "$-- y_i$ represents the height of a person $i$<br>\n",
        "$--\\large\\epsilon_i$ is the individual error term<br>\n",
        "$--\\ $X is the set of states<br>\n",
        "$--x_t$ is the current state<br>\n",
        "$--x_{t+1}$ is the next state<br>\n",
        "$--X$ is the current state<br>\n",
        "$--X^|$ is the next state<br>\n",
        "$--\\normalsize\\rho$ is the acceptance ratio<br>\n",
        "$--θ$ is the vector of parameters\n"
      ]
    },
    {
      "cell_type": "code",
      "metadata": {
        "id": "vpCu5b38SW80",
        "colab_type": "code",
        "colab": {}
      },
      "source": [
        "#@title Import { display-mode: \"form\" }\n",
        "\n",
        "import numpy as np\n",
        "import matplotlib.pyplot as plt\n",
        "import tensorflow as tf\n",
        "import tensorflow_probability as tfp\n",
        "\n",
        "tfd = tf.distributions "
      ],
      "execution_count": 0,
      "outputs": []
    },
    {
      "cell_type": "markdown",
      "metadata": {
        "id": "9Pg8mdEmRudS",
        "colab_type": "text"
      },
      "source": [
        "## Introduction to Bayesian Analysis:\n",
        "\n",
        "Following are the two ways of doing Bayesian analysis.\n",
        "\n",
        "1. Traditional - where solving problems in Mathematics is involved\n",
        "2. Probabilistic Programming\n",
        "\n",
        "**Overview - Probabilistic Programming:**\n",
        "\n",
        "Below are the steps involved.\n",
        "\n",
        "1. Understand the problem.\n",
        "2. Collect the data.\n",
        "3. Data exploration.\n",
        "4. Define a model(s).\n",
        "5. Fit data to the model.\n",
        "6. Diagnostic tests to check the model.\n",
        "7. Repeat steps 4,5 and 6 until arriving at a desired model.\n",
        "8. Use the model.\n",
        "\n",
        "Let $\\large y$ be our data and $ \\theta $ is the parameter of interest.\n",
        "<br>\n",
        "and, $Y\\sim N(\\mu,\\sigma^2)$ , $\\theta \\sim (\\mu,\\sigma)$\n",
        "<br>\n",
        "<br>\n",
        "Now, lets define components of a Bayesian model,\n",
        "<br>\n",
        "<br>\n",
        "$$\\large p(\\large y): \\normalsize Evidence$$\n",
        "\n",
        "\n",
        "$$\\large p( \\theta ): \\normalsize Prior$$\n",
        "\n",
        "\n",
        "$$ \\large p(\\large y\\ |\\ \\theta ): \\normalsize Likelihood $$\n",
        "\n",
        "\n",
        "$$\\large p(\\theta\\ |\\ \\large y): \\normalsize Posterior$$\n",
        "\n",
        "From Bayes theorem,\n",
        "<br>\n",
        "<br>\n",
        "$$\\large p(\\theta\\ |\\ \\large y) = \\frac {\\large p(\\large y\\ |\\ \\theta )\\ \\large p( \\theta )}{\\large p(\\large y)}$$\n",
        "\n",
        "\n",
        "**Example:**$\\tag{1}$\n",
        "<br>\n",
        "<br>\n",
        "Suppose a data consists of 15 adult men i.e. n = 15 and $\\large y$ is our data set.\n",
        "<br>\n",
        "<br>\n",
        "Now,$\\ \\ \\large y_i = \\mu + \\epsilon_i$ $\\ \\ $ where $\\large y_i$ represents the height of a person $i$, $\\large\\mu$ is the mean height of all men and $\\large\\epsilon_i$ is the individual error term.\n",
        "<br>\n",
        "Assume $\\large\\epsilon_i\\normalsize\\sim N(0,\\sigma^2)$ and all $\\large\\epsilon$s are independent and identically distributed.\n",
        "<br>\n",
        "Equivalently we can write $\\large y_i\\normalsize\\sim N(\\mu,\\sigma^2)$ $\\ \\ $where all $\\large y_i$s are independent and identically distributed.\n",
        "\n",
        "\n",
        "Now lets define the 3 primary components of the Bayesian model,\n",
        "<br>\n",
        "**Likelihood** $\\big(\\normalsize p(\\large y\\ \\normalsize|\\normalsize\\ \\theta )\\big)$**:** Its probabilistic model of the data, it describes given the unknown parameters how the data might be generated.\n",
        "<br>\n",
        "**Prior**$\\big(\\normalsize p(\\normalsize\\ \\theta )\\big)$**:** Its the probability distribution that characterizes our uncertainty with the parameter $\\theta$\n",
        "<br>\n",
        "<br>\n",
        "Joint distribution of $\\large y, \\normalsize\\theta$ can be written as $$ \\large p\\normalsize(\\large y\\ ,\\normalsize\\theta ) = \\large p( \\theta )\\large p(\\large y\\ |\\ \\theta )$$\n",
        "\n",
        "Now the **Potsterior distribution** can be written as, $$\\large p(\\normalsize\\theta\\ |\\ \\large y) = \\frac {\\large p\\normalsize(\\large y\\ ,\\normalsize\\theta )}{\\large p(\\large y)}$$\n",
        "<br>\n",
        "$$\\large p(\\normalsize\\theta\\ |\\ \\large y) = \\frac {\\large p\\normalsize(\\large y\\ \\normalsize|\\ \\theta )\\ \\large p\\normalsize( \\theta )}{\\large p(\\large y)}$$\n",
        "\n",
        "Before fitting any data one convenient way is to write down the hierarchical form of the model.\n",
        "<br>\n",
        "$\\large y_i|_{\\mu,\\sigma^2}\\normalsize\\sim N(\\mu,\\sigma^2)$ for $i$ = 1,2,...n and where all $\\large y_i$s are IID.\n",
        "<br>\n",
        "$ \\large p\\normalsize(\\mu\\ ,\\sigma^2 ) = \\large p\\normalsize( \\mu )\\ \\large p\\normalsize(\\sigma^2 )$  Assuming $\\mu$ and $\\sigma^2$ are independent priors.\n",
        "\n",
        "Now the Hierarchical model can be represented as below.<br>\n",
        "![hier1](https://github.com/Health-Devices/Course-Uncertainty-Evaluation-in-Measurements-and-Machine-Learning/raw/d31e370d1410b8667fb33c98bf04c757ed406810/Course%20Material/4.1/hier-1.PNG)\n",
        "<br>\n",
        "Which can further be simplified as below.<br>\n",
        "![hier2](https://github.com/Health-Devices/Course-Uncertainty-Evaluation-in-Measurements-and-Machine-Learning/raw/d31e370d1410b8667fb33c98bf04c757ed406810/Course%20Material/4.1/hier-2.PNG)\n",
        "<br>\n",
        "\n",
        "\n",
        "If we assume prior for $\\mu$ depends on the value of $\\sigma^2$ as $\\mu|\\sigma^2 \\sim N(\\mu_0,\\frac{\\sigma^2}{\\omega_0})$\n",
        "<br>\n",
        "Joint distribution can be written as:\n",
        "<br>\n",
        "Then the Hierarchical model can be represented as below.<br>\n",
        "![hier3](https://github.com/Health-Devices/Course-Uncertainty-Evaluation-in-Measurements-and-Machine-Learning/raw/d31e370d1410b8667fb33c98bf04c757ed406810/Course%20Material/4.1/hier-3.PNG)\n",
        "<br>\n",
        "However, if we do not use conjugate priors or if the models are more complicated then the posterior distribution will not have a standard form that we can recognize. MCMC will be used in such cases which explores the whole space and in a more efficient way by focusing on regions of high probability."
      ]
    },
    {
      "cell_type": "markdown",
      "metadata": {
        "id": "L-kRzj9Yge9t",
        "colab_type": "text"
      },
      "source": [
        "## Programming in tensorflow"
      ]
    },
    {
      "cell_type": "markdown",
      "metadata": {
        "id": "JHm9-_VtUNLY",
        "colab_type": "text"
      },
      "source": [
        "### Generate Data Set"
      ]
    },
    {
      "cell_type": "code",
      "metadata": {
        "colab_type": "code",
        "id": "qzsB8f6UTyPM",
        "outputId": "8a57d893-7804-49ea-c6bf-2655f0cc9b0d",
        "colab": {
          "base_uri": "https://localhost:8080/",
          "height": 312
        }
      },
      "source": [
        "# Observed data\n",
        "n = 15      # number of people\n",
        "true_mu = 178.\n",
        "true_sigma = 20.\n",
        "true_y = true_mu + np.random.normal(0., 20.)\n",
        "generated_y = true_mu + np.random.normal(0., 20., n)\n",
        "\n",
        "# Visualize the data\n",
        "x = np.linspace(1, 15, 15)\n",
        "plt.scatter(x, generated_y)\n",
        "plt.title(\"Gereated data set\")\n",
        "plt.xlabel(\"people\")\n",
        "plt.ylabel(\"height\")"
      ],
      "execution_count": 0,
      "outputs": [
        {
          "output_type": "execute_result",
          "data": {
            "text/plain": [
              "Text(0, 0.5, 'height')"
            ]
          },
          "metadata": {
            "tags": []
          },
          "execution_count": 2
        },
        {
          "output_type": "display_data",
          "data": {
            "image/png": "[encoded data removed]",
            "text/plain": [
              "<Figure size 432x288 with 1 Axes>"
            ]
          },
          "metadata": {
            "tags": []
          }
        }
      ]
    },
    {
      "cell_type": "markdown",
      "metadata": {
        "id": "AuZSUFjtUSK0",
        "colab_type": "text"
      },
      "source": [
        "### Build the Model"
      ]
    },
    {
      "cell_type": "code",
      "metadata": {
        "id": "T2cD_uEnUReX",
        "colab_type": "code",
        "colab": {}
      },
      "source": [
        "def joint_log_prob(mu, sigma, y):\n",
        "  \n",
        "  # prior\n",
        "  rv_mu = tfd.Normal(loc=0., scale=20.)\n",
        "  rv_sigma = tfd.Uniform(low=0., high=20.)\n",
        "  \n",
        "  # likelihood\n",
        "  rv_likelihood = tfd.Normal(loc=mu, scale=sigma)\n",
        "   \n",
        "  return (rv_mu.log_prob(mu) + rv_sigma.log_prob(sigma) + rv_likelihood.log_prob(y))"
      ],
      "execution_count": 0,
      "outputs": []
    },
    {
      "cell_type": "code",
      "metadata": {
        "id": "dn1AOT93R3na",
        "colab_type": "code",
        "colab": {}
      },
      "source": [
        "def unnormalized_posterior(mu, sigma):\n",
        "  return joint_log_prob(mu, sigma, true_y)"
      ],
      "execution_count": 0,
      "outputs": []
    },
    {
      "cell_type": "markdown",
      "metadata": {
        "id": "T93ppX-dVzDr",
        "colab_type": "text"
      },
      "source": [
        "### Build HMC TransitionKernel and call sample_chain"
      ]
    },
    {
      "cell_type": "code",
      "metadata": {
        "id": "Z9xNUAsOVuyK",
        "colab_type": "code",
        "colab": {}
      },
      "source": [
        "# Initialize the HMC transition kernel.\n",
        "num_results = int(10e3)\n",
        "num_burnin_steps = int(1e3)\n",
        "\n",
        "adaptive_hmc = tfp.mcmc.SimpleStepSizeAdaptation(\n",
        "    tfp.mcmc.HamiltonianMonteCarlo(\n",
        "        target_log_prob_fn=unnormalized_posterior,\n",
        "        num_leapfrog_steps=3,\n",
        "        step_size=1.),\n",
        "    num_adaptation_steps=int(num_burnin_steps * 0.8))"
      ],
      "execution_count": 0,
      "outputs": []
    },
    {
      "cell_type": "code",
      "metadata": {
        "id": "KDuOEa0AV4go",
        "colab_type": "code",
        "colab": {}
      },
      "source": [
        "# Wrap sample_chain in function\n",
        "def run_chain():\n",
        "  # Run the chain (with burn-in).\n",
        "  samples, is_accepted = tfp.mcmc.sample_chain(\n",
        "      num_results=num_results,\n",
        "      num_burnin_steps=num_burnin_steps,\n",
        "      current_state=initial_state,\n",
        "      kernel=adaptive_hmc,\n",
        "      trace_fn=lambda _, pkr: pkr.inner_results.is_accepted)\n",
        "  \n",
        "  is_accepted = tf.reduce_mean(tf.cast(is_accepted, dtype=tf.float32))\n",
        "  \n",
        "  return samples, is_accepted"
      ],
      "execution_count": 0,
      "outputs": []
    },
    {
      "cell_type": "code",
      "metadata": {
        "id": "RHHFkWQ9Wac-",
        "colab_type": "code",
        "colab": {}
      },
      "source": [
        "# Call run_chain\n",
        "initial_state = [tf.zeros(1), tf.ones(1)]\n",
        "samples, is_accepted = run_chain()\n",
        "sampled_mu, sampled_sigma = samples"
      ],
      "execution_count": 0,
      "outputs": []
    },
    {
      "cell_type": "markdown",
      "metadata": {
        "id": "JpX60yf1dDwX",
        "colab_type": "text"
      },
      "source": [
        "### Trac the sampling"
      ]
    },
    {
      "cell_type": "code",
      "metadata": {
        "id": "RjVQF3asYyEs",
        "colab_type": "code",
        "outputId": "281bb3b2-7d4c-4670-e931-ecb3be429252",
        "colab": {
          "base_uri": "https://localhost:8080/",
          "height": 545
        }
      },
      "source": [
        "# Run computational graph\n",
        "with tf.Session() as sess:\n",
        "  sampled_mu = sess.run(sampled_mu)\n",
        "  sampled_sigma = sess.run(sampled_sigma)\n",
        "\n",
        "# Plot sampled mu\n",
        "plt.plot(sampled_mu, label=\"sampled_mu\")\n",
        "plt.title(\"sampled_mu\")\n",
        "plt.show()\n",
        "\n",
        "# Plot sampled sigma\n",
        "plt.plot(sampled_sigma, label=\"sampled_sigma\")\n",
        "plt.title(\"sampled_sigma\")\n",
        "plt.show()"
      ],
      "execution_count": 0,
      "outputs": [
        {
          "output_type": "display_data",
          "data": {
            "image/png": "[encoded data removed]",
            "text/plain": [
              "<Figure size 432x288 with 1 Axes>"
            ]
          },
          "metadata": {
            "tags": []
          }
        },
        {
          "output_type": "display_data",
          "data": {
            "image/png": "[encoded data removed]",
            "text/plain": [
              "<Figure size 432x288 with 1 Axes>"
            ]
          },
          "metadata": {
            "tags": []
          }
        }
      ]
    },
    {
      "cell_type": "markdown",
      "metadata": {
        "id": "QUjKQ-Y0Rudb",
        "colab_type": "text"
      },
      "source": [
        "## Markov Chain Analysis\n",
        "\n",
        "We describe a Markov chain as follows: We have a set of states, X = {$x_1$, $x_2$,...,$x_n$}.The process starts in one of these states and moves successively from one state to another. Each move is called a step. If the chain is currently in state $x_t$, then it moves to state $x_{t+1}$ at the next step with a probability denoted by $p(x_{t+1}|x_t)$ which is called **Transition probability**, and this probability does not depend upon which states the chain was in before the current state.\n",
        "\n",
        "Mathematically, $$p(X_{t+1}|X_t,X_{t−1}, \\ldots ,X_2,X_1)=p(X_{t+1}|X_t)$$\n",
        "\n",
        "**Example 1:** $\\tag{2}$\n",
        "<br>\n",
        "For 3 discrete states shown below, there are transition probabilities to\n",
        "move to other states, as well as a probability to stay in the\n",
        "same state.<br>\n",
        "![hier4](https://github.com/Health-Devices/Course-Uncertainty-Evaluation-in-Measurements-and-Machine-Learning/raw/d31e370d1410b8667fb33c98bf04c757ed406810/Course%20Material/4.1/hier-4.PNG)<br>\n",
        "<br>\n",
        "$$\\ p(A \\rightarrow A)=0.7\\ \\ \\ \\ \\ \\ \\ p(A \\rightarrow B)=0.3\\ \\ \\ \\ p(A \\rightarrow C)=0.0$$\n",
        "<br>\n",
        "$$\\ \\ p(B \\rightarrow A)=0.15\\ \\ \\ \\ \\ p(B \\rightarrow B)=0.6\\ \\ \\ \\ p(B \\rightarrow C)=0.25$$\n",
        "<br>\n",
        "$$p(C \\rightarrow A)=0.1\\ \\ \\ \\ \\ \\ \\ p(C \\rightarrow B)=0.3\\ \\ \\ \\ p(C \\rightarrow C)=0.6$$\n",
        "\n",
        "<br>\n",
        "<br>\n",
        "Transition probability matrix can be written as,\n",
        "$P = $\n",
        "$\\begin{bmatrix} \n",
        "0.7 & 0.3 & 0.0 \\\\ \n",
        "0.15 & 0.6 & 0.25 \\\\ \n",
        "0.1 & 0.3 & 0.6  \n",
        "\\end{bmatrix}$\n",
        "\n",
        "Now, let us assume at time n the system is in state 2 = B, then 3 time periods later at time n+3 the distribution is,\n",
        "<br>\n",
        "\n",
        "$$x^{(n+3)} = x^{(n+2)}P$$\n",
        "<br>\n",
        "$$ \\ \\ \\ \\ \\ \\ \\ \\ \\ \\ \\ \\ \\ \\ \\ \\ = (\\ x^{(n+1)}P\\ )P$$\n",
        "<br>\n",
        "$$ \\ \\ \\ \\ \\ \\ \\ \\ \\ \\ \\ \\ \\ \\ \\ = (\\ x^{(n)}P\\ )P^2$$\n",
        "<br>\n",
        "$$ \\ \\ \\ \\ \\ \\ = x^n P^3$$\n",
        "$$\\ \\ \\ \\ \\ \\ \\ \\ \\ \\ \\ \\ \\ \\ \\ \\ \\ \\ \\ \\ \\ \\ \\ \\ \\ \\ \\ \\ \\ \\ \\ \\ \\ \\ \\ \\ \\ \\ \\ \\ \\ \\ \\ \\ \\ \\ \\ \\ \\ \\ \\ \\ \\ = \\begin{bmatrix} \n",
        "0 & 1 & 0 \n",
        "\\end{bmatrix}\n",
        "\\begin{bmatrix} \n",
        "0.7 & 0.3 & 0.0 \\\\ \n",
        "0.15 & 0.6 & 0.25 \\\\ \n",
        "0.1 & 0.3 & 0.6  \n",
        "\\end{bmatrix}^3\n",
        "$$\n",
        "\n",
        "$$\\ \\ \\ \\ \\ \\ \\ \\ \\ \\ \\ \\ \\ \\ \\ \\ \\ \\ \\ \\ \\ \\ \\ \\ \\ \\ \\ \\ \\ \\ \\ \\ \\ \\ \\ \\ \\ \\ \\ \\ \\ \\ \\ \\ \\ \\ \\ \\ \\ \\ \\ \\ \\ \\ \\ \\ \\ \\ \\ \\ \\ \\ \\ = \\begin{bmatrix} \n",
        "0 & 1 & 0 \n",
        "\\end{bmatrix}\n",
        "\\begin{bmatrix} \n",
        "0.4405 & 0.417 & 0.1425 \\\\ \n",
        "0.256 & 0.444 & 0.3 \\\\ \n",
        "0.2245 & 0.417 & 0.3585  \n",
        "\\end{bmatrix}\n",
        "$$\n",
        "\n",
        "$$\\ \\ \\ \\ \\ \\ \\ \\ \\ \\ \\ \\ \\ \\ \\ \\ \\ \\ \\ \\ \\ \\ \\ \\ \\ \\ \\ \\ \\ \\ \\ \\ \\ \\ \\ = \\begin{bmatrix} \n",
        "0.256 & 0.444 & 0.3 \n",
        "\\end{bmatrix}\n",
        "$$\n",
        "\n",
        "**Example 2:** $\\tag{2}$\n",
        "<br>\n",
        "• Let’s make a simulation of a chain with two different starting points; one change starting at 100 and another at -27.\n",
        "<br>\n",
        "• The step to $X_{t+1}$ from $X_t$ is governed by a random number drawn from a normalized gaussian PDF (scipy.stats.norm()) that is dependent on $X_t$\n",
        "<br>\n",
        "• The PDF is of the form: $$ \\frac {1}{{\\sigma}\\sqrt{2\\pi}}e^{- \\left(\\frac{({x- 0.5X_t})^{2}}{2{\\sigma}^{2}}\\right)}\\ \\ \\ \\ \\ \\ \\ \\ \\ \\ \\sigma = 1 $$\n",
        "\n",
        "• Plot the values versus the iteration number. The point here is to see the Markov chain converge to a stationary\n",
        "distribution.\n",
        "<br>\n",
        "• After maybe 5-10 iterations from the starting point the chains look to converge to some stationary behavior.\n",
        "<br>\n",
        "![hier5](https://github.com/Health-Devices/Course-Uncertainty-Evaluation-in-Measurements-and-Machine-Learning/raw/d31e370d1410b8667fb33c98bf04c757ed406810/Course%20Material/4.1/hier-5.PNG)\n",
        "<br>\n",
        "• The samples before convergence are commonly known as ‘burn-in samples’ and are not often included when estimating the posterior distribution. They’re generally just discarded and understood as the cost of using Markov Chain Monte Carlos.\n",
        "<br>\n",
        "• Assuming that the distribution that this chain converges to is a gaussian, use the samples after some number of iterations (~10) to estimate the mean and sigma.\n",
        "<br>\n",
        "![hier6](https://github.com/Health-Devices/Course-Uncertainty-Evaluation-in-Measurements-and-Machine-Learning/raw/d31e370d1410b8667fb33c98bf04c757ed406810/Course%20Material/4.1/hier-6.PNG)\n",
        "<br>\n",
        "<br>\n",
        "  "
      ]
    },
    {
      "cell_type": "markdown",
      "metadata": {
        "id": "n78qhvVyRudc",
        "colab_type": "text"
      },
      "source": [
        "### MCMC:\n",
        "With MCMC, samples are drawn from a proposal distribution so that each draw depends only on the state of the previous draw (i.e. the samples form a Markov chain). Under certain conditions, the Markov chain will have a unique stationary distribution. In addition, not all samples are used - instead we set up acceptance criteria for each draw based on comparing successive states with respect to a target distribution that ensure that the stationary distribution is the posterior distribution of interest [3]. \n",
        "<br>\n",
        "<br>\n",
        "While there are many MCMC methods available, its two common variants namely Metropolis-Hastings and Gibbs samplers are described below.\n",
        "\n",
        "\n",
        "### 1. Metropolis-Hastings:\n",
        "\n",
        "Let us assume $X$ is moving from its current state to the next state i.e. $X \\rightarrow X^|$\n",
        "<br>\n",
        "Now we can write, $$p(X)p(X \\rightarrow X^|) = p(X^|)p(X^| \\rightarrow X)$$\n",
        "<br>\n",
        "$$\\frac{p(X \\rightarrow X^|)}{p(X^| \\rightarrow X)} = \\frac{p(X^|)}{p(X)}\\tag{eq.1}$$\n",
        "<br>\n",
        "\n",
        "Now $p(X \\rightarrow X^|)$ can be written as $$p(X \\rightarrow X^|) = g(X \\rightarrow X^|)\\ a(X \\rightarrow X^|)$$\n",
        "<br>\n",
        "Similarily, $$p(X^| \\rightarrow X) = g(X^| \\rightarrow X)\\ a(X^| \\rightarrow X)$$\n",
        "<br>\n",
        "Where $g(X)$ is the **Proposal distribution** and $a(X)$ is the ** Acceptance distribution**.\n",
        "\n",
        "Now the **acceptance ratio** ($\\normalsize\\rho$) can be written as:\n",
        "<br>\n",
        "<br>\n",
        "<br>\n",
        "$$ \\normalsize\\rho = \\frac{a(X \\rightarrow X^|)}{a(X^| \\rightarrow X)} = \\frac{p(X^|)g(X^| \\rightarrow X)}{p(X)g(X \\rightarrow X^|)} = \\frac{p(X^|)g(X | X^|)}{p(X)g(X^|| X)}$$\n",
        "\n",
        "<br>\n",
        "\n",
        "We move from $X \\rightarrow X^|$ conditionally based on the value of $\\large\\rho$.\n",
        "<br>\n",
        "• If  $\\ \\large\\rho\\normalsize\\geq$ 1, move from $X \\rightarrow X^|$ is transition to a more equally likely state and it should be accepted i.e. $X_{t+1} = X^|$\n",
        "<br>\n",
        "• If  $\\ \\large\\rho\\normalsize<$ 1, move from $X \\rightarrow X^|$ is rejected i.e. $X_{t+1} = X$\n",
        "\n",
        "<br>\n",
        "### 2. Giibs Sampling:\n",
        "$\\tag{3}$\n",
        "\n",
        "Suppose we have a vector of parameters $\\theta=(\\theta_1,\\theta_2, \\ldots ,\\theta_k)$, and we want to estimate the joint posterior distribution $p(\\theta|X)$. Suppose we can find and draw random samples from all the conditional distributions\n",
        "\n",
        "$$p(\\theta_1 | \\theta_2, \\dots \\theta_k, X) \\\\ p(\\theta_2 | \\theta_1, \\dots \\theta_k, X) \\\\ \\dots \\\\ p(\\theta_k | \\theta_1, \\theta_2, \\dots, X)$$\n",
        "<br>\n",
        "Gibbs sampling involves the sampling from the conditional distribution for each parameter $θ_i$ to construct a Markov Chain in turn, treating all other parameters as observed. Iterating over all parameters once is considered to have completed one cycle of the Gibbs sampler. Typically, Hierarchical models are set up as products of conditional distributions, which makes the Gibbs sampler ubiquitous in Bayesian modeling. Metropolis-Hastings algorithm can be used instead Gibbs wherein sampling is difficult from conditional distribution - this is known as Metropolis within Gibbs.\n",
        "\n",
        "With Gibbs sampling, We draw a proposal for a new value of a particular parameter at each iteration in the cycle, where the proposal distribution is the conditional posterior probability of that parameter. This means that the proposal move is always accepted. Hence, if we can draw samples from the conditional distributions, Gibbs sampling can be much more efficient than regular Metropolis-Hastings. More formally, we want to show that\n",
        "\n",
        "$$\\frac{P(y) \\, q(y \\to x)}{P(x) \\, q(x \\to y)} = 1$$\n",
        "\n",
        "\n",
        "**Advantages:**\n",
        "\n",
        "• No tuning is required to proposal distribution\n",
        "<br>\n",
        "• Proposals are always accepted\n",
        "\n",
        "**Disadvantages:**\n",
        "\n",
        "• Need to be able to derive conditional probability distributions\n",
        "<br>\n",
        "• Need to be able to draw random samples from the derived conditional probability distributions\n",
        "<br>\n",
        "• If parameters are correlated, it can be very slow"
      ]
    },
    {
      "cell_type": "markdown",
      "metadata": {
        "id": "t0gVKzdVRudd",
        "colab_type": "text"
      },
      "source": [
        "**Example:**\n",
        "We’ll repeat the example of determining the bias of a coin from observed coin tosses. The likelihood is binomial, and we use a beta prior."
      ]
    },
    {
      "cell_type": "markdown",
      "metadata": {
        "id": "sD2B9EN1gnch",
        "colab_type": "text"
      },
      "source": [
        "## Implement Metropolis sampling in TFP"
      ]
    },
    {
      "cell_type": "code",
      "metadata": {
        "id": "YxCBIkgOlVsk",
        "colab_type": "code",
        "colab": {}
      },
      "source": [
        "#@title Import { display-mode: \"form\" }\n",
        "\n",
        "from pprint import pprint\n",
        "import matplotlib.pyplot as plt\n",
        "import numpy as np\n",
        "import seaborn as sns\n",
        "\n",
        "import tensorflow as tf\n",
        "from tensorflow.python import tf2\n",
        "if not tf2.enabled():\n",
        "  import tensorflow.compat.v2 as tf\n",
        "  tf.enable_v2_behavior()\n",
        "  assert tf2.enabled()\n",
        "\n",
        "import tensorflow_probability as tfp\n",
        "\n",
        "sns.reset_defaults()\n",
        "sns.set_context(context='talk',font_scale=0.7)\n",
        "plt.rcParams['image.cmap'] = 'viridis'\n",
        "\n",
        "%matplotlib inline\n",
        "\n",
        "tfd = tfp.distributions\n",
        "tfb = tfp.bijectors"
      ],
      "execution_count": 0,
      "outputs": []
    },
    {
      "cell_type": "markdown",
      "metadata": {
        "id": "gtj016Org8lM",
        "colab_type": "text"
      },
      "source": [
        "### Observed Data"
      ]
    },
    {
      "cell_type": "code",
      "metadata": {
        "id": "4QuGevvkhE-5",
        "colab_type": "code",
        "colab": {}
      },
      "source": [
        "true_y = 61."
      ],
      "execution_count": 0,
      "outputs": []
    },
    {
      "cell_type": "markdown",
      "metadata": {
        "id": "vQRzaepdg1QB",
        "colab_type": "text"
      },
      "source": [
        "### Build the Model"
      ]
    },
    {
      "cell_type": "code",
      "metadata": {
        "id": "gWZu1YuDgvab",
        "colab_type": "code",
        "colab": {}
      },
      "source": [
        "def joint_log_prob(p, y):\n",
        "  \n",
        "  # prior\n",
        "  # rv_p = tfd.Beta(2., 2.)\n",
        "  rv_p = tfd.Normal(0.,1.)\n",
        "  \n",
        "  # likelihood\n",
        "  # rv_likelihood = tfd.Binomial(total_count=100, probs=p)\n",
        "  rv_likelihood = tfd.Normal(0., 1.)\n",
        "   \n",
        "  return (rv_p.log_prob(p) + rv_likelihood.log_prob(y))"
      ],
      "execution_count": 0,
      "outputs": []
    },
    {
      "cell_type": "code",
      "metadata": {
        "id": "Vpkk6h99icGZ",
        "colab_type": "code",
        "colab": {}
      },
      "source": [
        "def unnormalized_posterior(p):\n",
        "  return joint_log_prob(p, true_y)"
      ],
      "execution_count": 0,
      "outputs": []
    },
    {
      "cell_type": "markdown",
      "metadata": {
        "id": "QsWt9zmnivAU",
        "colab_type": "text"
      },
      "source": [
        "### Build MH TransitionKernel and call sample_chain"
      ]
    },
    {
      "cell_type": "code",
      "metadata": {
        "id": "3_b7Q7oNiqbn",
        "colab_type": "code",
        "colab": {}
      },
      "source": [
        "# Initialize the MH transition kernel.\n",
        "num_results = int(10e3)\n",
        "num_burnin_steps = int(1e3)\n",
        "\n",
        "mh = tfp.mcmc.RandomWalkMetropolis(\n",
        "     unnormalized_posterior,\n",
        "     seed=42)"
      ],
      "execution_count": 0,
      "outputs": []
    },
    {
      "cell_type": "code",
      "metadata": {
        "id": "YpHHI-QtjXzE",
        "colab_type": "code",
        "colab": {}
      },
      "source": [
        "# Wrap sample_chain in function\n",
        "def run_chain():\n",
        "  # Run the chain (with burn-in).\n",
        "  samples, _ = tfp.mcmc.sample_chain(\n",
        "    num_results=1000,\n",
        "    current_state=initial_state,\n",
        "    kernel=mh,\n",
        "    num_burnin_steps=500,\n",
        "    parallel_iterations=1)\n",
        "  \n",
        "  return samples"
      ],
      "execution_count": 0,
      "outputs": []
    },
    {
      "cell_type": "code",
      "metadata": {
        "id": "NXAFORc0jjqP",
        "colab_type": "code",
        "outputId": "c63ab588-8e90-4938-fb5b-c75310627ba7",
        "colab": {
          "base_uri": "https://localhost:8080/",
          "height": 81
        }
      },
      "source": [
        "# Call run_chain\n",
        "initial_state = tf.zeros(1)\n",
        "samples = run_chain()\n",
        "sampled_p = samples"
      ],
      "execution_count": 41,
      "outputs": [
        {
          "output_type": "stream",
          "text": [
            "/usr/local/lib/python3.6/dist-packages/tensorflow_probability/python/mcmc/sample.py:335: UserWarning: Tracing all kernel results by default is deprecated. Set the `trace_fn` argument to None (the future default value) or an explicit callback that traces the values you are interested in.\n",
            "  warnings.warn(\"Tracing all kernel results by default is deprecated. Set \"\n"
          ],
          "name": "stderr"
        }
      ]
    },
    {
      "cell_type": "markdown",
      "metadata": {
        "id": "_VZFkHLXjg45",
        "colab_type": "text"
      },
      "source": [
        "### Trac the sampling"
      ]
    },
    {
      "cell_type": "code",
      "metadata": {
        "id": "nOtjF_cBl6hj",
        "colab_type": "code",
        "outputId": "63c1f8ce-9275-4df7-ea85-557f30f57210",
        "colab": {
          "base_uri": "https://localhost:8080/",
          "height": 290
        }
      },
      "source": [
        "# Plot sampled p\n",
        "plt.plot(sampled_p, label=\"sampled_p\")\n",
        "plt.title(\"sampled_p\")\n",
        "plt.show()"
      ],
      "execution_count": 42,
      "outputs": [
        {
          "output_type": "display_data",
          "data": {
            "image/png": "[encoded data removed]",
            "text/plain": [
              "<Figure size 432x288 with 1 Axes>"
            ]
          },
          "metadata": {
            "tags": []
          }
        }
      ]
    },
    {
      "cell_type": "markdown",
      "metadata": {
        "id": "ohPEoAK8Rudo",
        "colab_type": "text"
      },
      "source": [
        "## References\n",
        "\n",
        "[1] Bayesian Statistics: Techniques and Models - Week1 ,2018.[Online].Available: https://www.coursera.org/learn/mcmc-bayesian-statistics/home/welcome<br>\n",
        "[2] D. Jason Koskinen,\"Markov Chain Monte Carlo\",Feb 2018.[Online].Available:http://www.nbi.dk/~koskinen/Teaching/AdvancedMethodsInAppliedStatistics2018/Lecture6_MCMC_Bayes.pdf<br>\n",
        "[3] Computational Statistics in Python,\"Markov Chain Monte Carlo (MCMC)\",[Online].Available: https://people.duke.edu/.<br> \n",
        "[4] Tensorflow Statistical Distributions, [Online].Available: https://www.tensorflow.org/probability/api_docs/python/tfp/distributions.<br> \n",
        "[5] TensorFlow Probability MCMC python package, [Online].Available: https://www.tensorflow.org/probability/api_docs/python/tfp/mcmc."
      ]
    }
  ]
}