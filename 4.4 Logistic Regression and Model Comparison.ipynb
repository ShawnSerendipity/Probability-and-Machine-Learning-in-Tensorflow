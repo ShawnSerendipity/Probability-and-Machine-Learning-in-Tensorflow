{
  "nbformat": 4,
  "nbformat_minor": 0,
  "metadata": {
    "anaconda-cloud": {},
    "kernelspec": {
      "display_name": "Python [default]",
      "language": "python",
      "name": "python3"
    },
    "language_info": {
      "codemirror_mode": {
        "name": "ipython",
        "version": 3
      },
      "file_extension": ".py",
      "mimetype": "text/x-python",
      "name": "python",
      "nbconvert_exporter": "python",
      "pygments_lexer": "ipython3",
      "version": "3.5.2"
    },
    "colab": {
      "name": "4.4 Logistic Regression and Model Comparison.ipynb",
      "version": "0.3.2",
      "provenance": [],
      "collapsed_sections": []
    }
  },
  "cells": [
    {
      "cell_type": "markdown",
      "metadata": {
        "id": "7_RiC-7g1s-p",
        "colab_type": "text"
      },
      "source": [
        "# 4.4 Logistic Regression and Model Comparison"
      ]
    },
    {
      "cell_type": "markdown",
      "metadata": {
        "id": "JnGlzsfJ1s-s",
        "colab_type": "text"
      },
      "source": [
        "# Content:\n",
        "$\\rightarrow$ Logistic regression and its implementation.\n",
        "\n",
        "$\\rightarrow$ Multiple logistic Regression.\n",
        "\n",
        "$\\rightarrow$ Multinomial Regression.\n",
        "\n",
        "$\\rightarrow$ Model comparison.\n",
        "\n",
        "$\\rightarrow$ Occam's razor- simplicity and accuracy.\n",
        "\n",
        "$\\rightarrow$ Overfitting and Underfitting.\n",
        "\n",
        "$\\rightarrow$ Regularizing priors.\n",
        "\n",
        "$\\rightarrow$ information criteria.\n",
        "\n",
        "$\\rightarrow$ Bayes factor.\n",
        "\n",
        "$\\rightarrow$ References."
      ]
    },
    {
      "cell_type": "markdown",
      "metadata": {
        "id": "ZkFR6Iz51s-t",
        "colab_type": "text"
      },
      "source": [
        "## List of symbols\n",
        "$\\rightarrow \\mu $ is varience.\n",
        "\n",
        "$\\rightarrow  p $  is probability.\n",
        "\n",
        "$\\rightarrow r $ is acceptance ratio.\n",
        "\n",
        "$\\rightarrow n_i $ is number of bugs in $i^{th}$ observations.\n",
        "\n",
        "$\\rightarrow y_i $ is number of bugs killed.\n",
        "\n",
        "$\\rightarrow x_i $ is dosage.\n",
        "\n",
        "$\\rightarrow \\theta $ is logistic model.\n",
        "\n",
        "$\\rightarrow Bern(\\theta) $ is Bernouli distribution of logistic model.\n",
        "\n",
        "$\\rightarrow z $ is logistic function."
      ]
    },
    {
      "cell_type": "code",
      "metadata": {
        "id": "UH_gTfs12wTF",
        "colab_type": "code",
        "colab": {}
      },
      "source": [
        "%matplotlib inline\n",
        "import io\n",
        "from google.colab import files\n",
        "import numpy as np;\n",
        "import pandas as pd\n",
        "from scipy import stats\n",
        "import pymc3 as pm\n",
        "from scipy.stats import norm\n",
        "from scipy.interpolate import griddata\n",
        "import tensorflow as tf\n",
        "import tensorflow_probability as tfp\n",
        "from sklearn.model_selection import train_test_split\n",
        "from sklearn.preprocessing import OneHotEncoder\n",
        "import matplotlib.pyplot as plt\n",
        "import seaborn as sns;\n",
        "import time\n",
        "\n",
        "tfd = tfp.distributions\n",
        "palette = 'muted'\n",
        "sns.set_palette(palette); sns.set_color_codes(palette)\n",
        "np.set_printoptions(precision=2)\n",
        "pd.set_option('display.precision', 2)"
      ],
      "execution_count": 0,
      "outputs": []
    },
    {
      "cell_type": "markdown",
      "metadata": {
        "id": "HkhgP9FW1s-w",
        "colab_type": "text"
      },
      "source": [
        "# Introduction:\n",
        "## Logistic Regression: \n",
        "Logistic regression is extension of linear regression. It is a model where Dependent variable is categorical. This lecture we discuss about binary depedent variable where output take only two values \"0\" or \"1\" such that outputs of those can be assumed as either pass or fail, sick or healthy, on or off. If the dependent variables have more than two outcomes then this can be analysed as multinomial logistic regression."
      ]
    },
    {
      "cell_type": "markdown",
      "metadata": {
        "id": "4WO1vdql1s-x",
        "colab_type": "text"
      },
      "source": [
        "## Logistic function:\n",
        "We can define logistic function by taking of an example of Insecticide. Logistic function is used because if input given from $-\\infty$ to $ \\infty$ i.e. if we give real values as input then output will takes place between 0 and 1. \n",
        "Now, In Insecticide Let $x_i$ be dosage for $i^{th}$ observations, and $n_i$ be Number of bugs that set to be sprayed, and $y_i$ is killed number of bugs.\n",
        "\n",
        "$ \\Rightarrow y_i \\approx \\beta_{in}{(n_i,h_i)}$\n",
        "\n",
        "$ \\Rightarrow \\mu = f(\\alpha + \\beta x_i)$   ( where $f$ is inverse link function that links linear model to output which cover Range of $ \\alpha + \\beta x_i$ into [0,1])\n",
        "\n",
        "#### Logistic model:\n",
        "$\\Rightarrow logistic(z) = \\frac {1} {\\large{(1+e^{-z})}} $ ( where z is the logistic function)\n",
        "$\\Rightarrow y_i = Bern(\\theta_i)  $ \n",
        "\n",
        "\n",
        "$ \\Rightarrow \\theta= logistic (\\alpha +\\beta x_i)$\n",
        "\n",
        "In logistic model $\\theta$ is defined by linear model. linear model could return any value from the real line, but bernouli distribution expected to be in intreval of [0,1]. So we use inverse link function such that values returned by linear model will be in range suitable to bernouli distribution.\n",
        "\n",
        "#### Visualize the Logistic model:"
      ]
    },
    {
      "cell_type": "code",
      "metadata": {
        "id": "6GJbe1jO1s-6",
        "colab_type": "code",
        "outputId": "d851c6a6-8349-4a89-ab34-e520b70c9465",
        "colab": {
          "base_uri": "https://localhost:8080/",
          "height": 288
        }
      },
      "source": [
        "# Build the logistic model:\n",
        "z = np.linspace(-10, 10, 100)\n",
        "logistic = 1 / (1 + np.exp(-z))\n",
        "\n",
        "# Plot the logistic model:\n",
        "plt.plot(z, logistic)\n",
        "plt.xlabel('$z$', fontsize=16)\n",
        "plt.ylabel('$logistic(z)$', fontsize=16)\n",
        "plt.savefig('B04958_05_01.png', dpi=300, figsize=(5.5, 5.5))"
      ],
      "execution_count": 0,
      "outputs": [
        {
          "output_type": "display_data",
          "data": {
            "image/png": "[encoded data removed]",
            "text/plain": [
              "<Figure size 432x288 with 1 Axes>"
            ]
          },
          "metadata": {
            "tags": []
          }
        }
      ]
    },
    {
      "cell_type": "markdown",
      "metadata": {
        "id": "hIIIoMh31s-_",
        "colab_type": "text"
      },
      "source": [
        "### Implementation of Logistic Regression Model using iris dataset:\n",
        "Iris data set is a classic data set which contains information about three species of flowers from genus iris (setosa, virginca, versicolor).These are our dependent variables and our four independent variables are petal length, petal width, sepal length and sepal width. where we plot three species versus sepal length  using stripplot function from seaborn:\n",
        "From below plots we can see that Y-axis is continuos and X-axis is categorical. We use variousnumber of different way to inspect the data: Jitter argument and scatter matrix as shown in the below code. \n",
        "in Jitter arument and scatter matrix graphs are taken to sepal length for three species, in scatter matrix the obtained graphs are arranged in $4 \\times 4$ matrix. these different species are plotted with different color code as shown in below."
      ]
    },
    {
      "cell_type": "markdown",
      "metadata": {
        "id": "SqEzs4UI-7m9",
        "colab_type": "text"
      },
      "source": [
        "### 1. Read the data"
      ]
    },
    {
      "cell_type": "code",
      "metadata": {
        "id": "Eu0kZRlI1s_A",
        "colab_type": "code",
        "outputId": "8a4cea7c-197d-43cb-86f4-f2306548016e",
        "colab": {
          "resources": {
            "http://localhost:8080/nbextensions/google.colab/files.js": {
              "data": "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",
              "ok": true,
              "headers": [
                [
                  "content-type",
                  "application/javascript"
                ]
              ],
              "status": 200,
              "status_text": ""
            }
          },
          "base_uri": "https://localhost:8080/",
          "height": 262
        }
      },
      "source": [
        "# Read the data\n",
        "uploaded = files.upload()\n",
        "iris = pd.read_csv(io.BytesIO(uploaded['iris.csv']), sep=',', header=0)\n",
        "iris = sns.load_dataset(\"iris\")\n",
        "iris.head()"
      ],
      "execution_count": 0,
      "outputs": [
        {
          "output_type": "display_data",
          "data": {
            "text/html": [
              "\n",
              "     <input type=\"file\" id=\"files-d7a927a3-f917-4738-94e7-300821d4c421\" name=\"files[]\" multiple disabled />\n",
              "     <output id=\"result-d7a927a3-f917-4738-94e7-300821d4c421\">\n",
              "      Upload widget is only available when the cell has been executed in the\n",
              "      current browser session. Please rerun this cell to enable.\n",
              "      </output>\n",
              "      <script src=\"/nbextensions/google.colab/files.js\"></script> "
            ],
            "text/plain": [
              "<IPython.core.display.HTML object>"
            ]
          },
          "metadata": {
            "tags": []
          }
        },
        {
          "output_type": "stream",
          "text": [
            "Saving iris.csv to iris (8).csv\n"
          ],
          "name": "stdout"
        },
        {
          "output_type": "execute_result",
          "data": {
            "text/html": [
              "<div>\n",
              "<style scoped>\n",
              "    .dataframe tbody tr th:only-of-type {\n",
              "        vertical-align: middle;\n",
              "    }\n",
              "\n",
              "    .dataframe tbody tr th {\n",
              "        vertical-align: top;\n",
              "    }\n",
              "\n",
              "    .dataframe thead th {\n",
              "        text-align: right;\n",
              "    }\n",
              "</style>\n",
              "<table border=\"1\" class=\"dataframe\">\n",
              "  <thead>\n",
              "    <tr style=\"text-align: right;\">\n",
              "      <th></th>\n",
              "      <th>sepal_length</th>\n",
              "      <th>sepal_width</th>\n",
              "      <th>petal_length</th>\n",
              "      <th>petal_width</th>\n",
              "      <th>species</th>\n",
              "    </tr>\n",
              "  </thead>\n",
              "  <tbody>\n",
              "    <tr>\n",
              "      <th>0</th>\n",
              "      <td>5.1</td>\n",
              "      <td>3.5</td>\n",
              "      <td>1.4</td>\n",
              "      <td>0.2</td>\n",
              "      <td>setosa</td>\n",
              "    </tr>\n",
              "    <tr>\n",
              "      <th>1</th>\n",
              "      <td>4.9</td>\n",
              "      <td>3.0</td>\n",
              "      <td>1.4</td>\n",
              "      <td>0.2</td>\n",
              "      <td>setosa</td>\n",
              "    </tr>\n",
              "    <tr>\n",
              "      <th>2</th>\n",
              "      <td>4.7</td>\n",
              "      <td>3.2</td>\n",
              "      <td>1.3</td>\n",
              "      <td>0.2</td>\n",
              "      <td>setosa</td>\n",
              "    </tr>\n",
              "    <tr>\n",
              "      <th>3</th>\n",
              "      <td>4.6</td>\n",
              "      <td>3.1</td>\n",
              "      <td>1.5</td>\n",
              "      <td>0.2</td>\n",
              "      <td>setosa</td>\n",
              "    </tr>\n",
              "    <tr>\n",
              "      <th>4</th>\n",
              "      <td>5.0</td>\n",
              "      <td>3.6</td>\n",
              "      <td>1.4</td>\n",
              "      <td>0.2</td>\n",
              "      <td>setosa</td>\n",
              "    </tr>\n",
              "  </tbody>\n",
              "</table>\n",
              "</div>"
            ],
            "text/plain": [
              "   sepal_length  sepal_width  petal_length  petal_width species\n",
              "0           5.1          3.5           1.4          0.2  setosa\n",
              "1           4.9          3.0           1.4          0.2  setosa\n",
              "2           4.7          3.2           1.3          0.2  setosa\n",
              "3           4.6          3.1           1.5          0.2  setosa\n",
              "4           5.0          3.6           1.4          0.2  setosa"
            ]
          },
          "metadata": {
            "tags": []
          },
          "execution_count": 50
        }
      ]
    },
    {
      "cell_type": "code",
      "metadata": {
        "id": "IPQcXXdT1s_D",
        "colab_type": "code",
        "outputId": "4011c94f-f802-4e6b-a491-51040c8095b5",
        "colab": {
          "base_uri": "https://localhost:8080/",
          "height": 283
        }
      },
      "source": [
        "sns.stripplot(x=iris[\"species\"], y=iris[\"sepal_length\"], data=iris, jitter=True)\n",
        "plt.savefig('B04958_05_03.png', dpi=300, figsize=(5.5, 5.5))"
      ],
      "execution_count": 0,
      "outputs": [
        {
          "output_type": "display_data",
          "data": {
            "image/png": "[encoded data removed]",
            "text/plain": [
              "<Figure size 432x288 with 1 Axes>"
            ]
          },
          "metadata": {
            "tags": []
          }
        }
      ]
    },
    {
      "cell_type": "code",
      "metadata": {
        "scrolled": true,
        "id": "0F2UldkA1s_e",
        "colab_type": "code",
        "outputId": "e2c4e05e-4399-49ef-db17-33925d7d7fe4",
        "colab": {
          "base_uri": "https://localhost:8080/",
          "height": 729
        }
      },
      "source": [
        "sns.pairplot(iris, hue='species', diag_kind='kde')\n",
        "plt.savefig('B04958_05_04.png', dpi=300, figsize=(5.5, 5.5))"
      ],
      "execution_count": 0,
      "outputs": [
        {
          "output_type": "display_data",
          "data": {
            "image/png": "[encoded data removed]",
            "text/plain": [
              "<Figure size 804.75x720 with 20 Axes>"
            ]
          },
          "metadata": {
            "tags": []
          }
        }
      ]
    },
    {
      "cell_type": "markdown",
      "metadata": {
        "id": "WiA56NBE-tU5",
        "colab_type": "text"
      },
      "source": [
        "To do a binary classification, just need to keep the first 100 rows of data. Iris-setosa species is linearly separable from the other two, but the other two are not linearly separable from each other.To keep the species blance Iris-setosa and Iris-versicolor are choosen"
      ]
    },
    {
      "cell_type": "code",
      "metadata": {
        "id": "Z5vIl3oX-r_o",
        "colab_type": "code",
        "colab": {}
      },
      "source": [
        "iris = iris[:100]"
      ],
      "execution_count": 0,
      "outputs": []
    },
    {
      "cell_type": "markdown",
      "metadata": {
        "id": "YGz1pnmW_DPe",
        "colab_type": "text"
      },
      "source": [
        "### 2. Numerical Processing\n",
        "- replace 'Iris-setosa' as 0\n",
        "- replace 'Iris-versicolor' as 1"
      ]
    },
    {
      "cell_type": "code",
      "metadata": {
        "id": "kSaPqrFM_KGt",
        "colab_type": "code",
        "outputId": "10cc8fea-0bd1-4271-df49-7b9765ee25c2",
        "colab": {
          "base_uri": "https://localhost:8080/",
          "height": 119
        }
      },
      "source": [
        "iris[\"species\"] = iris[\"species\"].replace(to_replace=['setosa', 'versicolor'], value=[0, 1])"
      ],
      "execution_count": 0,
      "outputs": [
        {
          "output_type": "stream",
          "text": [
            "/usr/local/lib/python3.6/dist-packages/ipykernel_launcher.py:1: SettingWithCopyWarning: \n",
            "A value is trying to be set on a copy of a slice from a DataFrame.\n",
            "Try using .loc[row_indexer,col_indexer] = value instead\n",
            "\n",
            "See the caveats in the documentation: http://pandas.pydata.org/pandas-docs/stable/indexing.html#indexing-view-versus-copy\n",
            "  \"\"\"Entry point for launching an IPython kernel.\n"
          ],
          "name": "stderr"
        }
      ]
    },
    {
      "cell_type": "code",
      "metadata": {
        "id": "OPvn7msjAcJ1",
        "colab_type": "code",
        "outputId": "fb35af9d-f065-4714-f329-95a3942ab93f",
        "colab": {
          "base_uri": "https://localhost:8080/",
          "height": 300
        }
      },
      "source": [
        "plt.scatter(iris[:50][\"sepal_length\"], iris[:50][\"sepal_width\"], label='Iris-setosa')\n",
        "plt.scatter(iris[51:][\"sepal_length\"], iris[51:][\"sepal_width\"], label='Iris-versicolo')\n",
        "plt.xlabel('SepalLength')\n",
        "plt.ylabel('SepalWidth')\n",
        "plt.legend(loc='best')"
      ],
      "execution_count": 0,
      "outputs": [
        {
          "output_type": "execute_result",
          "data": {
            "text/plain": [
              "<matplotlib.legend.Legend at 0x7fe6e9c16438>"
            ]
          },
          "metadata": {
            "tags": []
          },
          "execution_count": 60
        },
        {
          "output_type": "display_data",
          "data": {
            "image/png": "[encoded data removed]",
            "text/plain": [
              "<Figure size 432x288 with 1 Axes>"
            ]
          },
          "metadata": {
            "tags": []
          }
        }
      ]
    },
    {
      "cell_type": "code",
      "metadata": {
        "id": "ZMP3yYpsA2EH",
        "colab_type": "code",
        "colab": {}
      },
      "source": [
        "X = iris.drop(labels=['species'], axis=1).values\n",
        "y = iris[\"species\"].values"
      ],
      "execution_count": 0,
      "outputs": []
    },
    {
      "cell_type": "markdown",
      "metadata": {
        "id": "4iHNqYGXBTUO",
        "colab_type": "text"
      },
      "source": [
        "### 3. Split data\n",
        "- trainset: 80%\n",
        "- testset: 20%"
      ]
    },
    {
      "cell_type": "code",
      "metadata": {
        "id": "YYcQt-NdBYPx",
        "colab_type": "code",
        "colab": {}
      },
      "source": [
        "# set seed for numpy and tensorflow\n",
        "# set for reproducible results\n",
        "seed = 5\n",
        "np.random.seed(seed)\n",
        "tf.set_random_seed(seed)\n",
        "\n",
        "# set replace=False, Avoid double sampling\n",
        "train_index = np.random.choice(len(X), round(len(X) * 0.8), replace=False)\n",
        "\n",
        "# diff set\n",
        "test_index = np.array(list(set(range(len(X))) - set(train_index)))\n",
        "train_X = X[train_index]\n",
        "train_y = y[train_index]\n",
        "test_X = X[test_index]\n",
        "test_y = y[test_index]\n",
        "\n",
        "# Define the normalized function\n",
        "def min_max_normalized(data):\n",
        "    col_max = np.max(data, axis=0)\n",
        "    col_min = np.min(data, axis=0)\n",
        "    return np.divide(data - col_min, col_max - col_min)"
      ],
      "execution_count": 0,
      "outputs": []
    },
    {
      "cell_type": "markdown",
      "metadata": {
        "id": "vMqdF7YABpNk",
        "colab_type": "text"
      },
      "source": [
        "### 4. Normalized processing"
      ]
    },
    {
      "cell_type": "code",
      "metadata": {
        "id": "oJSuhHkeBq1g",
        "colab_type": "code",
        "colab": {}
      },
      "source": [
        "# Normalized processing, must be placed after the data set segmentation, \n",
        "# otherwise the test set will be affected by the training set\n",
        "train_X = min_max_normalized(train_X)\n",
        "test_X = min_max_normalized(test_X)"
      ],
      "execution_count": 0,
      "outputs": []
    },
    {
      "cell_type": "markdown",
      "metadata": {
        "id": "ephTfdLpBvfx",
        "colab_type": "text"
      },
      "source": [
        "### 5. Build the model framework"
      ]
    },
    {
      "cell_type": "code",
      "metadata": {
        "id": "Xxg3R7SPBuvn",
        "colab_type": "code",
        "colab": {}
      },
      "source": [
        "# Begin building the model framework\n",
        "# Declare the variables that need to be learned and initialization\n",
        "# There are 4 features here, A's dimension is (4, 1)\n",
        "A = tf.Variable(tf.random_normal(shape=[4, 1]))\n",
        "b = tf.Variable(tf.random_normal(shape=[1, 1]))\n",
        "init = tf.global_variables_initializer()\n",
        "sess = tf.Session()\n",
        "sess.run(init)\n",
        "\n",
        "# Define placeholders\n",
        "data = tf.placeholder(dtype=tf.float32, shape=[None, 4])\n",
        "target = tf.placeholder(dtype=tf.float32, shape=[None, 1])\n",
        "\n",
        "# Declare the model you need to learn\n",
        "mod = tf.matmul(data, A) + b\n",
        "\n",
        "# Declare loss function\n",
        "# Use the sigmoid cross-entropy loss function,\n",
        "# first doing a sigmoid on the model result and then using the cross-entropy loss function\n",
        "loss = tf.reduce_mean(tf.nn.sigmoid_cross_entropy_with_logits(logits=mod, labels=target))\n",
        "\n",
        "# Define the learning rate， batch_size etc.\n",
        "learning_rate = 0.003\n",
        "batch_size = 30\n",
        "iter_num = 1500\n",
        "\n",
        "# Define the optimizer\n",
        "opt = tf.train.GradientDescentOptimizer(learning_rate)\n",
        "\n",
        "# Define the goal\n",
        "goal = opt.minimize(loss)\n",
        "\n",
        "# Define the accuracy\n",
        "# The default threshold is 0.5, rounded off directly\n",
        "prediction = tf.round(tf.sigmoid(mod))\n",
        "# Bool into float32 type\n",
        "correct = tf.cast(tf.equal(prediction, target), dtype=tf.float32)\n",
        "# Average\n",
        "accuracy = tf.reduce_mean(correct)\n",
        "# End of the definition of the model framework"
      ],
      "execution_count": 0,
      "outputs": []
    },
    {
      "cell_type": "markdown",
      "metadata": {
        "id": "jk7c-AkpCGJy",
        "colab_type": "text"
      },
      "source": [
        "### 6. Model training"
      ]
    },
    {
      "cell_type": "code",
      "metadata": {
        "id": "MjvUNyvzCH21",
        "colab_type": "code",
        "outputId": "fbad84dd-032f-4327-ed2b-c83e8cb76343",
        "colab": {
          "base_uri": "https://localhost:8080/",
          "height": 102
        }
      },
      "source": [
        "# Start training model\n",
        "# Define the variable that stores the result\n",
        "loss_trace = []\n",
        "train_acc = []\n",
        "test_acc = []\n",
        "\n",
        "# training model\n",
        "for epoch in range(iter_num):\n",
        "    # Generate random batch index\n",
        "    batch_index = np.random.choice(len(train_X), size=batch_size)\n",
        "    batch_train_X = train_X[batch_index]\n",
        "    batch_train_y = np.matrix(train_y[batch_index]).T\n",
        "    sess.run(goal, feed_dict={data: batch_train_X, target: batch_train_y})\n",
        "    temp_loss = sess.run(loss, feed_dict={data: batch_train_X, target: batch_train_y})\n",
        "    # convert into a matrix, and the shape of the placeholder to correspond\n",
        "    temp_train_acc = sess.run(accuracy, feed_dict={data: train_X, target: np.matrix(train_y).T})\n",
        "    temp_test_acc = sess.run(accuracy, feed_dict={data: test_X, target: np.matrix(test_y).T})\n",
        "    # recode the result\n",
        "    loss_trace.append(temp_loss)\n",
        "    train_acc.append(temp_train_acc)\n",
        "    test_acc.append(temp_test_acc)\n",
        "    # output\n",
        "    if (epoch + 1) % 300 == 0:\n",
        "        print('epoch: {:4d} loss: {:5f} train_acc: {:5f} test_acc: {:5f}'.format(epoch + 1, temp_loss,\n",
        "                                                                          temp_train_acc, temp_test_acc))"
      ],
      "execution_count": 0,
      "outputs": [
        {
          "output_type": "stream",
          "text": [
            "epoch:  300 loss: 0.882172 train_acc: 0.462500 test_acc: 0.650000\n",
            "epoch:  600 loss: 0.682540 train_acc: 0.462500 test_acc: 0.650000\n",
            "epoch:  900 loss: 0.501576 train_acc: 0.462500 test_acc: 0.650000\n",
            "epoch: 1200 loss: 0.519480 train_acc: 0.550000 test_acc: 0.800000\n",
            "epoch: 1500 loss: 0.425639 train_acc: 0.937500 test_acc: 1.000000\n"
          ],
          "name": "stdout"
        }
      ]
    },
    {
      "cell_type": "markdown",
      "metadata": {
        "id": "mCZ6KzipCfw6",
        "colab_type": "text"
      },
      "source": [
        "### 7. Visualization"
      ]
    },
    {
      "cell_type": "code",
      "metadata": {
        "id": "U85Moy8QCePt",
        "colab_type": "code",
        "outputId": "b8a2183b-306a-437f-8142-f80c11ab50f0",
        "colab": {
          "base_uri": "https://localhost:8080/",
          "height": 295
        }
      },
      "source": [
        "# Visualization of the results\n",
        "# loss function\n",
        "plt.plot(loss_trace)\n",
        "plt.title('Cross Entropy Loss')\n",
        "plt.xlabel('epoch')\n",
        "plt.ylabel('loss')\n",
        "plt.show()"
      ],
      "execution_count": 0,
      "outputs": [
        {
          "output_type": "display_data",
          "data": {
            "image/png": "[encoded data removed]",
            "text/plain": [
              "<Figure size 432x288 with 1 Axes>"
            ]
          },
          "metadata": {
            "tags": []
          }
        }
      ]
    },
    {
      "cell_type": "code",
      "metadata": {
        "id": "To1iZ1u4Cnnp",
        "colab_type": "code",
        "outputId": "f3d8b242-d693-47df-b9b8-a1c139412802",
        "colab": {
          "base_uri": "https://localhost:8080/",
          "height": 295
        }
      },
      "source": [
        "# accuracy\n",
        "plt.plot(train_acc, 'b-', label='train accuracy')\n",
        "plt.plot(test_acc, 'k-', label='test accuracy')\n",
        "plt.xlabel('epoch')\n",
        "plt.ylabel('accuracy')\n",
        "plt.title('Train and Test Accuracy')\n",
        "plt.legend(loc='best')\n",
        "plt.show()"
      ],
      "execution_count": 0,
      "outputs": [
        {
          "output_type": "display_data",
          "data": {
            "image/png": "[encoded data removed]",
            "text/plain": [
              "<Figure size 432x288 with 1 Axes>"
            ]
          },
          "metadata": {
            "tags": []
          }
        }
      ]
    },
    {
      "cell_type": "markdown",
      "metadata": {
        "id": "wlnlNC6I1s_p",
        "colab_type": "text"
      },
      "source": [
        "## Example for logistic regression:\n",
        "let us consider Logistic regression which predict the deaths and survivals of patients. We consider 2000 patients samples measure in metabolic marker. The proportion of deaths of patients in each category is given in below table. and figure plot below shows the proportion of deaths of patients which is described as 'S-shaped' curve. Such that, pattern of proportions cannot lie outside 0 and 1."
      ]
    },
    {
      "cell_type": "markdown",
      "metadata": {
        "id": "RuXuvHc01s_q",
        "colab_type": "text"
      },
      "source": [
        "                               Table 1 : relatioship between level of metabolic marker and survival\n",
        "\n",
        "\n",
        "| Metabolic marker level(X) | Number of partients| Number of deaths  | Proportions of deaths |\n",
        "| --------------------------|:------------------:| -----------------:|----------------------:|\n",
        "| 0.5 < 1.0                 | 182                |  7                |  0.04                 |\n",
        "| 1.0 < 1.5                 | 233                |  27               |  0.12                 | \n",
        "| 1.5 < 2.0                 | 224                |  44               |  0.20                 | \n",
        "| 2.0 < 2.5                 | 236                |  91               |  0.39                 | \n",
        "| 2.5 < 3.0                 | 225                |  130              |  0.58                 | \n",
        "| 3.0 < 3.5                 | 215                |  168              |  0.78                 | \n",
        "| 3.5 < 4.0                 | 221                |  194              |  0.88                 | \n",
        "| 4.0 < 4.5                 | 200                |  191              |  0.96                 | \n",
        "| >5.0                      | 264                |  260              |  0.98                 | \n",
        "\n"
      ]
    },
    {
      "cell_type": "code",
      "metadata": {
        "id": "5_L_aPpx1s_q",
        "colab_type": "code",
        "outputId": "f24981bf-a436-44bd-e06c-1e914d10d463",
        "colab": {
          "base_uri": "https://localhost:8080/",
          "height": 269
        }
      },
      "source": [
        "import matplotlib.pyplot as plt\n",
        "plt.plot([0.5,1,1.5,2,2.5,3,3.5,4,4.5], [0.04,0.12,0.20,0.39,0.58,0.78,0.88,0.96,0.98], 'bo')\n",
        "plt.axis([0, 5, 0, 1])\n",
        "plt.show()"
      ],
      "execution_count": 2,
      "outputs": [
        {
          "output_type": "display_data",
          "data": {
            "image/png": "[encoded data removed]",
            "text/plain": [
              "<Figure size 432x288 with 1 Axes>"
            ]
          },
          "metadata": {
            "tags": []
          }
        }
      ]
    },
    {
      "cell_type": "markdown",
      "metadata": {
        "id": "6GcHRJvO1s_s",
        "colab_type": "text"
      },
      "source": [
        "#### Logistic regression function with a single quantitative explanatory variable:\n",
        "logit function is defined as the natural logarithm of the odds of the death.$$\\rightarrow logit(p) = \\log(\\frac{p}{1-p})$$\n",
        "\n",
        "logistic funtion is used to change the range of proportion from 0-1 to $-\\infty $ to $+\\infty$\n",
        "\n",
        "### Binomial distribution:\n",
        "In probability distribution function if the responce is said to be survivable or deaths then that distribution is said to be a binomial distibution function. Now, the probability of number of deaths in a sample space n is given by $^n C_rp^r(1-p)^{n-r}$  where p is probability function of death and r is number of individuals. The probability of survival is 1-p.\n",
        "\n",
        "From the above data we take an example of using first row from the table. The probability of 7 deaths occured from 182 patients is given by $ ^{182} C_7 p^7 (1-p)^{175}$ if the probability of deaths assumed to be 0.04 then probability of 7 deaths occured is 0.152. This is calculated using binomial function with parameter p= 0.04 which is known as likelihood. From the below figure we can say that maximum likelihood estimation of to estimate the probability of death is close to 0.04. Mathematically it is shown that maximum likelihood is 7/182."
      ]
    },
    {
      "cell_type": "code",
      "metadata": {
        "id": "s24ITq6p1s_s",
        "colab_type": "code",
        "outputId": "2eaf0bf7-d535-448a-b40e-58098f4c616f",
        "colab": {
          "base_uri": "https://localhost:8080/",
          "height": 269
        }
      },
      "source": [
        "from scipy.stats import binom\n",
        "fig, ax = plt.subplots(1, 1)\n",
        "\n",
        "n, p = 182, 0.04\n",
        "mean, var, skew, kurt = binom.stats(n, p, moments='mvsk')\n",
        "\n",
        "x = np.arange(binom.ppf(0.01, n, p),binom.ppf(0.99, n, p))\n",
        "ax.plot(x, binom.pmf(x, n, p), 'bo', ms=8)\n",
        "ax.vlines(x, 0, binom.pmf(x, n, p), colors='b', lw=5, alpha=0.5)\n",
        "\n",
        "rv = binom(n, p)\n",
        "ax.vlines(x, 0, rv.pmf(x), colors='k', linestyles='-', lw=1)\n",
        "plt.plot([0.04,0.12,0.20,0.39,0.58,0.7,0.8,0.88,0.9],[0.02,0.065,0.125,0.152,0.135,0.1,0.06,0.045,0.02], 'bo')\n",
        "plt.axis([0, 0.9, 0, 0.16])\n",
        "plt.show()\n"
      ],
      "execution_count": 4,
      "outputs": [
        {
          "output_type": "display_data",
          "data": {
            "image/png": "[encoded data removed]",
            "text/plain": [
              "<Figure size 432x288 with 1 Axes>"
            ]
          },
          "metadata": {
            "tags": []
          }
        }
      ]
    },
    {
      "cell_type": "markdown",
      "metadata": {
        "id": "cjpTEv-w1s_v",
        "colab_type": "text"
      },
      "source": [
        "#### Odds:\n",
        "Logistic model logit(p) = a+bx is equivalent to \n",
        "$\\frac{p}{1-p} = odds\\ of\\ death = e^{a+bx}= e^a e^{bx}$\n",
        "\n",
        "On increase of explanatory variable by one unit from x to x+1, the odds of death changes from $e^a e^b$ to $e^a e^{b(x+1)} = e^a e^b e^{bx}$. The odds ratio there for equal to $e^b$ which has simpler interpretation in categorical explanatory variable with two types. In this case it is justt a odd ratio which compared with other.\n",
        "Estimates of parameter a and b are usually obtained using statistical package, output of table 1 is summerized in table 2 i.e. if b= 1.690 and $e^bOR = 5.4$ this indicates that odds of death for a patient with marker level of 3 is 5.4 times the marker level of 2."
      ]
    },
    {
      "cell_type": "markdown",
      "metadata": {
        "id": "o0lyveFQ1s_v",
        "colab_type": "text"
      },
      "source": [
        "                                        Table 2: Output from a statistical Package Logistic regression\n",
        "\n",
        "|        | coeffient | SE  | Wald  | df | P |  OR  |Lower|Upper|\n",
        "|:------:| ----------|:---:| -----:|---:|:-:|:----:|:---:|:---:|\n",
        "|Marker  | 1.690     |0.071| 571.07| 1  |0.0|5.421 |4.719|6.227|\n",
        "|constant| -4.229    |0.191| 489.55| 1  |0.0|"
      ]
    },
    {
      "cell_type": "markdown",
      "metadata": {
        "id": "HQCbLKQZ1s_w",
        "colab_type": "text"
      },
      "source": [
        "#### predicted probabilities:\n",
        "This model is used to calculate predicted probability of death for a given metabolic markers 2 and 3. \n",
        "    now, predicted probability of death is $ p = \\large {\\frac {e^{(-4.229+1.699 * 2.0)}}{1+e^{(-4.229+1.699 * 2.0)}}}$ = 0.30 and $ p = \\large {\\frac {e^{(-4.229+1.699 * 3.0)}}{1+e^{(-4.229+1.699 * 3.0)}}}$ = 0.70\n",
        "    \n",
        "The odds of death for the patients are 0.300/(1 - 0.300) = 0.428 and 0.700/(1 - 0.700) = 2.320 giving an odds ratio is 2.320/0.428 = 5.421.\n",
        "\n",
        "The metabolic marker level which predicted probability equals 0.5 is called the median effective level (EL50). \n",
        "by solving the equation\n",
        " p = 0.5 = $ \\frac{e^{1+bx}}{1+e^{a+bx}}$\n",
        "\n",
        "gives x = EL50 = a/b "
      ]
    },
    {
      "cell_type": "markdown",
      "metadata": {
        "id": "zHJKlT-Y1s_w",
        "colab_type": "text"
      },
      "source": [
        "                          Table 3 : relatioship between level of metabolic marker and predicted probability of death\n",
        "\n",
        "\n",
        "| Metabolic marker(X) | Number of partients| Number of deaths  | Proportions of deaths | Predicted Probability|Expected deaths| \n",
        "| --------------------|:------------------:| -----------------:|----------------------:|:--------------------:|:-------------:|\n",
        "| 0.5 < 1.0           | 182                |  7                |  0.04                 | 0.04                 |8.2            |\n",
        "| 1.0 < 1.5           | 233                |  27               |  0.12                 | 0.10                 |24.2           |\n",
        "| 1.5 < 2.0           | 224                |  44               |  0.20                 | 0.23                 |50.6           |\n",
        "| 2.0 < 2.5           | 236                |  91               |  0.39                 | 0.41                 |96.0           |\n",
        "| 2.5 < 3.0           | 225                |  130              |  0.58                 | 0.62                 |140.6          |\n",
        "| 3.0 < 3.5           | 215                |  168              |  0.78                 | 0.80                 |171.7          |\n",
        "| 3.5 < 4.0           | 221                |  194              |  0.88                 | 0.90                 |199.9          |\n",
        "| 4.0 < 4.5           | 200                |  191              |  0.96                 | 0.96                 |191.7          |\n",
        "| >5.0                | 264                |  260              |  0.98                 | 0.98                 |259.2          |\n",
        " "
      ]
    },
    {
      "cell_type": "markdown",
      "metadata": {
        "id": "x0SBvkLm1s_x",
        "colab_type": "text"
      },
      "source": [
        "## Multiple logistic regression:\n",
        "It is similar to multile linear regression. Multiple logistic regression uses more than one independent variables. From logistic model We have following function.\n",
        "$\\Rightarrow \\theta = logistic(\\alpha + \\beta_0 x_0 + \\beta_1 x_1) $\n",
        "\n",
        "In logistic function, when argument is 0 we have $\\theta = 0.5$\n",
        "\n",
        "$\\Rightarrow 0.5 = logistic(\\alpha + \\beta_0 x_0 + \\beta_1 x_1)\\\\\n",
        "\\Rightarrow 0=\\alpha + \\beta_0 x_0 + \\beta_1 x_1 $\n",
        "\n",
        "Now, we find value of $x_1: \\\\\n",
        "\\large{=-\\frac{\\alpha}{\\beta_1}+[-\\frac{\\beta_0}{\\beta_1} x_0]}$\n",
        "\n",
        "This above equation is in form of Mathematical line equation 'c+mx', where first term is intecept and seocound is slope. In two dimensional data space, we can separate it using a line or plane boundary for 3D or higher dimensions respectively. "
      ]
    },
    {
      "cell_type": "markdown",
      "metadata": {
        "id": "m1wAee4HGeuq",
        "colab_type": "text"
      },
      "source": [
        "### 1. Read the data"
      ]
    },
    {
      "cell_type": "code",
      "metadata": {
        "id": "MYzc1Uo0GPte",
        "colab_type": "code",
        "colab": {
          "resources": {
            "http://localhost:8080/nbextensions/google.colab/files.js": {
              "data": "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",
              "ok": true,
              "headers": [
                [
                  "content-type",
                  "application/javascript"
                ]
              ],
              "status": 200,
              "status_text": ""
            }
          },
          "base_uri": "https://localhost:8080/",
          "height": 262
        },
        "outputId": "c7fae2a9-9964-45dd-d1c0-921a61b98d69"
      },
      "source": [
        "# Read the data\n",
        "uploaded = files.upload()\n",
        "iris = pd.read_csv(io.BytesIO(uploaded['iris.csv']), sep=',', header=0)\n",
        "iris = sns.load_dataset(\"iris\")\n",
        "iris.head()"
      ],
      "execution_count": 13,
      "outputs": [
        {
          "output_type": "display_data",
          "data": {
            "text/html": [
              "\n",
              "     <input type=\"file\" id=\"files-025a39f9-6bfe-4af6-aa72-f90a1a3ae8ea\" name=\"files[]\" multiple disabled />\n",
              "     <output id=\"result-025a39f9-6bfe-4af6-aa72-f90a1a3ae8ea\">\n",
              "      Upload widget is only available when the cell has been executed in the\n",
              "      current browser session. Please rerun this cell to enable.\n",
              "      </output>\n",
              "      <script src=\"/nbextensions/google.colab/files.js\"></script> "
            ],
            "text/plain": [
              "<IPython.core.display.HTML object>"
            ]
          },
          "metadata": {
            "tags": []
          }
        },
        {
          "output_type": "stream",
          "text": [
            "Saving iris.csv to iris (1).csv\n"
          ],
          "name": "stdout"
        },
        {
          "output_type": "execute_result",
          "data": {
            "text/html": [
              "<div>\n",
              "<style scoped>\n",
              "    .dataframe tbody tr th:only-of-type {\n",
              "        vertical-align: middle;\n",
              "    }\n",
              "\n",
              "    .dataframe tbody tr th {\n",
              "        vertical-align: top;\n",
              "    }\n",
              "\n",
              "    .dataframe thead th {\n",
              "        text-align: right;\n",
              "    }\n",
              "</style>\n",
              "<table border=\"1\" class=\"dataframe\">\n",
              "  <thead>\n",
              "    <tr style=\"text-align: right;\">\n",
              "      <th></th>\n",
              "      <th>sepal_length</th>\n",
              "      <th>sepal_width</th>\n",
              "      <th>petal_length</th>\n",
              "      <th>petal_width</th>\n",
              "      <th>species</th>\n",
              "    </tr>\n",
              "  </thead>\n",
              "  <tbody>\n",
              "    <tr>\n",
              "      <th>0</th>\n",
              "      <td>5.1</td>\n",
              "      <td>3.5</td>\n",
              "      <td>1.4</td>\n",
              "      <td>0.2</td>\n",
              "      <td>setosa</td>\n",
              "    </tr>\n",
              "    <tr>\n",
              "      <th>1</th>\n",
              "      <td>4.9</td>\n",
              "      <td>3.0</td>\n",
              "      <td>1.4</td>\n",
              "      <td>0.2</td>\n",
              "      <td>setosa</td>\n",
              "    </tr>\n",
              "    <tr>\n",
              "      <th>2</th>\n",
              "      <td>4.7</td>\n",
              "      <td>3.2</td>\n",
              "      <td>1.3</td>\n",
              "      <td>0.2</td>\n",
              "      <td>setosa</td>\n",
              "    </tr>\n",
              "    <tr>\n",
              "      <th>3</th>\n",
              "      <td>4.6</td>\n",
              "      <td>3.1</td>\n",
              "      <td>1.5</td>\n",
              "      <td>0.2</td>\n",
              "      <td>setosa</td>\n",
              "    </tr>\n",
              "    <tr>\n",
              "      <th>4</th>\n",
              "      <td>5.0</td>\n",
              "      <td>3.6</td>\n",
              "      <td>1.4</td>\n",
              "      <td>0.2</td>\n",
              "      <td>setosa</td>\n",
              "    </tr>\n",
              "  </tbody>\n",
              "</table>\n",
              "</div>"
            ],
            "text/plain": [
              "   sepal_length  sepal_width  petal_length  petal_width species\n",
              "0           5.1          3.5           1.4          0.2  setosa\n",
              "1           4.9          3.0           1.4          0.2  setosa\n",
              "2           4.7          3.2           1.3          0.2  setosa\n",
              "3           4.6          3.1           1.5          0.2  setosa\n",
              "4           5.0          3.6           1.4          0.2  setosa"
            ]
          },
          "metadata": {
            "tags": []
          },
          "execution_count": 13
        }
      ]
    },
    {
      "cell_type": "code",
      "metadata": {
        "id": "32FkutLKGtQA",
        "colab_type": "code",
        "colab": {
          "base_uri": "https://localhost:8080/",
          "height": 420
        },
        "outputId": "54192a9b-47de-4381-f244-66e4bf3b1d78"
      },
      "source": [
        "# Visualize the data with sepal_length and sepal_width \n",
        "sns.FacetGrid(iris, hue='species', size=5).map(plt.scatter, 'sepal_length', 'sepal_width').add_legend()"
      ],
      "execution_count": 14,
      "outputs": [
        {
          "output_type": "stream",
          "text": [
            "/usr/local/lib/python3.6/dist-packages/seaborn/axisgrid.py:230: UserWarning: The `size` paramter has been renamed to `height`; please update your code.\n",
            "  warnings.warn(msg, UserWarning)\n"
          ],
          "name": "stderr"
        },
        {
          "output_type": "execute_result",
          "data": {
            "text/plain": [
              "<seaborn.axisgrid.FacetGrid at 0x7f8f5ac55e80>"
            ]
          },
          "metadata": {
            "tags": []
          },
          "execution_count": 14
        },
        {
          "output_type": "display_data",
          "data": {
            "image/png": "[encoded data removed]",
            "text/plain": [
              "<Figure size 444.75x360 with 1 Axes>"
            ]
          },
          "metadata": {
            "tags": []
          }
        }
      ]
    },
    {
      "cell_type": "markdown",
      "metadata": {
        "id": "D4GQ94f6HGSE",
        "colab_type": "text"
      },
      "source": [
        "### 2. Data Pre-processing"
      ]
    },
    {
      "cell_type": "code",
      "metadata": {
        "id": "8r_ict0THJSC",
        "colab_type": "code",
        "colab": {
          "base_uri": "https://localhost:8080/",
          "height": 204
        },
        "outputId": "87dcca66-0647-4809-bf1c-dd3443ad84a1"
      },
      "source": [
        "# convert Species name to numerical value\n",
        "# Iris setosa = 1\n",
        "# Iris versicolor = 2\n",
        "# Irsi virginica = 3\n",
        "iris['species'] = iris['species'].replace(['setosa', 'versicolor','virginica'], [1, 2, 3])\n",
        "# now let's print some of the data\n",
        "iris.head(5)"
      ],
      "execution_count": 15,
      "outputs": [
        {
          "output_type": "execute_result",
          "data": {
            "text/html": [
              "<div>\n",
              "<style scoped>\n",
              "    .dataframe tbody tr th:only-of-type {\n",
              "        vertical-align: middle;\n",
              "    }\n",
              "\n",
              "    .dataframe tbody tr th {\n",
              "        vertical-align: top;\n",
              "    }\n",
              "\n",
              "    .dataframe thead th {\n",
              "        text-align: right;\n",
              "    }\n",
              "</style>\n",
              "<table border=\"1\" class=\"dataframe\">\n",
              "  <thead>\n",
              "    <tr style=\"text-align: right;\">\n",
              "      <th></th>\n",
              "      <th>sepal_length</th>\n",
              "      <th>sepal_width</th>\n",
              "      <th>petal_length</th>\n",
              "      <th>petal_width</th>\n",
              "      <th>species</th>\n",
              "    </tr>\n",
              "  </thead>\n",
              "  <tbody>\n",
              "    <tr>\n",
              "      <th>0</th>\n",
              "      <td>5.1</td>\n",
              "      <td>3.5</td>\n",
              "      <td>1.4</td>\n",
              "      <td>0.2</td>\n",
              "      <td>1</td>\n",
              "    </tr>\n",
              "    <tr>\n",
              "      <th>1</th>\n",
              "      <td>4.9</td>\n",
              "      <td>3.0</td>\n",
              "      <td>1.4</td>\n",
              "      <td>0.2</td>\n",
              "      <td>1</td>\n",
              "    </tr>\n",
              "    <tr>\n",
              "      <th>2</th>\n",
              "      <td>4.7</td>\n",
              "      <td>3.2</td>\n",
              "      <td>1.3</td>\n",
              "      <td>0.2</td>\n",
              "      <td>1</td>\n",
              "    </tr>\n",
              "    <tr>\n",
              "      <th>3</th>\n",
              "      <td>4.6</td>\n",
              "      <td>3.1</td>\n",
              "      <td>1.5</td>\n",
              "      <td>0.2</td>\n",
              "      <td>1</td>\n",
              "    </tr>\n",
              "    <tr>\n",
              "      <th>4</th>\n",
              "      <td>5.0</td>\n",
              "      <td>3.6</td>\n",
              "      <td>1.4</td>\n",
              "      <td>0.2</td>\n",
              "      <td>1</td>\n",
              "    </tr>\n",
              "  </tbody>\n",
              "</table>\n",
              "</div>"
            ],
            "text/plain": [
              "   sepal_length  sepal_width  petal_length  petal_width  species\n",
              "0           5.1          3.5           1.4          0.2        1\n",
              "1           4.9          3.0           1.4          0.2        1\n",
              "2           4.7          3.2           1.3          0.2        1\n",
              "3           4.6          3.1           1.5          0.2        1\n",
              "4           5.0          3.6           1.4          0.2        1"
            ]
          },
          "metadata": {
            "tags": []
          },
          "execution_count": 15
        }
      ]
    },
    {
      "cell_type": "code",
      "metadata": {
        "id": "btlJPRluHmrP",
        "colab_type": "code",
        "colab": {}
      },
      "source": [
        "# X is our features ('sepal_length', 'sepal_width', 'petal_length', 'petal_width')\n",
        "X = iris.loc[:, ['sepal_length', 'sepal_width', 'petal_length', 'petal_width']]\n",
        "# y is our labels\n",
        "y = iris.loc[:, ['species']]"
      ],
      "execution_count": 0,
      "outputs": []
    },
    {
      "cell_type": "code",
      "metadata": {
        "id": "NDb7bGGvH_d5",
        "colab_type": "code",
        "colab": {
          "base_uri": "https://localhost:8080/",
          "height": 314
        },
        "outputId": "cbdea93c-ab80-44a8-bba8-d23dacf8cfc7"
      },
      "source": [
        "# declare OneHotEncoder from sklearn\n",
        "oneHot = OneHotEncoder()\n",
        "# fit our X to oneHot encoder \n",
        "oneHot.fit(X)\n",
        "# transform\n",
        "X = oneHot.transform(X).toarray()\n",
        "# fit our y to oneHot encoder\n",
        "oneHot.fit(y)\n",
        "# transform\n",
        "y = oneHot.transform(y).toarray()\n",
        "\n",
        "print(\"Our features X in one-hot format\")\n",
        "print(X)"
      ],
      "execution_count": 17,
      "outputs": [
        {
          "output_type": "stream",
          "text": [
            "Our features X in one-hot format\n",
            "[[0. 1. 0. ... 1. 0. 0.]\n",
            " [1. 0. 0. ... 1. 0. 0.]\n",
            " [1. 0. 0. ... 1. 0. 0.]\n",
            " ...\n",
            " [0. 0. 1. ... 0. 0. 1.]\n",
            " [0. 0. 1. ... 0. 0. 1.]\n",
            " [0. 1. 0. ... 0. 1. 0.]]\n"
          ],
          "name": "stdout"
        },
        {
          "output_type": "stream",
          "text": [
            "/usr/local/lib/python3.6/dist-packages/sklearn/preprocessing/_encoders.py:415: FutureWarning: The handling of integer data will change in version 0.22. Currently, the categories are determined based on the range [0, max(values)], while in the future they will be determined based on the unique values.\n",
            "If you want the future behaviour and silence this warning, you can specify \"categories='auto'\".\n",
            "In case you used a LabelEncoder before this OneHotEncoder to convert the categories to integers, then you can now use the OneHotEncoder directly.\n",
            "  warnings.warn(msg, FutureWarning)\n",
            "/usr/local/lib/python3.6/dist-packages/sklearn/preprocessing/_encoders.py:415: FutureWarning: The handling of integer data will change in version 0.22. Currently, the categories are determined based on the range [0, max(values)], while in the future they will be determined based on the unique values.\n",
            "If you want the future behaviour and silence this warning, you can specify \"categories='auto'\".\n",
            "In case you used a LabelEncoder before this OneHotEncoder to convert the categories to integers, then you can now use the OneHotEncoder directly.\n",
            "  warnings.warn(msg, FutureWarning)\n"
          ],
          "name": "stderr"
        }
      ]
    },
    {
      "cell_type": "code",
      "metadata": {
        "id": "SjEGMuEeIEZO",
        "colab_type": "code",
        "colab": {
          "base_uri": "https://localhost:8080/",
          "height": 85
        },
        "outputId": "d7ef1a84-332f-4914-e24f-2a0ff99b9730"
      },
      "source": [
        "# Split our data into training and testing set\n",
        "X_train, X_test, y_train, y_test = train_test_split(X, y, test_size = 0.1, random_state=0)\n",
        "\n",
        "# Print shape of each train and testing\n",
        "print(\"Shape of X_train: \", X_train.shape)\n",
        "print(\"Shape of y_train: \", y_train.shape)\n",
        "print(\"Shape of X_test: \", X_test.shape)\n",
        "print(\"Shape of y_test\", y_test.shape)"
      ],
      "execution_count": 18,
      "outputs": [
        {
          "output_type": "stream",
          "text": [
            "Shape of X_train:  (135, 15)\n",
            "Shape of y_train:  (135, 3)\n",
            "Shape of X_test:  (15, 15)\n",
            "Shape of y_test (15, 3)\n"
          ],
          "name": "stdout"
        }
      ]
    },
    {
      "cell_type": "markdown",
      "metadata": {
        "id": "b6xvxSJOIL_a",
        "colab_type": "text"
      },
      "source": [
        "### 3. Build our model"
      ]
    },
    {
      "cell_type": "code",
      "metadata": {
        "id": "y-maf7cDIOYN",
        "colab_type": "code",
        "colab": {}
      },
      "source": [
        "# hyperparameters\n",
        "learning_rate = 0.0001\n",
        "num_epochs = 1500\n",
        "display_step = 1\n",
        "\n",
        "# for visualize purpose in tensorboard we use tf.name_scope\n",
        "with tf.name_scope(\"Declaring_placeholder\"):\n",
        "    # X is placeholdre for iris features. We will feed data later on\n",
        "    X = tf.placeholder(tf.float32, [None, 15])\n",
        "    # y is placeholder for iris labels. We will feed data later on\n",
        "    y = tf.placeholder(tf.float32, [None, 3])\n",
        "    \n",
        "with tf.name_scope(\"Declaring_variables\"):\n",
        "    # W is our weights. This will update during training time\n",
        "    W = tf.Variable(tf.zeros([15, 3]))\n",
        "    # b is our bias. This will also update during training time\n",
        "    b = tf.Variable(tf.zeros([3]))\n",
        "    \n",
        "with tf.name_scope(\"Declaring_functions\"):\n",
        "    # our prediction function\n",
        "    y_ = tf.nn.softmax(tf.add(tf.matmul(X, W), b))"
      ],
      "execution_count": 0,
      "outputs": []
    },
    {
      "cell_type": "code",
      "metadata": {
        "id": "Xr2HRpH0IUyR",
        "colab_type": "code",
        "colab": {
          "base_uri": "https://localhost:8080/",
          "height": 195
        },
        "outputId": "5956fed4-bbfb-4313-93eb-dcf31281ddab"
      },
      "source": [
        "with tf.name_scope(\"calculating_cost\"):\n",
        "    # calculating cost\n",
        "    cost = tf.nn.softmax_cross_entropy_with_logits(labels=y, logits=y_)\n",
        "with tf.name_scope(\"declaring_gradient_descent\"):\n",
        "    # optimizer\n",
        "    # we use gradient descent for our optimizer \n",
        "    optimizer = tf.train.GradientDescentOptimizer(learning_rate=learning_rate).minimize(cost)"
      ],
      "execution_count": 20,
      "outputs": [
        {
          "output_type": "stream",
          "text": [
            "WARNING: Logging before flag parsing goes to stderr.\n",
            "W0727 20:31:12.464782 140255064196992 deprecation.py:323] From <ipython-input-20-2ada64ee3301>:3: softmax_cross_entropy_with_logits (from tensorflow.python.ops.nn_ops) is deprecated and will be removed in a future version.\n",
            "Instructions for updating:\n",
            "\n",
            "Future major versions of TensorFlow will allow gradients to flow\n",
            "into the labels input on backprop by default.\n",
            "\n",
            "See `tf.nn.softmax_cross_entropy_with_logits_v2`.\n",
            "\n"
          ],
          "name": "stderr"
        }
      ]
    },
    {
      "cell_type": "markdown",
      "metadata": {
        "id": "_O6PzkVgIXwe",
        "colab_type": "text"
      },
      "source": [
        "### 4. Train the model"
      ]
    },
    {
      "cell_type": "code",
      "metadata": {
        "id": "8PNHkosuIbge",
        "colab_type": "code",
        "colab": {
          "base_uri": "https://localhost:8080/",
          "height": 51
        },
        "outputId": "66df3980-f045-46a2-b791-152cfcee19ca"
      },
      "source": [
        "with tf.name_scope(\"starting_tensorflow_session\"):\n",
        "    with tf.Session() as sess:\n",
        "        # initialize all variables\n",
        "        sess.run(tf.global_variables_initializer())\n",
        "        for epoch in range(num_epochs):\n",
        "            cost_in_each_epoch = 0\n",
        "            # let's start training\n",
        "            _, c = sess.run([optimizer, cost], feed_dict={X: X_train, y: y_train})\n",
        "            cost_in_each_epoch += c\n",
        "            # you can uncomment next two lines of code for printing cost when training\n",
        "            #if (epoch+1) % display_step == 0:\n",
        "                #print(\"Epoch: {}\".format(epoch + 1), \"cost={}\".format(cost_in_each_epoch))\n",
        "        \n",
        "        print(\"Optimization Finished!\")\n",
        "\n",
        "        # Test model\n",
        "        correct_prediction = tf.equal(tf.argmax(y_, 1), tf.argmax(y, 1))\n",
        "        # Calculate accuracy for 3000 examples\n",
        "        accuracy = tf.reduce_mean(tf.cast(correct_prediction, tf.float32))\n",
        "        print(\"Accuracy:\", accuracy.eval({X: X_test, y: y_test}))"
      ],
      "execution_count": 21,
      "outputs": [
        {
          "output_type": "stream",
          "text": [
            "Optimization Finished!\n",
            "Accuracy: 1.0\n"
          ],
          "name": "stdout"
        }
      ]
    },
    {
      "cell_type": "markdown",
      "metadata": {
        "id": "e1Dtx9lr1s_4",
        "colab_type": "text"
      },
      "source": [
        "## Multinomial Regression:\n",
        "It is model used to predict probability of different possible outcomes of a categorically dependent variable. In this model more than two discrete outcomes are observed. This model is also known as softmax regression model because we use softmax funtion instead of logistic function.\n",
        "\n",
        "$\\Rightarrow \\large {softmax(\\mu_i)=\\frac {e^{\\mu_i}}{\\sum{e^{\\mu_k}}}}$\n",
        "\n",
        "$y_i \\approx Categorical(\\theta_i)$  (It can take more than two values)\n",
        "\n",
        "Example : we have three classes and four input features and we are goind to standerdize the data, which help the sampler to run efficiently.\n",
        "\n",
        "From the below graphes we can notice difference in shapes of alpha and beta coeffients after using softmax funtion in PYMC3.\n",
        "From the results it shows 98% of data points are classified correctly. We also noticed that the posterior, the marginal distribution of each parameters are very wide indicated by priors. which does'nt help to make precise decisions, the same problem which we saw in correlated data in linear or logistic regression. In this case, all the wide posterior probability conditions are sum to 1 by using more parameter which we need to fully specify the model."
      ]
    },
    {
      "cell_type": "markdown",
      "metadata": {
        "id": "lmyD1ihwKgj5",
        "colab_type": "text"
      },
      "source": [
        "### 1. Read the data"
      ]
    },
    {
      "cell_type": "code",
      "metadata": {
        "id": "tLASRqDTKGjn",
        "colab_type": "code",
        "colab": {
          "resources": {
            "http://localhost:8080/nbextensions/google.colab/files.js": {
              "data": "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",
              "ok": true,
              "headers": [
                [
                  "content-type",
                  "application/javascript"
                ]
              ],
              "status": 200,
              "status_text": ""
            }
          },
          "base_uri": "https://localhost:8080/",
          "height": 262
        },
        "outputId": "c4d2f491-9f37-4d52-ea82-a0886d85d91d"
      },
      "source": [
        "# Read the data\n",
        "uploaded = files.upload()\n",
        "iris = pd.read_csv(io.BytesIO(uploaded['iris.csv']), sep=',', header=0)\n",
        "iris = sns.load_dataset(\"iris\")\n",
        "iris.head()"
      ],
      "execution_count": 24,
      "outputs": [
        {
          "output_type": "display_data",
          "data": {
            "text/html": [
              "\n",
              "     <input type=\"file\" id=\"files-7c4c97f9-9c67-4d99-9817-c593baa20092\" name=\"files[]\" multiple disabled />\n",
              "     <output id=\"result-7c4c97f9-9c67-4d99-9817-c593baa20092\">\n",
              "      Upload widget is only available when the cell has been executed in the\n",
              "      current browser session. Please rerun this cell to enable.\n",
              "      </output>\n",
              "      <script src=\"/nbextensions/google.colab/files.js\"></script> "
            ],
            "text/plain": [
              "<IPython.core.display.HTML object>"
            ]
          },
          "metadata": {
            "tags": []
          }
        },
        {
          "output_type": "stream",
          "text": [
            "Saving iris.csv to iris (3).csv\n"
          ],
          "name": "stdout"
        },
        {
          "output_type": "execute_result",
          "data": {
            "text/html": [
              "<div>\n",
              "<style scoped>\n",
              "    .dataframe tbody tr th:only-of-type {\n",
              "        vertical-align: middle;\n",
              "    }\n",
              "\n",
              "    .dataframe tbody tr th {\n",
              "        vertical-align: top;\n",
              "    }\n",
              "\n",
              "    .dataframe thead th {\n",
              "        text-align: right;\n",
              "    }\n",
              "</style>\n",
              "<table border=\"1\" class=\"dataframe\">\n",
              "  <thead>\n",
              "    <tr style=\"text-align: right;\">\n",
              "      <th></th>\n",
              "      <th>sepal_length</th>\n",
              "      <th>sepal_width</th>\n",
              "      <th>petal_length</th>\n",
              "      <th>petal_width</th>\n",
              "      <th>species</th>\n",
              "    </tr>\n",
              "  </thead>\n",
              "  <tbody>\n",
              "    <tr>\n",
              "      <th>0</th>\n",
              "      <td>5.1</td>\n",
              "      <td>3.5</td>\n",
              "      <td>1.4</td>\n",
              "      <td>0.2</td>\n",
              "      <td>setosa</td>\n",
              "    </tr>\n",
              "    <tr>\n",
              "      <th>1</th>\n",
              "      <td>4.9</td>\n",
              "      <td>3.0</td>\n",
              "      <td>1.4</td>\n",
              "      <td>0.2</td>\n",
              "      <td>setosa</td>\n",
              "    </tr>\n",
              "    <tr>\n",
              "      <th>2</th>\n",
              "      <td>4.7</td>\n",
              "      <td>3.2</td>\n",
              "      <td>1.3</td>\n",
              "      <td>0.2</td>\n",
              "      <td>setosa</td>\n",
              "    </tr>\n",
              "    <tr>\n",
              "      <th>3</th>\n",
              "      <td>4.6</td>\n",
              "      <td>3.1</td>\n",
              "      <td>1.5</td>\n",
              "      <td>0.2</td>\n",
              "      <td>setosa</td>\n",
              "    </tr>\n",
              "    <tr>\n",
              "      <th>4</th>\n",
              "      <td>5.0</td>\n",
              "      <td>3.6</td>\n",
              "      <td>1.4</td>\n",
              "      <td>0.2</td>\n",
              "      <td>setosa</td>\n",
              "    </tr>\n",
              "  </tbody>\n",
              "</table>\n",
              "</div>"
            ],
            "text/plain": [
              "   sepal_length  sepal_width  petal_length  petal_width species\n",
              "0           5.1          3.5           1.4          0.2  setosa\n",
              "1           4.9          3.0           1.4          0.2  setosa\n",
              "2           4.7          3.2           1.3          0.2  setosa\n",
              "3           4.6          3.1           1.5          0.2  setosa\n",
              "4           5.0          3.6           1.4          0.2  setosa"
            ]
          },
          "metadata": {
            "tags": []
          },
          "execution_count": 24
        }
      ]
    },
    {
      "cell_type": "markdown",
      "metadata": {
        "id": "CPUoN3TDK8B6",
        "colab_type": "text"
      },
      "source": [
        "### 2. Data Pre-processing"
      ]
    },
    {
      "cell_type": "code",
      "metadata": {
        "id": "gs7xeYsLK98_",
        "colab_type": "code",
        "colab": {
          "base_uri": "https://localhost:8080/",
          "height": 204
        },
        "outputId": "f1abe406-8fbd-452e-96a4-345721e3d797"
      },
      "source": [
        "# One Hot Encode the Species column\n",
        "iris_one_hot_encoded = pd.get_dummies(iris)\n",
        "iris_one_hot_encoded.head()"
      ],
      "execution_count": 25,
      "outputs": [
        {
          "output_type": "execute_result",
          "data": {
            "text/html": [
              "<div>\n",
              "<style scoped>\n",
              "    .dataframe tbody tr th:only-of-type {\n",
              "        vertical-align: middle;\n",
              "    }\n",
              "\n",
              "    .dataframe tbody tr th {\n",
              "        vertical-align: top;\n",
              "    }\n",
              "\n",
              "    .dataframe thead th {\n",
              "        text-align: right;\n",
              "    }\n",
              "</style>\n",
              "<table border=\"1\" class=\"dataframe\">\n",
              "  <thead>\n",
              "    <tr style=\"text-align: right;\">\n",
              "      <th></th>\n",
              "      <th>sepal_length</th>\n",
              "      <th>sepal_width</th>\n",
              "      <th>petal_length</th>\n",
              "      <th>petal_width</th>\n",
              "      <th>species_setosa</th>\n",
              "      <th>species_versicolor</th>\n",
              "      <th>species_virginica</th>\n",
              "    </tr>\n",
              "  </thead>\n",
              "  <tbody>\n",
              "    <tr>\n",
              "      <th>0</th>\n",
              "      <td>5.1</td>\n",
              "      <td>3.5</td>\n",
              "      <td>1.4</td>\n",
              "      <td>0.2</td>\n",
              "      <td>1</td>\n",
              "      <td>0</td>\n",
              "      <td>0</td>\n",
              "    </tr>\n",
              "    <tr>\n",
              "      <th>1</th>\n",
              "      <td>4.9</td>\n",
              "      <td>3.0</td>\n",
              "      <td>1.4</td>\n",
              "      <td>0.2</td>\n",
              "      <td>1</td>\n",
              "      <td>0</td>\n",
              "      <td>0</td>\n",
              "    </tr>\n",
              "    <tr>\n",
              "      <th>2</th>\n",
              "      <td>4.7</td>\n",
              "      <td>3.2</td>\n",
              "      <td>1.3</td>\n",
              "      <td>0.2</td>\n",
              "      <td>1</td>\n",
              "      <td>0</td>\n",
              "      <td>0</td>\n",
              "    </tr>\n",
              "    <tr>\n",
              "      <th>3</th>\n",
              "      <td>4.6</td>\n",
              "      <td>3.1</td>\n",
              "      <td>1.5</td>\n",
              "      <td>0.2</td>\n",
              "      <td>1</td>\n",
              "      <td>0</td>\n",
              "      <td>0</td>\n",
              "    </tr>\n",
              "    <tr>\n",
              "      <th>4</th>\n",
              "      <td>5.0</td>\n",
              "      <td>3.6</td>\n",
              "      <td>1.4</td>\n",
              "      <td>0.2</td>\n",
              "      <td>1</td>\n",
              "      <td>0</td>\n",
              "      <td>0</td>\n",
              "    </tr>\n",
              "  </tbody>\n",
              "</table>\n",
              "</div>"
            ],
            "text/plain": [
              "   sepal_length  sepal_width  ...  species_versicolor  species_virginica\n",
              "0           5.1          3.5  ...                   0                  0\n",
              "1           4.9          3.0  ...                   0                  0\n",
              "2           4.7          3.2  ...                   0                  0\n",
              "3           4.6          3.1  ...                   0                  0\n",
              "4           5.0          3.6  ...                   0                  0\n",
              "\n",
              "[5 rows x 7 columns]"
            ]
          },
          "metadata": {
            "tags": []
          },
          "execution_count": 25
        }
      ]
    },
    {
      "cell_type": "code",
      "metadata": {
        "id": "rZkkKPAHLOMW",
        "colab_type": "code",
        "colab": {}
      },
      "source": [
        "# Spit the dataset for training (80%) and testing (20%)\n",
        "iris_train_data = iris_one_hot_encoded.sample(frac=0.8, random_state=200)\n",
        "iris_test_data = iris_one_hot_encoded.drop(iris_train_data.index)"
      ],
      "execution_count": 0,
      "outputs": []
    },
    {
      "cell_type": "code",
      "metadata": {
        "id": "R0OMGI0HLbHV",
        "colab_type": "code",
        "colab": {}
      },
      "source": [
        "iris_train_input_data = iris_train_data.filter(['sepal_length', 'sepal_width', 'petal_length', 'petal_width'])\n",
        "iris_train_label_data = iris_train_data.filter(['setosa', 'versicolor', 'virginica'])\n",
        "iris_test_input_data = iris_test_data.filter(['sepal_length', 'sepal_width', 'petal_length', 'petal_width'])\n",
        "iris_test_label_data = iris_test_data.filter(['setosa', 'versicolor', 'virginica'])"
      ],
      "execution_count": 0,
      "outputs": []
    },
    {
      "cell_type": "code",
      "metadata": {
        "id": "pLxVP52DLt7A",
        "colab_type": "code",
        "colab": {}
      },
      "source": [
        "x = tf.placeholder(tf.float32,[None, 4])\n",
        "W = tf.Variable(tf.zeros([4, 3]))\n",
        "b = tf.Variable(tf.zeros([3]))"
      ],
      "execution_count": 0,
      "outputs": []
    },
    {
      "cell_type": "markdown",
      "metadata": {
        "id": "EZwdp_QSLybn",
        "colab_type": "text"
      },
      "source": [
        "### 3. Softmax Regression\n",
        "\n",
        "y = softmax(W*x + b)"
      ]
    },
    {
      "cell_type": "code",
      "metadata": {
        "id": "ZbgR022ZL3aQ",
        "colab_type": "code",
        "colab": {}
      },
      "source": [
        "y = tf.nn.softmax(tf.matmul(x, W) + b)\n",
        "y_ = tf.placeholder(tf.float32, [None,3])\n",
        "cross_entropy = tf.reduce_mean(-tf.reduce_sum(y_ * tf.log(y), reduction_indices=[1]))\n",
        "\n",
        "train_step = tf.train.GradientDescentOptimizer(0.05).minimize(cross_entropy)\n",
        "sess = tf.InteractiveSession()\n",
        "\n",
        "tf.global_variables_initializer().run()\n",
        "for _ in range(1000):\n",
        "    #Usually send batches to the training step. But since the dataset is small sending all\n",
        "    sess.run(train_step, feed_dict={x: iris_train_input_data, y_: iris_train_label_data})\n",
        "    \n",
        "correct_prediction = tf.equal(tf.argmax(y, 1), tf.argmax(y_, 1))\n",
        "accuracy = tf.reduce_mean(tf.cast(correct_prediction, tf.float32))\n",
        "\n",
        "print('Accuracy : ', sess.run(accuracy, feed_dict={x: iris_test_input_data, y_: iris_test_label_data}))"
      ],
      "execution_count": 0,
      "outputs": []
    },
    {
      "cell_type": "markdown",
      "metadata": {
        "id": "h-P2J9G11tAB",
        "colab_type": "text"
      },
      "source": [
        "## Model comparision and Averaging:\n",
        "We have discussed what is the problem with different types of models and how to learn value of parameter from the data. In model comparision we are going to compare two or more models used to explain the same data. below are following methods.\n",
        "### Occam's Razor - simplicity and accuracy:\n",
        "Occam's Razor is used to choose between two models which explains data or problem equally. It states that if we have different falsifiability criterion explanations for same model, we should choose the one with less complexity. There are many justifications, one of them are pragmatic prespective simpler models, and another one is based one bayesian statistics.\n",
        "The factors which takes in consideration while comparing models are accuracy ( coefficient of determination $R^2$).\n",
        "We are going use least mean square approximation for fitting linear models.\n",
        "#### Overfitting vs underfitting:\n",
        "From the below data we can see that too many parameters leads to overfitting:\n",
        "\n",
        "below example shows us misleading of the data fitting to the model. Because, In the model we can improve the accuracy by adding up the parameters. From this we can say that, accuracy measured to fit the model is known as wide-sample accuracy. predictive accuracy of model measured on data not used for fitting the model is known as out-of-sample accuracy.\n",
        "\n",
        "Too many parameters leads to underfitting:\n",
        "In this model all beta parameters are set to zero. So, we have reduced the linear model to a guassian of dependent variable. This model is can explained by depedent variable and some guassian noise. hence, we say this model has a underfitting data."
      ]
    },
    {
      "cell_type": "code",
      "metadata": {
        "id": "TD6BI-bT1tAC",
        "colab_type": "code",
        "outputId": "07437cc7-97ce-4f7e-d653-33f122077040",
        "colab": {
          "base_uri": "https://localhost:8080/",
          "height": 287
        }
      },
      "source": [
        "x = np.array([4.,5.,6.,9.,12, 14.])\n",
        "y = np.array([4.2, 6., 6., 9., 10, 10.])\n",
        "\n",
        "order = [0, 1, 2, 5]\n",
        "plt.plot(x, y, 'o')\n",
        "for i in order:\n",
        "    x_n = np.linspace(x.min(), x.max(), 100)\n",
        "    coeffs = np.polyfit(x, y, deg=i)\n",
        "    ffit = np.polyval(coeffs, x_n)\n",
        "    \n",
        "    p = np.poly1d(coeffs)\n",
        "    yhat = p(x)\n",
        "    ybar = np.mean(y)\n",
        "    ssreg = np.sum((yhat-ybar)**2)\n",
        "    sstot = np.sum((y - ybar)**2) \n",
        "    r2 = ssreg / sstot\n",
        "\n",
        "    plt.plot(x_n, ffit, label='order {}, $R^2$= {:.2f}'.format(i, r2))\n",
        "\n",
        "plt.legend(loc=2, fontsize=14)\n",
        "plt.xlabel('$x$', fontsize=14)\n",
        "plt.ylabel('$y$', fontsize=14, rotation=0)\n",
        "plt.savefig('B04958_06_01.png', dpi=300, figsize=[5.5, 5.5])\n",
        "#plt.plot([10, 7], [9, 7], 's')\n",
        "#plt.savefig('B04958_06_02.png', dpi=300, figsize=[5.5, 5.5])"
      ],
      "execution_count": 0,
      "outputs": [
        {
          "output_type": "display_data",
          "data": {
            "image/png": "[encoded data removed]",
            "text/plain": [
              "<Figure size 432x288 with 1 Axes>"
            ]
          },
          "metadata": {
            "tags": []
          }
        }
      ]
    },
    {
      "cell_type": "markdown",
      "metadata": {
        "id": "TS1Ywr1V1tAD",
        "colab_type": "text"
      },
      "source": [
        "### Simplicity and Accuracy:\n",
        "An ideal model should be able to neither overfit or underfit the data. In order to do that we have to tune or model. The purpose of fitting a model is to obtain obtain a compressed representation of data so that is can predict the data.\n",
        "Balancing of overfitting and underfitting is explained in terms of bias varience trade-off.\n",
        "High bias is a model with less data. This leads to missing of relavent pattern which is known as underfitting.\n",
        "High variance is high sensitivity model with lots of information in data. Which leads to addition of noise in data which is known as overfitting."
      ]
    },
    {
      "cell_type": "markdown",
      "metadata": {
        "id": "lIvJ3mz91tAE",
        "colab_type": "text"
      },
      "source": [
        "## Regulizing of Priors:\n",
        "Prevention of overfitting can be done by using of informative and weakly informative priors. In non-baysien stastics is two major forms of least mean square method known as Ridge regression and lasso regression. According to bayesian point view ridge regression is formed using normal distribution for beta coeffients and lasso regressing is formed using laplace prior. \n",
        "\n",
        "from the below graphes a gaussian with a mean zero and a standard deviation comparision is shown."
      ]
    },
    {
      "cell_type": "code",
      "metadata": {
        "id": "jZz-oLiI1tAE",
        "colab_type": "code",
        "outputId": "817f85ca-8904-4be8-e029-d9ed165051bd",
        "colab": {
          "base_uri": "https://localhost:8080/",
          "height": 392
        }
      },
      "source": [
        "plt.figure(figsize=(8, 6))\n",
        "x_values = np.linspace(-10, 10, 300)\n",
        "for df in [1, 2, 5, 15]:\n",
        "    distri = stats.laplace(scale=df)\n",
        "    x_pdf = distri.pdf(x_values)\n",
        "    plt.plot(x_values, x_pdf, label='$b$ = {}'.format(df))\n",
        "\n",
        "x_pdf = stats.norm.pdf(x_values)\n",
        "plt.plot(x_values, x_pdf, label='Gaussian')\n",
        "plt.xlabel('x')\n",
        "plt.ylabel('p(x)', rotation=0)\n",
        "plt.legend(loc=0, fontsize=14)\n",
        "plt.xlim(-7, 7);\n",
        "plt.savefig('B04958_06_03.png', dpi=300, figsize=[5.5, 5.5])"
      ],
      "execution_count": 0,
      "outputs": [
        {
          "output_type": "display_data",
          "data": {
            "image/png": "[encoded data removed]",
            "text/plain": [
              "<Figure size 576x432 with 1 Axes>"
            ]
          },
          "metadata": {
            "tags": []
          }
        }
      ]
    },
    {
      "cell_type": "markdown",
      "metadata": {
        "id": "f5ch-p191tAF",
        "colab_type": "text"
      },
      "source": [
        "## Information criteria:\n",
        "Information criteria is defined as collection differenct tools which compare models which show how well they can fit the data while taking complexiting into consideration.\n",
        "#### The log-likelihood and the deviance :\n",
        "It is measuring of data which fits the data model to compute the quadratic mean error between data and predictions:\n",
        "\n",
        "$ \\frac{1}{n} \\sum (y_i -E(y_i \\mid \\theta))^2$ where $E(y_i \\mid \\theta)$ is predicted value for the given estimated parameters. \n",
        "\n",
        "here we are going to compute log-likelihood : $$ \\log p( y \\mid \\theta ) $$\n",
        "for some data this is proportional to the quadratic mean error in simple linear regression case.\n",
        "from this deviance is  $$ -2\\log p( y \\mid \\theta ) $$ ( where is $\\theta$ is estimated from posterior)\n",
        "\n",
        "##### Akaike information criterion:\n",
        "This is widely used information criterion for non-bayesians which is : $ AIC =-2 \\log p( y \\mid \\hat \\theta_{mle} ) + 2 p_{AIC} $        ( here, $P_AIC$ is number of parameters and $\\hat \\theta_{mle}$ is maximum likelihood estimation of $\\theta$)\n",
        "\n",
        "\n",
        "Alternatively, we can represent the previous formula  as :  $ AIC =-2 \\left(\\log p( y \\mid \\hat \\theta_{mle} ) -  p_{AIC} \\right) $ \n",
        "\n",
        "##### Deviation information criterion :\n",
        "Deviation information criterion(DIC) find a way to include AIC information from posterior  and also estimate  the number of parameters from the model and data. DIC =  $ -2 \\times \\log p( y \\mid \\hat \\theta_{post} ) + 2 p_{dic} $ \n",
        "\n",
        "we can see the DIC and AIC are analogous. Now we are computing deviance from $\\hat \\theta _{post}$. $P_{dic}$ is $ \\hat D(\\theta) - D ( \\hat \\theta)$\n",
        "We can say that DIC is more bayesian version of AIC \n"
      ]
    },
    {
      "cell_type": "markdown",
      "metadata": {
        "id": "a6Mpd1xh1tAG",
        "colab_type": "text"
      },
      "source": [
        "### Bayes factors:\n",
        "Most common way to compare models in bayesian analysis in bayes factor.\n",
        "we know that bayes factor is : $ p(\\theta \\mid y) =\\large{ \\frac { p(y \\mid \\theta) p(\\theta)}{p(y)}}$\n",
        "where Y is data and $ \\theta $ is parameters .\n",
        "Now we can re-write the equation as - $ p(\\theta \\mid y, M) =\\Large{ \\frac { p(y \\mid \\theta, M) p(\\theta \\mid M)}{p(y \\mid M)}}$    ( $p(y \\mid M)$ is mariginal likelihood).\n",
        "\n",
        " we can write the evidence as $ p( y, M) ={ \\int {p(y \\mid \\theta, M) p(\\theta \\mid M)}d\\theta_m}$ \n",
        " \n",
        " to compute evidence we need to marginalize over all the possible values of $p(\\theta \\mid M)$\n",
        " now we take the ratios of evidence  BF = $ \\Large {\\frac { p(y \\mid M_o)} {p( y \\mid M_1)}} $\n",
        " \n",
        " if BF > 1 then model 0  explains data better than model 1."
      ]
    },
    {
      "cell_type": "markdown",
      "metadata": {
        "collapsed": true,
        "id": "adqGXZ_V1tAG",
        "colab_type": "text"
      },
      "source": [
        "# References:\n",
        "\n",
        "\n",
        "[1] Using Tensorflow to implement Logistic Regression model | Kaggle.[Online].Available: https://www.kaggle.com/autuanliuyc/logistic-regression-with-tensorflow\n",
        "<br>\n",
        "[2] Logistic regression in Tensorflow for beginner | Kaggle.[Online].Available: https://www.kaggle.com/niyamatalmass/logistic-regression-in-tensorflow-for-beginner\n",
        "<br>\n",
        "[3] Iris TensorFlow Basic Softmax Regression | Kaggle.[Online].Available: \n",
        "https://www.kaggle.com/vijayshinva/iris-tensorflow-basic-softmax-regression"
      ]
    }
  ]
}