{
 "cells": [
  {
   "cell_type": "markdown",
   "metadata": {},
   "source": [
    "# 2.2 Properties of the Distributions and Gaussian Distribution"
   ]
  },
  {
   "cell_type": "markdown",
   "metadata": {},
   "source": [
    "## Objectives\n",
    "\n",
    "+ Introduction\n",
    "    + Random variables\n",
    "    + Probability Distribution,\n",
    "    + Mean, Median and Mode of a Random variable\n",
    "    + Expected Value of a Random Variable\n",
    "    + Variance of a Random Variable\n",
    "    + Calculation of statistics using python\n",
    "        + Mean\n",
    "        + Mode\n",
    "        + Range\n",
    "        + Standard deviation\n",
    "        + Standard Error\n",
    "+ Expectation/means of a Continuous Random Variable\n",
    "+ Properties of Expectations\n",
    "+ Variance and it's properties\n",
    "+ Continuous Uniform Random variable; Parameter a,b\n",
    "+ An example of A/D Converter\n",
    "    + Quantization of signal\n",
    "        + Introduction\n",
    "        + Model of Quantization Process\n",
    "        + Example - Quantization of a sine signal\n",
    "        + Properties\n",
    "        + Applications\n",
    "    + Characteristic of linear uniform quantization\n",
    "        + Quantization Error of a Linear Uniform Quantizer\n",
    "+ Computing SNR(Signal-to-Noise Ratio)\n",
    "    + Model for the Quantization Error\n",
    "    + Uniformly Distributed Signal\n",
    "    + Example - Quantization of a uniformly distributed signal\n",
    "+ Cumulative distributive function\n",
    "    + Probability Mass and Distribution Function\n",
    "    + A continuous example: the Uniform Distribution\n",
    "+ General Normal(Gaussian) random variables\n",
    "    + Gaussian Distrubutions\n",
    "    + Variance and Belief\n",
    "    + The Central Limit Theorem\n",
    "    + The 68-95-99.7 Rule\n",
    "    + Computing Probabilities with scipy.stats and tensorflow\n",
    "+ Calculating normal probabilities\n",
    "    + Standardisation of Normal distrubution\n",
    "    + Example : Crowd size\n",
    "+ Linear functions of a random variable \n",
    "+ Conditional Expectation of X,given an event A \n",
    "+ Total probability and Expectation theorem\n",
    "+ Uses in measurement theory\n",
    "+ References\n"
   ]
  },
  {
   "cell_type": "code",
   "execution_count": 2,
   "metadata": {},
   "outputs": [
    {
     "name": "stderr",
     "output_type": "stream",
     "text": [
      "/Users/shawn/anaconda3/lib/python3.6/site-packages/h5py/__init__.py:36: FutureWarning: Conversion of the second argument of issubdtype from `float` to `np.floating` is deprecated. In future, it will be treated as `np.float64 == np.dtype(float).type`.\n",
      "  from ._conv import register_converters as _register_converters\n"
     ]
    },
    {
     "name": "stdout",
     "output_type": "stream",
     "text": [
      "\n",
      "WARNING: The TensorFlow contrib module will not be included in TensorFlow 2.0.\n",
      "For more information, please see:\n",
      "  * https://github.com/tensorflow/community/blob/master/rfcs/20180907-contrib-sunset.md\n",
      "  * https://github.com/tensorflow/addons\n",
      "If you depend on functionality not listed there, please file an issue.\n",
      "\n"
     ]
    }
   ],
   "source": [
    "# Import Numpy\n",
    "import numpy as np\n",
    "\n",
    "# Import Scipy\n",
    "from scipy import stats\n",
    "\n",
    "# Import Matplotlib\n",
    "import matplotlib\n",
    "import matplotlib.pyplot as plt\n",
    "\n",
    "#Import Seaborn\n",
    "import seaborn as sns\n",
    "\n",
    "# Import Tensorflow and Tensorflow Probability\n",
    "import tensorflow as tf\n",
    "import tensorflow_probability as tfp\n",
    "\n",
    "# Use tensorflow.Session()\n",
    "sess = tf.Session()"
   ]
  },
  {
   "cell_type": "markdown",
   "metadata": {},
   "source": [
    "## Introduction\n",
    "\n",
    "The last part finished by examining diffrent probability distrubutions. Likewise how these distrubutions function in demonstrating our day to day life occasions. For an istance, Gaussian noise is statistical noise having a probability density function (PDF) varies like bell curve.\n",
    "\n",
    "In this part , we will talk about on the highlights of desires, mean, change, aggregate distributive capacity and restrictive desire of occasion. The vast majority of you will have information on basic statistcs however I will explain anyway[2]"
   ]
  },
  {
   "cell_type": "markdown",
   "metadata": {},
   "source": [
    "### Random Variables\n",
    "\n",
    "The phrase '_Random_' method in dictionary means that an unknown, unspecified, or abnormal character i.e. you'll no longer have any information on its outcome. for instance, every time you roll a dice the *outcome* will be constantly between 1 and 6. If we rolled a truthful dice one million times we'd expect to get a one 1/6 of the time. Thus we say the *probability* of any final results is 1/6.\n",
    "\n",
    "The variable whose outcome can not be prdicted is known as a random variable. Sample space is the variety of values that an outcome can take , example {1,2,3,4,5,6} is the smaple area for a dice can take."
   ]
  },
  {
   "cell_type": "markdown",
   "metadata": {},
   "source": [
    "### Probability Distribution\n",
    "\n",
    "\n",
    "The probability distribution gives the probability for the random variable to occure or take any value in a sample space[2]. Lets roll a dice and then predict the outcome of each value.\n",
    "\n",
    "Below table is the probability of each outcome (This table is copied from [2])\n",
    "\n",
    "|Value|Probability|\n",
    "|-----|-----------|\n",
    "|1|1/6|\n",
    "|2|1/6|\n",
    "|3|1/6|\n",
    "|4|1/6|\n",
    "|5|1/6|\n",
    "|6|1/6|\n",
    "\n",
    "\n",
    "$P(X{=}1) = f(1) = \\frac{1}{6}$, This states that the probability of dice can taken value 1 is $\\frac{1}{6}$. \n",
    "\n",
    "The probabilities for all values of a *discrete random value* is known as the *discrete probability distribution* [2]and the probabilities for all values of a continuous random value is known as the continuous probability distribution[2].\n",
    "\n",
    "We formulize this requirement [2] as\n",
    "\n",
    "$$\\sum\\limits_u P(X{=}u)= 1 \\quad \\textrm{for discrete distributions}$$\n",
    "\n",
    "$$\\int\\limits_u P(X{=}u) \\,du= 1  \\quad \\textrm{for continuous distributions.}$$\n"
   ]
  },
  {
   "cell_type": "markdown",
   "metadata": {},
   "source": [
    "### The Mean, Median, and Mode of a Random Variable\n",
    "\n",
    "Given a fixed information we frequently need to recognise a centre of gravity or average data for the set. This data we called as mean. Its necessory that we should have knowledge of mean because it will supply us to set limits so that every factor or variety can achive it easily. for example[2] we'd need to know the average height of the students in a class. we all know the way to find the average, We compute the suggest via summing the values and dividing by number of the values [2].\n",
    "\n",
    "Example (This example is copied from [2]):\n",
    "\n",
    "If the heights of the students in meters is \n",
    "\n",
    "$$X = \\{1.8, 2.0, 1.7, 1.9, 1.6\\}$$\n",
    "\n",
    "we compute the mean as\n",
    "\n",
    "$$\\mu = \\frac{1.8 + 2.0 + 1.7 + 1.9 + 1.6}{5} = 1.8$$\n",
    "\n",
    "We can use the symbol $\\mu$ (mu) to denote the mean and We can formalize this computation with the equation[2]\n",
    "\n",
    "$$ \\mu = \\frac{1}{n}\\sum^n_{i=1} x_i$$\n",
    "\n",
    "In python, tensorflow provides `tf.reduce_mean` for computing the mean."
   ]
  },
  {
   "cell_type": "code",
   "execution_count": 3,
   "metadata": {},
   "outputs": [
    {
     "name": "stdout",
     "output_type": "stream",
     "text": [
      "The mean value of random variable X is: 1.8333334\n"
     ]
    }
   ],
   "source": [
    "# Define the values of random variable X\n",
    "x = [1.8, 2.0, 2.0,1.7, 1.9, 1.6]\n",
    "\n",
    "# Calculating the mean value of random varaible X\n",
    "x_mean = tf.reduce_mean(x)\n",
    "x_mean = sess.run(x_mean)\n",
    "\n",
    "# Printing out the result\n",
    "print(\"The mean value of random variable X is:\", x_mean)"
   ]
  },
  {
   "cell_type": "markdown",
   "metadata": {},
   "source": [
    "The *mode* of a set of numbers is the most repeated number. If a number repeats two times than any other number then its unimodal. If two numbers repeats most number of times then its multimodel\n",
    "\n",
    "For example, the set {1, 2, 2, 2, 3, 4, 4, 4} has modes 2 and 4, which is multimodal, and the set {5, 7, 7, 13} has the mode 7, and so it is unimodal. \n",
    "\n",
    "Under scipy.stats library, mode(array_name) will gives you mode in python."
   ]
  },
  {
   "cell_type": "code",
   "execution_count": 14,
   "metadata": {},
   "outputs": [
    {
     "name": "stdout",
     "output_type": "stream",
     "text": [
      "The mode of random variable X is: 2.0\n"
     ]
    }
   ],
   "source": [
    "# Define the values of random variable X\n",
    "x = [1.8, 2.0, 2.0,1.7, 1.9, 1.6]\n",
    "\n",
    "# Calculating the mode of random varaible X\n",
    "x_mode = stats.mode(x)\n",
    "x_mode = np.sum(x_mode[0])\n",
    "\n",
    "# Printing out the result\n",
    "print(\"The mode of random variable X is:\", x_mode)"
   ]
  },
  {
   "cell_type": "markdown",
   "metadata": {},
   "source": [
    "Finally, the *median* of a set of numbers is the middle point of the set so that half the values are below the median and half are above the median[2]. \n",
    "\n",
    "Under tensorflow.contrib.distributions library, percentile(array_name) will gives you median in python."
   ]
  },
  {
   "cell_type": "code",
   "execution_count": 4,
   "metadata": {},
   "outputs": [
    {
     "name": "stdout",
     "output_type": "stream",
     "text": [
      "WARNING:tensorflow:From /Users/shawn/anaconda3/lib/python3.6/site-packages/tensorflow/contrib/distributions/python/ops/sample_stats.py:307: to_double (from tensorflow.python.ops.math_ops) is deprecated and will be removed in a future version.\n",
      "Instructions for updating:\n",
      "Use tf.cast instead.\n",
      "WARNING:tensorflow:From /Users/shawn/anaconda3/lib/python3.6/site-packages/tensorflow/contrib/distributions/python/ops/sample_stats.py:352: to_int32 (from tensorflow.python.ops.math_ops) is deprecated and will be removed in a future version.\n",
      "Instructions for updating:\n",
      "Use tf.cast instead.\n",
      "The median of random variable X is: 1.9\n"
     ]
    }
   ],
   "source": [
    "# Define the values of random variable X\n",
    "x = [1.8, 2.0, 2.0,1.7, 1.9, 1.6]\n",
    "\n",
    "# Calculating the median of random varaible X\n",
    "x_median = tf.contrib.distributions.percentile(x, 50.0)\n",
    "x_median = sess.run(x_median)\n",
    "\n",
    "# Printing out the result\n",
    "print(\"The median of random variable X is:\", x_median)"
   ]
  },
  {
   "cell_type": "markdown",
   "metadata": {},
   "source": [
    "### Expected Value of a Random Variable\n",
    "\n",
    "The expected value of a random variable is mean or average value of the sample space and is genrally calculated as summing the all numbers and devide it by the number of values in sample space. \n",
    "\n",
    "Let's say we have $x=[4,8,12]$ and each value is equiprobable. Expected value would be the average of 4, 8, and 12, which is 8. In other words, here the expected value is the *mean* of the sample space. Now, Imagine that above 3 numbers are not equiprobable. i.e. 4 ,8,12 have probability of occuring that 20%,40% and 40% respectivly then expected value is not just mean of three numbers, we should also consider its probability of occurance[2].\n",
    "\n",
    "For this case we could compute, $ E[X] = (4)(0.2) + (8)(0.4) + (12)(0.4) = 8.8$\n",
    "\n",
    "We can formalize[2] by taking general scenario of $x_i$ and probability as $p_ix_i$\n",
    "\n",
    "$$\\mathbb E[X] = \\sum_{i=1}^n p_ix_i$$\n",
    "\n",
    "If the probabilities are all equal, the expected value is the same as the mean [2]:\n",
    "\n",
    "$$\\mathbb E[X] = \\sum_{i=1}^n p_ix_i = \\frac{1}{n}\\sum_{i=1}^n x_i = \\mu_x$$\n",
    "\n",
    "If $x$ is continuous we substitute the sum for an integral, like so\n",
    "\n",
    "$$\\mathbb E[X] = \\int_{-\\infty}^\\infty x\\, f(x) \\,dx$$\n",
    "\n",
    "where $f(x)$ is the probability distribution function of $x$. "
   ]
  },
  {
   "cell_type": "markdown",
   "metadata": {},
   "source": [
    "### Variance of a Random Variable\n",
    "\n",
    "Variance means it will tell the dispersion from mean. Even if we have zero mean or non zero mean, it doesn't tell us everything we might want to know. \n",
    "\n",
    "For example (This has been adapted from [2]), suppose we have three classes of students, which we label $X$, $Y$, and $Z$, with these heights:\n",
    "\n",
    "Note: \n",
    "Tensorflow provides the function `tf.nn.moments()` to compute the mean and variance at the same time:"
   ]
  },
  {
   "cell_type": "code",
   "execution_count": 29,
   "metadata": {},
   "outputs": [
    {
     "name": "stdout",
     "output_type": "stream",
     "text": [
      "The mean value of random variable X is: 1.8\n",
      "The variance of random variable X is: 0.0\n",
      "\n",
      "\n",
      "The mean value of random variable Y is: 1.8\n",
      "The variance of random variable Y is: 0.15200001\n",
      "\n",
      "\n",
      "The mean value of random variable Z is: 1.4799999\n",
      "The variance of random variable Z is: 0.021600012\n",
      "\n",
      "\n"
     ]
    }
   ],
   "source": [
    "# Define the values of random variable X, Y and Z\n",
    "x = tf.constant([1.8, 1.8, 1.8, 1.8, 1.8], dtype=tf.float32)\n",
    "y = tf.constant([2.2, 1.5, 2.3, 1.7, 1.3], dtype=tf.float32)\n",
    "z = tf.constant([1.7, 1.6, 1.4, 1.4, 1.3], dtype=tf.float32)\n",
    "\n",
    "# Calculating the mean values and variances of random varaible X, Y and Z\n",
    "x_mean, x_variance = tf.nn.moments(x, axes = 0)\n",
    "x_mean = sess.run(x_mean)\n",
    "x_variance = sess.run(x_variance)\n",
    "\n",
    "y_mean, y_variance = tf.nn.moments(y, axes = 0)\n",
    "y_mean = sess.run(y_mean)\n",
    "y_variance = sess.run(y_variance)\n",
    "\n",
    "z_mean, z_variance = tf.nn.moments(z, axes = 0)\n",
    "z_mean = sess.run(z_mean)\n",
    "z_variance = sess.run(z_variance)\n",
    "\n",
    "# Printing out the result\n",
    "print(\"The mean value of random variable X is:\", x_mean)\n",
    "print(\"The variance of random variable X is:\", x_variance)\n",
    "print(\"\\n\")\n",
    "\n",
    "print(\"The mean value of random variable Y is:\", y_mean)\n",
    "print(\"The variance of random variable Y is:\", y_variance)\n",
    "print(\"\\n\")\n",
    "\n",
    "print(\"The mean value of random variable Z is:\", z_mean)\n",
    "print(\"The variance of random variable Z is:\", z_variance)\n",
    "print(\"\\n\")"
   ]
  },
  {
   "cell_type": "markdown",
   "metadata": {},
   "source": [
    "In first class mean of all students height is 1.8 but it won't tell the full story as variance is zero. there is no dispersion in the values, but in the second class , the variance is 0.152. It means there will be variation of height values from mean is 0.152. Same goes to third class with variation of 0.026. If variance is close to zero then there is less dispersion and if variance is high number then there will be huge difference in each number when compared to mean\n",
    "\n",
    "The equation[2] for computing the variance is\n",
    "\n",
    "$$\\mathit{VAR}(X) = E[(X - \\mu)^2]$$\n",
    "\n",
    "Substituting the expected value as $E[X] = \\sum_{i=1}^n p_ix_i$, and we will assume all heights are equally probable, \n",
    "so we can substitute to get below formula[2]. \n",
    "$$\\mathit{VAR}(X) = \\frac{1}{n}\\sum_{i=1}^n (x_i - \\mu)^2$$\n",
    "\n",
    "Due to the change in parameter unit value like variance is in square meters where as mean is in meters, we can also quantify our dispersion inbterms of standard deviation. which can be given as \n",
    "\n",
    "$$ std(x) = \\sqrt {VAR(X)}$$\n",
    " \n"
   ]
  },
  {
   "cell_type": "markdown",
   "metadata": {},
   "source": [
    "\n",
    "It is typical to use $\\sigma$ for the *standard deviation* and $\\sigma^2$ for the *variance*. \n",
    "\n",
    "For the second class Y class we compute the standard deviation with\n",
    "\n",
    "$$ \n",
    "\\begin{aligned}\n",
    "\\sigma_y &=\\sqrt{\\frac{(2.2-1.8)^2 + (1.5-1.8)^2 + (2.3-1.8)^2 + (1.7-1.8)^2 + (1.3-1.8)^2} {5}} \\\\\n",
    "&= \\sqrt{\\frac{0.16 + 0.09 + 0.25 + 0.01 + 0.25}{5}} \\\\\n",
    "\\sigma_y&= \\sqrt{0.152}=0.3899\n",
    "\\end{aligned}$$\n",
    "\n",
    "We can verify the standard deviation using `tf.math.reduce_std()` which computes the standard deviation. 'std' is a common abbreviation for standard deviation."
   ]
  },
  {
   "cell_type": "code",
   "execution_count": 35,
   "metadata": {},
   "outputs": [
    {
     "name": "stdout",
     "output_type": "stream",
     "text": [
      "The variance of random variable Y is: 0.15200001\n",
      "The standard deviation of random variable Y is: 0.38987178\n"
     ]
    }
   ],
   "source": [
    "# Define the values of random variable Y\n",
    "y = tf.constant([2.2, 1.5, 2.3, 1.7, 1.3], dtype=tf.float32)\n",
    "\n",
    "# Calculating the mean value and variance of random varaible Y\n",
    "y_mean, y_variance = tf.nn.moments(y, axes = 0)\n",
    "y_variance = sess.run(y_variance)\n",
    "\n",
    "# Calculating the standard deviation of random varaible Y\n",
    "y_std = tf.math.reduce_std(y)\n",
    "y_std = sess.run(y_std)\n",
    "\n",
    "# Printing out the result\n",
    "print(\"The variance of random variable Y is:\", y_variance)\n",
    "print(\"The standard deviation of random variable Y is:\", y_std)"
   ]
  },
  {
   "cell_type": "markdown",
   "metadata": {},
   "source": [
    "Let’s create a dataset to work with and plot a histogram to visualise (this example is adapted from [2]):"
   ]
  },
  {
   "cell_type": "code",
   "execution_count": null,
   "metadata": {
    "scrolled": true
   },
   "outputs": [],
   "source": [
    "%matplotlib inline\n",
    "matplotlib.style.use('ggplot')\n",
    "\n",
    "np.random.seed(1)\n",
    "data = np.round(np.random.normal(5, 2, 10000))\n",
    "plt.hist(data, bins=10, range=(0,10), edgecolor='black')\n",
    "plt.show()"
   ]
  },
  {
   "cell_type": "code",
   "execution_count": null,
   "metadata": {},
   "outputs": [],
   "source": [
    "stats.sem(data)"
   ]
  },
  {
   "cell_type": "markdown",
   "metadata": {
    "collapsed": true
   },
   "source": [
    "### Calculation of statistics using python"
   ]
  },
  {
   "cell_type": "markdown",
   "metadata": {},
   "source": [
    "#### Mean\n",
    "\n",
    "Mean is calculated as below[2]\n",
    "$$\\mu = \\dfrac{\\sum_{i=1}^{N} x_i}{N}$$\n",
    "\n",
    "Numpy implements a mean function for calculating the mean:"
   ]
  },
  {
   "cell_type": "code",
   "execution_count": 37,
   "metadata": {
    "scrolled": true
   },
   "outputs": [
    {
     "name": "stdout",
     "output_type": "stream",
     "text": [
      "The mean value of data is: 5.0\n"
     ]
    }
   ],
   "source": [
    "# Define the data we would calculate\n",
    "dist = tfp.distributions.Normal(loc=5., scale=2.)\n",
    "\n",
    "# Calculating the mean value\n",
    "data_mean = dist.mean()\n",
    "data_mean = sess.run(data_mean)\n",
    "\n",
    "# printing out the result\n",
    "print(\"The mean value of data is:\", data_mean)"
   ]
  },
  {
   "cell_type": "markdown",
   "metadata": {},
   "source": [
    "#### Median\n",
    "The median value[2] is the middlemost value, you take the value in the position of\n",
    "$$\\dfrac{n+1}{2}$$\n",
    "of the sorted data. If its even number then its the average among middle point value.\n",
    "\n",
    "Using the library Numpy, we can also calculate the median:"
   ]
  },
  {
   "cell_type": "code",
   "execution_count": 38,
   "metadata": {},
   "outputs": [
    {
     "name": "stdout",
     "output_type": "stream",
     "text": [
      "WARNING:tensorflow:From /Users/shawn/anaconda3/lib/python3.6/site-packages/tensorflow/contrib/distributions/python/ops/sample_stats.py:307: to_double (from tensorflow.python.ops.math_ops) is deprecated and will be removed in a future version.\n",
      "Instructions for updating:\n",
      "Use tf.cast instead.\n",
      "WARNING:tensorflow:From /Users/shawn/anaconda3/lib/python3.6/site-packages/tensorflow/contrib/distributions/python/ops/sample_stats.py:352: to_int32 (from tensorflow.python.ops.math_ops) is deprecated and will be removed in a future version.\n",
      "Instructions for updating:\n",
      "Use tf.cast instead.\n",
      "The median of data is: 5.0\n"
     ]
    }
   ],
   "source": [
    "# Define the data we would calculate\n",
    "data = np.round(np.random.normal(5, 2, 10000))\n",
    "\n",
    "# Calculating the median of data\n",
    "data_median = tf.contrib.distributions.percentile(data, 50.0)\n",
    "data_median = sess.run(data_median)\n",
    "\n",
    "# Printing out the result\n",
    "print(\"The median of data is:\", data_median)"
   ]
  },
  {
   "cell_type": "markdown",
   "metadata": {},
   "source": [
    "#### Mode\n",
    "The mode is the most frequent value.\n",
    "We can see from our histogram already that 5 is the modal value.\n",
    "\n",
    "another example,"
   ]
  },
  {
   "cell_type": "code",
   "execution_count": 39,
   "metadata": {},
   "outputs": [
    {
     "name": "stdout",
     "output_type": "stream",
     "text": [
      "The mode of data is: 4\n"
     ]
    }
   ],
   "source": [
    "# Define the data we would calculate\n",
    "data = [1,2,3,4,4,5,4,5,4,7,8,7]\n",
    "\n",
    "# Calculating the mode of data\n",
    "data_mode = stats.mode(data)\n",
    "data_mode = np.sum(data_mode[0])\n",
    "\n",
    "# Printing out the result\n",
    "print(\"The mode of data is:\", data_mode)"
   ]
  },
  {
   "cell_type": "markdown",
   "metadata": {},
   "source": [
    "#### Range\n",
    "The range gives a measure of how spread apart the values are[2].\n",
    "\n",
    "The range is simply calculated as the maximum value – minimum value\n",
    "$$Max(x_i) - Min(x_i)$$\n",
    "\n",
    "Numpy implements this as a point to point function np.ptp()"
   ]
  },
  {
   "cell_type": "code",
   "execution_count": 42,
   "metadata": {},
   "outputs": [
    {
     "name": "stdout",
     "output_type": "stream",
     "text": [
      "The range of data is: 7\n"
     ]
    }
   ],
   "source": [
    "# Define the data we would calculate\n",
    "data = [1,2,3,4,4,5,4,5,4,7,8,7]\n",
    "\n",
    "# Calculating the Range of data\n",
    "data_range = np.ptp(data)\n",
    "print(\"The range of data is:\", data_range)"
   ]
  },
  {
   "cell_type": "markdown",
   "metadata": {},
   "source": [
    "#### Variance\n",
    "Variance is a measure of how variable the data is, it is calculated [2] as:\n",
    "$$\\sigma^2 = \\dfrac{\\sum_{i=1}^{N} (x_i - \\mu)^2}{N}$$\n",
    "Numpy implements the variance as a function tf.nn.moments()"
   ]
  },
  {
   "cell_type": "code",
   "execution_count": 45,
   "metadata": {},
   "outputs": [
    {
     "name": "stdout",
     "output_type": "stream",
     "text": [
      "The variance of data is: 3.9166667\n"
     ]
    }
   ],
   "source": [
    "# Define the data we would calculate\n",
    "data = tf.constant([1,2,3,4,4,5,4,5,4,7,8,7],dtype=tf.float32)\n",
    "\n",
    "# Calculating the variance of data\n",
    "_, data_variance = tf.nn.moments(data, axes = 0)\n",
    "data_variance = sess.run(data_variance)\n",
    "\n",
    "print(\"The variance of data is:\", data_variance)"
   ]
  },
  {
   "cell_type": "markdown",
   "metadata": {},
   "source": [
    "#### Standard Deviation\n",
    "The variance can get very large for large data sets and so we will often use the standard deviation, which is the square root of the variance:\n",
    "\n",
    "$$\\sigma = \\sqrt{\\sigma^2}$$\n",
    "\n",
    "\n",
    "This is implemented in Numpy as np.std()"
   ]
  },
  {
   "cell_type": "code",
   "execution_count": 46,
   "metadata": {},
   "outputs": [
    {
     "name": "stdout",
     "output_type": "stream",
     "text": [
      "The std of data is: 1.9790571\n"
     ]
    }
   ],
   "source": [
    "# Define the data we would calculate\n",
    "data = tf.constant([1,2,3,4,4,5,4,5,4,7,8,7],dtype=tf.float32)\n",
    "\n",
    "# Calculating the std of data\n",
    "data_std = tf.math.reduce_std(data)\n",
    "data_std = sess.run(data_std)\n",
    "\n",
    "print(\"The std of data is:\", data_std)"
   ]
  },
  {
   "cell_type": "markdown",
   "metadata": {},
   "source": [
    "#### Standard Error\n",
    "The standard error of the mean (SE of the mean) estimates the variability between sample means that you would obtain if you took multiple samples from the same population. \n",
    "\n",
    "The standard error of the mean estimates the variability between samples whereas the standard deviation measures the variability within a single sample(This definition is copied from [2]).\n",
    "\n",
    "It is calculated as below formula[2]:\n",
    "$$SE = \\dfrac{s}{\\sqrt{n}}$$    \n",
    "Where s is the sample standard deviation."
   ]
  },
  {
   "cell_type": "code",
   "execution_count": 12,
   "metadata": {},
   "outputs": [
    {
     "data": {
      "text/plain": [
       "1.2893796958227628"
      ]
     },
     "execution_count": 12,
     "metadata": {},
     "output_type": "execute_result"
    }
   ],
   "source": [
    ">>> from scipy import stats\n",
    ">>> a = np.arange(20).reshape(5,4)\n",
    ">>> stats.sem(a)\n",
    ">>> stats.sem(a, axis=None, ddof=0)\n"
   ]
  },
  {
   "cell_type": "markdown",
   "metadata": {},
   "source": [
    "## Expectation / Mean of continuous random variable\n",
    "\n",
    "\n",
    "![Image01](2.2/Image01.PNG \"Probability mass function\")\n",
    "\n",
    "In picture (This image is copied from[4]) above, First one on left side indicates probability mass function of discrte random variable and second one on right side indicates probability distrubution function of continuous random variable.\n",
    "\n",
    "The expectation value of a quantity in regards to the a density(PDF) or probability mass function(PMF) is the weighted sum of the quantity where the weights are probabilties from the distribution[2]. For example, for the discrete random variable X and observation x:\n",
    "$$E_f[X] = \\sum_x x\\,f(x)$$\n",
    "In the continuous case the sum($\\sum$) is replaced by an integral of the density:\n",
    "$$E_f[X] =  \\int_{-\\infty}^{\\infty} x\\,f_X(x)\\;dx$$\n",
    "\n",
    "Thus, the expected value, or mean  of X is defined[2] to be \n",
    "$$\n",
    "E_{f}{X} = \\int x dF(x) = \n",
    "\\begin{cases}\n",
    "\\sum_x x f(x) & \\text{if X is discrete}\\\\\n",
    "\\int_{-\\infty}^{\\infty} x\\,f_X(x)\\;dx & \\text{if X is continuous}\n",
    "\\end{cases}$$\n",
    "\n",
    "\n"
   ]
  },
  {
   "cell_type": "markdown",
   "metadata": {},
   "source": [
    "## Properties of expectations\n",
    "\n",
    "Below are the important properties of expectations[4].\n",
    "\n",
    "1.  Non Zero expectation\n",
    "$$\\space \\quad \\textrm{If} \\quad X \\geq 0 \\quad \\textrm{then} \\quad E(X) \\geq 0$$\n",
    "\n",
    "2.  Expectation with in interval [a,b]\n",
    "$$\\space \\quad \\textrm{If} \\quad a \\leq X \\leq b \\quad \\textrm{then} \\quad a \\leq E(X) \\leq b$$\n",
    "\n",
    "3.  Expected value rule\n",
    "$$E[g(X)] = \\sum_x g(x)\\,p_X(x) \\quad \\textrm{and} \\quad E[g(X)] = \\int_{-\\infty}^{\\infty} g(x)\\,f_X(x)\\;dx$$ \n",
    "\n",
    "4. Linearity\n",
    "Let X be a continuous random variable with mean $μ_X$ and for any real numbers a,b Then\n",
    "\n",
    "$$\\mathrm{E}(aX + b) = a\\,\\mathrm{E}(X) + b = a\\mu_X + b$$\n",
    "\n",
    "   __Proof :__\n",
    "For a continuous random variable X, the mean of a function of X, say g(X), is given by\n",
    "$$\\mathrm{E}[g(X)] = \\int_{-\\infty}^{\\infty} g(x)\\,f_X(x)\\;dx.$$\n",
    "\n",
    "$$\\quad \\textrm{So, for}\\quad g(X) = aX + b \\quad \\textrm{we find that}\\quad$$\n",
    "\n",
    "\\begin{align*}\n",
    "  \\mathrm{E}(aX+b) &= \\int_{-\\infty}^{\\infty} (ax+b)\\,f_X(x)\\;dx \\\\\\\\\n",
    "  &= \\int_{-\\infty}^{\\infty} ax\\,f_X(x)\\;dx + \\int_{-\\infty}^{\\infty} b\\,f_X(x)\\;dx \\\\\\\\\n",
    "  &= a \\int_{-\\infty}^{\\infty} x\\,f_X(x)\\;dx + b \\int_{-\\infty}^{\\infty} f_X(x)\\;dx \\\\\\\\\n",
    "  &= a\\,\\mathrm{E}(X) + b=a\\mu_X + b. \n",
    "  \\end{align*}\n",
    "   "
   ]
  },
  {
   "cell_type": "markdown",
   "metadata": {},
   "source": [
    "__Proof for linearity with python coding : __\n",
    "Lets take two arrays x and y.\n",
    "As per linearity take equation as $z_{xy}=10 \\times x+y$ where $z_{xy}$ is the result array with x and y.\n",
    "Verify the mean $z_{xy}$ with x mean and y mean\n",
    "It should be $$\\overline z_{xy} = 10\\times \\overline x + \\overline y$$\n"
   ]
  },
  {
   "cell_type": "code",
   "execution_count": 56,
   "metadata": {},
   "outputs": [
    {
     "name": "stdout",
     "output_type": "stream",
     "text": [
      "The expected value is array[x] E(x): 5.3333335\n"
     ]
    }
   ],
   "source": [
    "x = tf.constant([1, 2, 3, 4, 5, 6, 8, 9, 10], dtype=tf.float32)\n",
    "E_x = tf.math.reduce_mean(x)\n",
    "E_x = sess.run(E_x)\n",
    "\n",
    "print( 'The expected value is array[x] E(x): ' +str(E_x ))"
   ]
  },
  {
   "cell_type": "code",
   "execution_count": 57,
   "metadata": {},
   "outputs": [
    {
     "name": "stdout",
     "output_type": "stream",
     "text": [
      "The expected value is array[y] E(y): 57.555557\n"
     ]
    }
   ],
   "source": [
    "y = tf.constant([11, 22, 33, 44, 55, 66, 88, 99, 100], dtype=tf.float32)\n",
    "E_y = tf.math.reduce_mean(y)\n",
    "E_y = sess.run(E_y)\n",
    "\n",
    "print( 'The expected value is array[y] E(y): ' +str(E_y ))"
   ]
  },
  {
   "cell_type": "code",
   "execution_count": 62,
   "metadata": {},
   "outputs": [
    {
     "name": "stdout",
     "output_type": "stream",
     "text": [
      "[ 21.  42.  63.  84. 105. 126. 168. 189. 200.]\n",
      "The expected value is array[zxy] E(zxy): 110.888885\n"
     ]
    }
   ],
   "source": [
    "## linearity zxy=zx+y=z*10+y  which should lead to E(zxy)=10E(x)+E(y)\n",
    "zx = 10 * x          ##multiplying each array element of x with 10 ==> zx\n",
    "zxy = np.add(zx,y)   ##adding each array elements of zx with y ==> zxy\n",
    "\n",
    "E_zxy = tf.math.reduce_mean(zxy)  ##check for expected value\n",
    "zxy = sess.run(zxy)\n",
    "E_zxy = sess.run(E_zxy)\n",
    "\n",
    "print(zxy)  ##print elements\n",
    "print( 'The expected value is array[zxy] E(zxy): ' + str(E_zxy ))"
   ]
  },
  {
   "cell_type": "code",
   "execution_count": 64,
   "metadata": {},
   "outputs": [
    {
     "name": "stdout",
     "output_type": "stream",
     "text": [
      "110.888885\n",
      "110.88889217376709\n",
      "Linearity on expectation is prooved\n"
     ]
    }
   ],
   "source": [
    "## Check linearity for expectations E(zxy)=10E(x)+E(y)\n",
    "Exp1= E_zxy\n",
    "Exp2 = 10*E_x + E_y\n",
    "\n",
    "print(Exp1)\n",
    "print(Exp2)\n",
    "\n",
    "if (Exp1 - Exp2) < 0.001: \n",
    "    print(\"Linearity on expectation is prooved\")  ## Comparing both expected values before and after applying linearity"
   ]
  },
  {
   "cell_type": "markdown",
   "metadata": {},
   "source": [
    "## Variance and its properties\n",
    "\n",
    "Below are the definition and properties of Variance[4].\n",
    "\n",
    "+ Definition \n",
    "$$\\mathit{VAR}(X) = E[(X - \\mu)^2]$$\n",
    "+ Calculation using expected value rule\n",
    "$$E[g(X)] = \\int_{-\\infty}^{\\infty} g(x)\\,f_X(x)\\;dx$$ \n",
    "\n",
    "$$\\mathit{VAR}(X)= \\sigma_X^2 = \\mathrm{E}[(X - \\mu_X)^2] $$\n",
    "\n",
    "$$\\mathit{VAR}(X)= \\int_{-\\infty}^{\\infty} (x-\\mu_X)^2 f_X(x)\\;dx.$$\n",
    "\n",
    "$$\\mathit{VAR}(X)=E(X^2)-[E(X)]^2$$\n",
    "\n",
    "$$\\mathit{VAR}(X)=E(X^2)-\\mu_X^2$$\n",
    "+ standard deviation \n",
    "$$\\sigma = \\sqrt{\\mathit{VAR}(X)}=\\sqrt{\\frac{1}{n}\\sum_{i=1}^n(x_i - \\mu)^2}$$\n",
    "+ Linearity\n",
    "Let X be a random variable. Then\n",
    "$$\\mathit{VAR}(aX + b) = a^2\\,\\mathit{VAR}(X) = a^2\\,\\sigma_X^2,$$\n",
    "**proof**\n",
    "$$\\begin{align*}\n",
    "  \\mathit{VAR}(aX+b) &= \\mathrm{E}\\bigl[\\bigl(aX+b - (a\\mu_X + b)\\bigr)^2\\bigr] \\\\\\\\\n",
    "  &= \\mathrm{E}\\bigl[a^2(X - \\mu_X)^2\\bigr] \\\\\\\\\n",
    "  &= a^2\\,\\mathrm{E}[(X - \\mu_X)^2] \\\\\\\\\n",
    "  &= a^2\\,\\mathit{VAR}(X) \\\\\\\\\n",
    "  &= a^2\\,\\sigma_X^2. \n",
    "  \\end{align*}$$\n"
   ]
  },
  {
   "cell_type": "markdown",
   "metadata": {},
   "source": [
    "Lets take an example with python code\n",
    "\n",
    "$x = [1,2,3,4], $ $z =2x+4$ then $var(z) = 4*var(x)$"
   ]
  },
  {
   "cell_type": "code",
   "execution_count": 68,
   "metadata": {},
   "outputs": [
    {
     "name": "stdout",
     "output_type": "stream",
     "text": [
      "1.04\n",
      "4.16\n",
      "4.16\n"
     ]
    }
   ],
   "source": [
    "x = tf.constant([1,2,3,4,3], dtype=tf.float32)\n",
    "z = tf.add(tf.multiply(2., x), 4.) # z= 2x+4\n",
    "\n",
    "V_x = tfp.stats.variance(x)\n",
    "V_x = sess.run(V_x)\n",
    "V_z = tfp.stats.variance(z)\n",
    "V_z = sess.run(V_z)\n",
    "Vx = tf.multiply(4., V_x)\n",
    "Vx = sess.run(Vx)\n",
    "\n",
    "print(V_x)\n",
    "print(V_z)\n",
    "print(Vx)"
   ]
  },
  {
   "cell_type": "markdown",
   "metadata": {},
   "source": [
    "## Continuous uniform random variable ; parameters a,b\n",
    "\n",
    "![Image02](2.2/Image02.PNG \"Uniform distribution\")\n",
    "\n",
    "The picture(This image is copied from [4]) on left side shows that continuous uniform random variable X with parameters a,b. This unifrom random variable has uniform(same) probabibility of occurance over the range[a , b]. Expected value for this can be given as $$E[X] = \\int_{-\\infty}^{\\infty} x\\,f_X(x)\\;dx$$\n",
    "\n",
    "+ Expected value\n",
    "$$E[X] = \\int_{a}^{b} x\\,\\frac{1}{(b-a)}\\;dx$$\n",
    "\n",
    "$$E[X] = \\frac {1}{(b-a)} \\Bigg | \\frac{x^2}{2}\\Bigg |_{a}^{b}$$\n",
    "\n",
    "$$E[X] = \\frac {b^2-a^2}{2(b-a)}$$\n",
    "\n",
    "$$E[X] = \\frac{a+b}{2}$$\n",
    "\n",
    "+ Variance \n",
    "$$\\mathit{VAR}(X)=E(X^2)-\\mu_X^2$$\n",
    "\n",
    "$$ \\quad \\textrm {Lets find out the} \\quad E[X^2] = \\int_{a}^{b} x^2\\,\\frac{1}{(b-a)}\\;dx$$ \n",
    "\n",
    "$$ E[X^2] = \\frac {1}{(b-a)} \\Bigg | \\frac{x^3}{3}\\Bigg |_{a}^{b}$$\n",
    "\n",
    "$$ E[X^2] = \\frac {1}{(b-a)} \\frac {(b^3-a^3)}{3}$$\n",
    "\n",
    "$$ \\quad \\textrm {substituting this value, we will get  }\\mathit{VAR}(X)=E(X^2)-\\mu_X^2$$ \n",
    "\n",
    "$$\\mathit{VAR}(X)= \\frac {1}{(b-a)} \\frac {(b^3-a^3)}{3} - \\bigg[\\frac {a+b}{2}\\bigg]^2$$\n",
    "\n",
    "$$\\mathit{VAR}(X)= \\frac {1}{(b-a)} \\frac {(b-a)(b^2-ab-a^2)}{3} - \\bigg[\\frac {a+b}{2}\\bigg]^2$$\n",
    "\n",
    "$$\\mathit{VAR}(X)=  \\frac {(b^2-ab-a^2)}{3} - \\bigg[\\frac {(a+b)^2}{4}\\bigg]$$\n",
    "\n",
    "$$\\mathit{VAR}(X) = \\frac {(b-a)^2}{12}$$\n",
    "\n",
    "The picture[4] on right side shows the discrete uniform random variable with interval [a,b]. Expected value for this can be easily given as centre of gravity between these intervals.\n",
    "$$E[X]=\\frac{a+b}{2}$$\n",
    "\n",
    "Variance $$\\mathit{VAR}(X) = \\frac {(b-a)(b-a+2)}{12}$$\n",
    "\n",
    "\n",
    "\n",
    "   \n",
    "\n"
   ]
  },
  {
   "cell_type": "markdown",
   "metadata": {},
   "source": [
    "## An example of A/D Converter\n",
    "\n",
    "\n",
    "![Image03](2.2/Image03.png \"A/D Converter\")\n",
    "\n",
    "\n",
    "We are living in a world where signals often measured in digital rather in analog due to analog signal processing limitations.\n",
    "All natural signals what we get are analog and its necessory that we should convert these signals to digital before processing them. Analog to Digital convertor will convert analog to digital through the process of sampling and quantization. this process of will be taken as a staircase function to the input signal. through this we can represnt a continuous analog values as discrete digitized  values.\n",
    "\n",
    "The total number of steps N of the staircase function depends on the resolution k of the AD converter[5]:\n",
    "$$N=2^k$$\n",
    "\n",
    "For example(this has been adpated from [5]), a 4 bit Analog to Digital converter maps the input signal to a total of 64 ($2^4$) steps, while a 12-bit AD converter maps to 4096 steps. For a typical input voltage range of 10 volts (-5V to +5V) a single step of an 8-bit converter corresponds to approx. 40 mV, while a 12-bit converter shows a step size of 2.5 mV.\n",
    "\n",
    "There are some limitation of A/D convertoris that it will only take or measure the values at certain descrete intervals and it has to hold the same value till next interval(Holding). SO there will be diferenece in actual and quantized singal. This error which is commonly called quantization noise. This quantization noise is the difference between the actual and the digitized signal and will decrease with increasing converter resolution k and increasing sampling frequency $f=\\frac{1}{Ts}$. \n",
    "\n",
    "![Image04](2.2/Image04.png \"Quantization error\")\n",
    "\n",
    "\n",
    "Above figure (This is copied from [5]) is explains the quantization and its relative error with actual amplitude.\n",
    "\n",
    "__Drawbacks__\n",
    "\n",
    "There are some limitation of A/D convertoris that it will only take or measure the values at certain descrete intervals and it has to hold the same value till next interval(Holding). SO there will be diferenece in actual and quantized singal. This error will be less if your descrte interval time is less which can be acheieved by increasing number of bits in A/D convertor.\n",
    "\n",
    "The costs for an AD converter approximately doubles with each additional bit, and the conversion speed decrays with higher resolutions(This is adapted from [5]). Thus each application of an AD converter always requires a compromise. Typical resolutions are 8 and 16 bits."
   ]
  },
  {
   "cell_type": "markdown",
   "metadata": {
    "collapsed": true
   },
   "source": [
    "### Quantization of Signals\n",
    "\n",
    "#### Introduction\n",
    "\n",
    "We are surounded by analog signals and processing of these signals for each value will be dificult and costly.\n",
    "So these analog signals will be converted to digital in multiple steps.\n",
    "+ Sampling : It decides the minimum interval that a sample can be taken from input. If sampling interval is less then the number of samples will be more.\n",
    "+ Holding : After you take one sample, you should hold that value till next interval and it forms staircase like figure as showed above.\n",
    "+ Quantization: Its the droping or hitting of sample value to the nearest level.\n",
    "+ Coding : Send the quantized signal in terms of coding(0 and 1 bits)\n",
    "\n",
    "This can be illustrated in the following figure[6].\n",
    "\n",
    "\n",
    "![Image05](2.2/Image05.png \"Quantization\")"
   ]
  },
  {
   "cell_type": "markdown",
   "metadata": {
    "collapsed": true
   },
   "source": [
    "#### Model of the Quantization Process\n",
    "\n",
    "The quantization error (quantization noise) $e[k]$ is defined as below formula (This is copied from [13]) \n",
    "\\begin{equation}\n",
    "e[k] = x_Q[k] - x[k]\n",
    "\\end{equation}\n",
    "\n",
    "where x_Q[k] is value of quantized signal and x[k] is actual input value.\n",
    "\n",
    "Below is the quantization process(Image is copied from [5]) that can be modeled by adding the quantization error to the discrete signal.\n",
    "\n",
    "![Image06](2.2/Image06.png \"Quantization error model\")"
   ]
  },
  {
   "cell_type": "markdown",
   "metadata": {
    "collapsed": true
   },
   "source": [
    "#### Example - Quantization of a sine signal    \n",
    "\n",
    "\n",
    "In order to illustrate the introduced model, the quantization of one period of a sine signal is considered (this example is adapted from [13])\n",
    "\n",
    "\\begin{equation}\n",
    "x[k] = \\sin[\\Omega_0 k]\n",
    "\\end{equation}\n",
    "\n",
    "using \n",
    "\n",
    "\\begin{align}\n",
    "f(x[k]) &= 5 \\cdot x[k] \\\\\n",
    "i &= \\lfloor \\, f(x[k]) \\, \\rfloor \\\\\n",
    "g(i) &= \\frac{1}{5} \\cdot i\n",
    "\\end{align}\n",
    "\n",
    "where $\\lfloor \\cdot \\rfloor$ denotes the nearest intiger function and $i$ the quantization index. The quantized signal is then given as\n",
    "\n",
    "\\begin{equation}\n",
    "x_Q[k] = \\frac{1}{5} \\cdot \\lfloor \\, 5 \\cdot \\sin[\\Omega_0 k] \\, \\rfloor\n",
    "\\end{equation}\n"
   ]
  },
  {
   "cell_type": "code",
   "execution_count": 18,
   "metadata": {},
   "outputs": [
    {
     "data": {
      "image/png": "[encoded data removed]",
      "text/plain": [
       "<matplotlib.figure.Figure at 0x7984fb0>"
      ]
     },
     "metadata": {},
     "output_type": "display_data"
    }
   ],
   "source": [
    "\n",
    "%matplotlib inline\n",
    "import numpy as np\n",
    "import matplotlib.pyplot as plt\n",
    "\n",
    "N = 1024  # length of signal\n",
    "\n",
    "# generate signal\n",
    "x = np.sin(2*np.pi/N * np.arange(N))\n",
    "# quantize signal\n",
    "xi = np.round(5 * x)\n",
    "xQ = 1/5 * xi\n",
    "e = xQ - x\n",
    "\n",
    "# plot (quantized) signals\n",
    "fig, ax1 = plt.subplots(figsize=(10,4))\n",
    "ax2 = ax1.twinx()\n",
    "\n",
    "ax1.plot(x, 'r', label=r'signal $x[k]$')\n",
    "ax1.plot(xQ, 'b', label=r'quantized signal $x_Q[k]$')\n",
    "ax1.plot(e, 'g', label=r'quantization error $e[k]$')\n",
    "ax1.set_xlabel('k')\n",
    "ax1.set_ylabel(r'$x[k]$, $x_Q[k]$, $e[k]$')\n",
    "ax1.axis([0, N, -1.2, 1.2])\n",
    "ax1.legend()\n",
    "\n",
    "ax2.set_ylim([-3.6, 3.6])\n",
    "ax2.set_ylabel('quantization index')\n",
    "ax2.grid()"
   ]
  },
  {
   "cell_type": "markdown",
   "metadata": {
    "collapsed": true
   },
   "source": [
    "#### Properties\n",
    "\n",
    "+ Quantization process is irreversible process and you cant reconstruct the exact original signal from quantized signal\n",
    "+ Quantization process is depends on input signal and noise or error depends on qualization levels set for the process\n"
   ]
  },
  {
   "cell_type": "markdown",
   "metadata": {
    "collapsed": true
   },
   "source": [
    "#### Applications\n",
    "\n",
    "Quantization has many applications[adapted from 13] such as\n",
    "* Analog-to-Digital conversion]\n",
    "* [Lossy compression]\n",
    "* Storage and transmission \n"
   ]
  },
  {
   "cell_type": "markdown",
   "metadata": {
    "collapsed": true
   },
   "source": [
    "### Characteristic of a Linear Uniform Quantizer\n",
    "\n",
    "A uniform quantizer splits the mapped input signal into quantization steps of equal size[13]. \n",
    "\n",
    "It means that input signals are devided into equal steps and quantized on each level."
   ]
  },
  {
   "cell_type": "markdown",
   "metadata": {
    "collapsed": true
   },
   "source": [
    "#### Quantization Error of a Linear Uniform Quantizer\n",
    "\n",
    "Quantization results in many kinds of distortions. *Overload* distortions are a the one where its exceeding the minimal/most amplitude of the quantizer. *Granular distortions* are the one where no clipping occurs in quantization procedure. Numerous measures are used to quantify the distortions of a quantizer. We typically use the signal-to-noise ratio(This defnition has been adapoted from[13]."
   ]
  },
  {
   "cell_type": "markdown",
   "metadata": {
    "collapsed": true
   },
   "source": [
    "## Computing SNR(Signal-to-Noise Ratio)\n",
    "\n",
    "A quantizer can be evaluated by its [signal-to-noise ratio](https://en.wikipedia.org/wiki/Signal-to-noise_ratio) (SNR), which is defined as the ration of power of the continuous amplitude signal $x[k]$ to the power of the quantization error $e[k]$, provided signals have been originated through a zero-mean wide-sense stationary (WSS) process.\n",
    "\n",
    "The average SNR is given as below formula (copied from [7],[14])\n",
    "\n",
    "\\begin{equation}\n",
    "SNR = 10 \\cdot \\log_{10} \\left( \\frac{\\sigma_x^2}{\\sigma_e^2} \\right) \\quad \\text{ in dB}\n",
    "\\end{equation}\n",
    "\n",
    "where $\\sigma_x^2$ and $\\sigma_e^2$ denote the variances of the signals $x[k]$ and $e[k]$, respectively. \n"
   ]
  },
  {
   "cell_type": "markdown",
   "metadata": {
    "collapsed": true
   },
   "source": [
    "### Model for the Quantization Error\n",
    "\n",
    "The variance of the quantization error is then derived later by its mean as\n",
    "\n",
    "\\begin{equation}\n",
    "\\sigma_e^2 = \\frac{Q^2}{12}\n",
    "\\end{equation}\n",
    "\n",
    "Let's assume that the quantization index is represented as binary with $w$-bits. Quantizer $x_\\text{min}$ can be represented as half of the $2^w$ quantization indexes is used for the negative signal values, the other half for the positive ones including zero. The quantization step is then given[14] as\n",
    "\n",
    "\\begin{equation}\n",
    "Q = \\frac{ |x_\\text{min}|}{2^{w-1}} = \\frac{ x_\\text{max}}{2^{w-1} - 1}\n",
    "\\end{equation}\n",
    "\n",
    "where $x_\\text{max} = |x_\\text{min}| - Q$. Introducing the quantization step, the variance of the quantization error[14]can be expressed by the word length $w$ as\n",
    "\n",
    "\\begin{equation}\n",
    "\\sigma_e^2 = \\frac{x^2_\\text{max}}{3 \\cdot 2^{2w}}\n",
    "\\end{equation}\n",
    "\n",
    "The average power of the quantization error[14] quarters per additional bit spend. Introducing the variance into the definition of the SNR yields\n",
    "\n",
    "\\begin{equation}\n",
    "\\begin{split}\n",
    "SNR &= 10 \\cdot \\log_{10} \\left( \\frac{3 \\sigma_x^2}{x^2_\\text{max}}  \\right) + 10 \\cdot \\log_{10} \\left( 2^{2w} \\right) \\\\\n",
    "& \\approx 10 \\cdot \\log_{10} \\left( \\frac{3 \\sigma_x^2}{x^2_\\text{max}}  \\right) + 6.02 w \\quad \\text{in dB}\n",
    "\\end{split}\n",
    "\\end{equation}\n",
    "\n",
    "Referring above equation, it can be shown that always SNR decays approximately by 6 dB per additional bit spend. This is often referred to as the 6 dB per bit rule of thumb for linear uniform quantization[14]."
   ]
  },
  {
   "cell_type": "markdown",
   "metadata": {
    "collapsed": true
   },
   "source": [
    "### Uniformly Distributed Signal\n",
    "\n",
    "As shown above, the statistical model for the input signal $x[k]$ is very important to calculate the average SNR of a linear uniform quantizer. For a signal that having a zero-mean uniform distribution[9,14] and under the assumption $x_\\text{max} \\gg Q$ its PDF is given by below formula[14]\n",
    "\n",
    "\\begin{equation}\n",
    "p_x(\\theta) = \\frac{1}{2 x_\\text{max}} \\text{rect}\\left( \\frac{\\theta}{2 x_\\text{max}} \\right)\n",
    "\\end{equation}\n",
    "\n",
    "Thus, all amplitudes between $-x_\\text{max}$ and $x_\\text{max}$ will have same occurance probability. The variance of the signal[14] is then calculated to\n",
    "\n",
    "\\begin{equation}\n",
    "\\sigma_x^2 = \\frac{4 x_\\text{max}^2}{12} = \\frac {\\delta ^2}{12} \\quad \\textrm{where }\\delta = x_\\text{max} + {x_\\text{max}} \n",
    "\\end{equation}\n",
    "\n",
    "Aproximating the equation, which gives us\n",
    "\n",
    "\\begin{equation}\n",
    "SNR = 10 \\cdot \\log_{10} \\left( 2^{2 w} \\right) \\approx 6.02 \\, w \\quad \\text{in dB}\n",
    "\\end{equation}\n",
    "\n",
    "The word length $w$ and resulting SNRs for some typical digital signal representations are given as below (This table is copied from [14])\n",
    "\n",
    "| | $w$ | SNR |\n",
    "|----|:----:|:----:|\n",
    "| Compact Disc (CD) | 16 bit | 96 dB |\n",
    "| Digital Video Disc (DVD) | 24 bit | 144 dB |\n",
    "| Video Signals | 8 bit | 48 dB |\n",
    "\n",
    "For $x_\\text{min} \\leq \\frac{x[k]}{A} < x_\\text{max}$. The resulting variance is given as\n",
    "\n",
    "\\begin{equation}\n",
    "\\sigma_x^2 = \\frac{4 x_\\text{max}^2 A^2}{12}\n",
    "\\end{equation}\n",
    "\n",
    "introduced into the definition of the SNR yields\n",
    "\n",
    "\\begin{equation}\n",
    "SNR = 10 \\cdot \\log_{10} \\left( 2^{2 w} \\right) + 20 \\cdot \\log_{10} ( A ) \\approx 6.02 \\, w + 20 \\cdot \\log_{10} ( A ) \\quad \\text{in dB}\n",
    "\\end{equation}\n",
    "\n",
    "From this it can be concluded that a level of -6 dB is equivalent to a loss of one bit in terms of SNR of the quantized signal."
   ]
  },
  {
   "cell_type": "markdown",
   "metadata": {
    "collapsed": true
   },
   "source": [
    "#### Example - Quantization of a uniformly distributed signal [14]\n",
    "\n",
    "In this example the linear uniform quantization of a random signal drawn from a uniform distribution is evaluated. The amplitude range of the quantizer is $x_\\text{min} = -1$ and $x_\\text{max} = 1 - Q$."
   ]
  },
  {
   "cell_type": "code",
   "execution_count": 19,
   "metadata": {},
   "outputs": [
    {
     "name": "stdout",
     "output_type": "stream",
     "text": [
      "SNR = 48.090272 in dB\n"
     ]
    },
    {
     "data": {
      "image/png": "[encoded data removed]",
      "text/plain": [
       "<matplotlib.figure.Figure at 0x8413610>"
      ]
     },
     "metadata": {},
     "output_type": "display_data"
    },
    {
     "data": {
      "image/png": "[encoded data removed]",
      "text/plain": [
       "<matplotlib.figure.Figure at 0x8549e50>"
      ]
     },
     "metadata": {},
     "output_type": "display_data"
    }
   ],
   "source": [
    "%matplotlib inline\n",
    "import numpy as np\n",
    "import matplotlib.pyplot as plt\n",
    "import scipy.signal as sig\n",
    "\n",
    "w = 8  # wordlength of the quantized signal\n",
    "xmin = -1  # mimimum amplitude of input signal\n",
    "N = 8192 # number of samples\n",
    "K = 20  # maximum lag for cross-correlation\n",
    "\n",
    "## Defining the uniform midtread quantizer : where x[k] will have middle value between xmin and xmax\n",
    "def uniform_midtread_quantizer(x, Q):\n",
    "    # limiter\n",
    "    x = np.copy(x)\n",
    "    idx = np.where(x <= -1)\n",
    "    x[idx] = -1\n",
    "    idx = np.where(x > 1 - Q)\n",
    "    x[idx] = 1 - Q\n",
    "    # linear uniform quantization\n",
    "    xQ = Q * np.floor(x/Q + 1/2)\n",
    "    \n",
    "    return xQ\n",
    "\n",
    "def analyze_quantizer(x, e):\n",
    "    # estimated PDF of error signal\n",
    "    pe, bins = np.histogram(e, bins=20, normed=True, range=(-Q, Q))\n",
    "    # estimate cross-correlation between input and error\n",
    "    ccf = 1/len(x) * np.correlate(x, e, mode='full')\n",
    "    # estimate PSD of error signal\n",
    "    nf, Pee = sig.welch(e, nperseg=128)\n",
    "    # estimate SNR\n",
    "    SNR = 10*np.log10((np.var(x)/np.var(e)))\n",
    "    print('SNR = %f in dB' %SNR)\n",
    "\n",
    "    # plot statistical properties of error signal\n",
    "    plt.figure(figsize=(9,4))\n",
    "\n",
    "    plt.subplot(121)\n",
    "    plt.bar(bins[:-1]/Q, pe*Q, width = 2/len(pe))\n",
    "    plt.title('Estimated histogram of quantization error')\n",
    "    plt.xlabel(r'$\\theta / Q$')\n",
    "    plt.ylabel(r'$\\hat{p}_x(\\theta) / Q$')\n",
    "    plt.axis([-1, 1, 0, 1.2])\n",
    "\n",
    "    plt.subplot(122)\n",
    "    plt.plot(nf*2*np.pi, Pee*6/Q**2)\n",
    "    plt.title('Estimated PSD of quantization error')\n",
    "    plt.xlabel(r'$\\Omega$')\n",
    "    plt.ylabel(r'$\\hat{\\Phi}_{ee}(e^{j \\Omega}) / \\sigma_e^2$')\n",
    "    plt.axis([0, np.pi, 0, 2])\n",
    "    plt.tight_layout()\n",
    "    \n",
    "    plt.figure(figsize=(10,6))\n",
    "    ccf = ccf[N-K-1:N+K-1]\n",
    "    kappa = np.arange(-len(ccf)//2,len(ccf)//2)\n",
    "    plt.stem(kappa, ccf)\n",
    "    plt.title('Cross-correlation function between input signal and error')\n",
    "    plt.xlabel(r'$\\kappa$')\n",
    "    plt.ylabel(r'$\\varphi_{xe}[\\kappa]$')\n",
    "\n",
    "\n",
    "# quantization step\n",
    "Q = 1/(2**(w-1))\n",
    "# compute input signal\n",
    "np.random.seed(1)\n",
    "x = np.random.uniform(size=N, low=xmin, high=(-xmin-Q))\n",
    "# quantize signal\n",
    "xQ = uniform_midtread_quantizer(x, Q)\n",
    "e = xQ - x\n",
    "# analyze quantizer\n",
    "analyze_quantizer(x, e)"
   ]
  },
  {
   "cell_type": "markdown",
   "metadata": {},
   "source": [
    "Above histograms one shows , the quantization error which is uniform i.e. same quantization error for all values.\n",
    "Second one shows the PSD of error and third one shows the cross correlationship between input signal and the error. "
   ]
  },
  {
   "cell_type": "markdown",
   "metadata": {
    "collapsed": true
   },
   "source": [
    "## Cumulative Distribution Function\n",
    "\n",
    "The cumulative distribution function[10], or the CDF, is a function, $$F_X : \\mathbb{R} → [0, 1]$$ defined by, $$F_X (x) = p(X \\le x)$$\n",
    "\n",
    "A note on notation: X is a random variable while x is a particular value of the random variable.\n",
    "\n",
    "For example(This is copied from [10]), X be the random variable representing the number of heads in two coin tosses. Then $x$ can take on values 0, 1 and 2. \n",
    "\n",
    "The CDF for this random variable can be drawn thus (taken from All of Stats) can be showed as below figure (This is copied from [10])\n",
    "![Image08](2.2/Image08.png \"Cumulative Distribution Function\")\n",
    "\n",
    "Notice that this function is right-continuous and defined for all x, even if x does not take real values in-between the integers."
   ]
  },
  {
   "cell_type": "markdown",
   "metadata": {},
   "source": [
    "### Probability Mass and Distribution Function\n",
    "X is called a discrete random variable which can takes values such as  x1,x2,…x1,x2,…. Then the probability function or the probability mass function[2,10] (pmf) for X by:\n",
    "$$f_X(x) = p(X=x)$$\n",
    "$f_X$  is a probability.\n",
    "\n",
    "The pmf for the number of heads in two coin tosses (taken from All of Stats) looks like below figure:\n",
    "![Image09](2.2/Image09.PNG \"The pmf for the number of heads in two coin tosses\")\n",
    "\n",
    "\n",
    "If a random variable is continuous then we can write formula for continuous random variable [10] if there exists a function fX such that\n",
    "$$\\int_{-\\infty}^{\\infty} f_X (x) dx = 1 \\quad \\textrm {and for every } a ≤ b,$$\n",
    "\n",
    "$$% <![CDATA[\n",
    "p(a < X < b) = \\int_{a}^{b} f_X (x) dx %]]>$$\n",
    "\n",
    "The function fX is called the probability density function (pdf). We have the CDF:\n",
    "$$F_X (x) = \\int_{-\\infty}^{x}f_X (t) dt$$\n"
   ]
  },
  {
   "cell_type": "markdown",
   "metadata": {},
   "source": [
    "### A continuous example: the Uniform Distribution\n",
    "Suppose that X has pdf\n",
    "$$% <![CDATA[\n",
    "f_X (x) =\n",
    "\\begin{cases}\n",
    "1 & \\text{for } 0 \\leq x\\leq 1\\\\\n",
    "    0             & \\text{otherwise.}\n",
    "\\end{cases} %]]>$$\n",
    "\n",
    "A random variable[4] with this density is said to have a Uniform (0,1) distribution. This is meant to capture the idea of choosing a point at random between 0 and 1. \n",
    "\n",
    "The cdf is given by below example(this is copied from [2],[4])\n",
    "$$% <![CDATA[\n",
    "F_X (x) =\n",
    "\\begin{cases}\n",
    "0 & x \\le 0\\\\\n",
    "x & 0 \\leq x \\leq 1\\\\\n",
    "1 & x > 1.\n",
    "\\end{cases} %]]>$$\n",
    "\n",
    "PDF of above function is looks as below[4]:\n",
    "![Image11_FX](2.2/Image11_FX.PNG \"Uniform\")"
   ]
  },
  {
   "cell_type": "markdown",
   "metadata": {},
   "source": [
    "## General Normal (Gaussian) random variables\n",
    "\n",
    "Difnition says, the normal (or Gaussian) distribution is a very common continuous probability distribution. Normal distributions are important in statistics and are often used in the natural and social sciences to represent real-valued random variables whose distributions are not known. A random variable with a Gaussian distribution is said to be normally distributed and is called a normal deviate [16]. \n",
    "\n",
    "Lets plot the gaussian distribution over python.\n"
   ]
  },
  {
   "cell_type": "code",
   "execution_count": 3,
   "metadata": {},
   "outputs": [
    {
     "name": "stdout",
     "output_type": "stream",
     "text": [
      "WARNING:tensorflow:From <ipython-input-3-550715b6f0f6>:1: Normal.__init__ (from tensorflow.python.ops.distributions.normal) is deprecated and will be removed after 2019-01-01.\n",
      "Instructions for updating:\n",
      "The TensorFlow Distributions library has moved to TensorFlow Probability (https://github.com/tensorflow/probability). You should update all references to use `tfp.distributions` instead of `tf.distributions`.\n",
      "WARNING:tensorflow:From /Users/shawn/anaconda3/lib/python3.6/site-packages/tensorflow/python/ops/distributions/normal.py:160: Distribution.__init__ (from tensorflow.python.ops.distributions.distribution) is deprecated and will be removed after 2019-01-01.\n",
      "Instructions for updating:\n",
      "The TensorFlow Distributions library has moved to TensorFlow Probability (https://github.com/tensorflow/probability). You should update all references to use `tfp.distributions` instead of `tf.distributions`.\n"
     ]
    },
    {
     "data": {
      "text/plain": [
       "[<matplotlib.lines.Line2D at 0x1c3bfd2550>]"
      ]
     },
     "execution_count": 3,
     "metadata": {},
     "output_type": "execute_result"
    },
    {
     "data": {
      "image/png": "[encoded data removed]",
      "text/plain": [
       "<Figure size 432x288 with 1 Axes>"
      ]
     },
     "metadata": {},
     "output_type": "display_data"
    }
   ],
   "source": [
    "gaussian = tf.distributions.Normal(loc=1.8, scale=0.1414)  # Build gaussian distribution model\n",
    "x = np.linspace(1.1, 2.5, 100)                             # Assigning the input x\n",
    "gaussian = gaussian.prob(x)\n",
    "gaussian = sess.run(gaussian)\n",
    "\n",
    "# Plot PDF\n",
    "plt.plot(gaussian, lw=2)"
   ]
  },
  {
   "cell_type": "markdown",
   "metadata": {
    "collapsed": true
   },
   "source": [
    "This curve is a PDF. It shows the relative likelihood  for the random variable to take on a value. \n",
    "\n",
    "In the example [2] chart above, a student is more probability for having height near 1.8 m than 1.7 m, and same goes to hight of 1.9 m vs 1.4 m.\n",
    "\n",
    "\n",
    "Above one is a 'bell curve'. In real world conditions many observations are distributed in such a manner. This curve has peak at the means indicates there is more probability of occurance of numbers around mean compared extreme ends.\n"
   ]
  },
  {
   "cell_type": "markdown",
   "metadata": {},
   "source": [
    "### Gaussian Distributions\n",
    "\n",
    "Let's explore how Gaussians work. A Gaussian is a *continuous probability distribution* that is completely described with two parameters, the mean ($\\mu$) and the variance ($\\sigma^2$). It is defined as below [2]:\n",
    "\n",
    "$$ \n",
    "f(x, \\mu, \\sigma) = \\frac{1}{\\sigma\\sqrt{2\\pi}} \\exp\\big [{-\\frac{(x-\\mu)^2}{2\\sigma^2} }\\big ]\n",
    "$$\n",
    "\n",
    "$\\exp[x]$ is notation for $e^x$.\n",
    "\n",
    "<p>We will plot a Gaussian with a mean of 10 $(\\mu=10)$, with a std of 1.5, and then discuss what this means. "
   ]
  },
  {
   "cell_type": "code",
   "execution_count": 19,
   "metadata": {},
   "outputs": [
    {
     "data": {
      "text/plain": [
       "[<matplotlib.lines.Line2D at 0x1c3cbbf550>]"
      ]
     },
     "execution_count": 19,
     "metadata": {},
     "output_type": "execute_result"
    },
    {
     "data": {
      "image/png": "[encoded data removed]",
      "text/plain": [
       "<Figure size 432x288 with 1 Axes>"
      ]
     },
     "metadata": {},
     "output_type": "display_data"
    }
   ],
   "source": [
    "gaussian = tf.distributions.Normal(loc=10., scale=5.0)  # Build gaussian distribution model\n",
    "x = np.linspace(-10, 30, 100)                             # Assigning the input x\n",
    "gaussian = gaussian.prob(x)\n",
    "gaussian = sess.run(gaussian)\n",
    "\n",
    "# Plot PDF\n",
    "plt.plot(gaussian, lw=2)"
   ]
  },
  {
   "cell_type": "markdown",
   "metadata": {},
   "source": [
    "Above curve indicates that thermometer which reads 10'C. All thermometers are not accurate but we expect that each reading will be nearer to the actual value. \n",
    "\n",
    "In order to find the area under the curve , integrate the equation for the Gaussian (Copied from [2]) \n",
    "\n",
    "$$ \\int^{x_1}_{x_0}  \\frac{1}{\\sigma\\sqrt{2\\pi}} e^{-\\frac{1}{2}{(x-\\mu)^2}/\\sigma^2 } dx$$\n",
    "\n",
    "Use library as `filterpy.stats.norm_cdf` which computes the integral for you. For example, we can compute"
   ]
  },
  {
   "cell_type": "code",
   "execution_count": 13,
   "metadata": {},
   "outputs": [
    {
     "name": "stdout",
     "output_type": "stream",
     "text": [
      "Probability of range 5 to 6 is 0.05%\n",
      "Probability of range 6 to 10 is 0.29%\n"
     ]
    }
   ],
   "source": [
    "gaussian = tf.distributions.Normal(loc=10.0, scale=5.0)  # Build gaussian distribution model\n",
    "\n",
    "p1 = gaussian.cdf(6) - gaussian.cdf(5)\n",
    "p1 = sess.run(p1)\n",
    "print('Probability of range 5 to 6 is {:.2f}%'.format(p1))\n",
    "\n",
    "p2 = gaussian.cdf(10) - gaussian.cdf(6)\n",
    "p2 = sess.run(p2)\n",
    "print('Probability of range 6 to 10 is {:.2f}%'.format(p2))"
   ]
  },
  {
   "cell_type": "markdown",
   "metadata": {},
   "source": [
    "### The Variance and Belief\n",
    "\n",
    "Variance decides the sharpness of the curve, if its high then then large dispersion of values around mean and less sharp.\n",
    "If its low then its more sharp.\n",
    "\n",
    "Please find the below python code to illustrate above thing."
   ]
  },
  {
   "cell_type": "code",
   "execution_count": 23,
   "metadata": {},
   "outputs": [
    {
     "data": {
      "image/png": "[encoded data removed]",
      "text/plain": [
       "<matplotlib.figure.Figure at 0x89b0390>"
      ]
     },
     "metadata": {},
     "output_type": "display_data"
    }
   ],
   "source": [
    "from filterpy.stats import gaussian\n",
    "\n",
    "xs = np.arange(15, 30, 0.05)\n",
    "plt.plot(xs, gaussian(xs, 23, 0.05), label='$\\sigma^2$=0.05')\n",
    "plt.plot(xs, gaussian(xs, 23, 2), label='$\\sigma^2$=2', ls=':')\n",
    "plt.plot(xs, gaussian(xs, 23, 20), label='$\\sigma^2$=20', ls='--')\n",
    "plt.axis([16,28,0.000,1.8])##zooming the graph\n",
    "plt.legend()\n",
    "plt.show()"
   ]
  },
  {
   "cell_type": "markdown",
   "metadata": {},
   "source": [
    "### The Central Limit Theorem\n",
    "\n",
    "Mean of all distribution follows the cental limit theorem and its them most important theorem in the statistics.\n",
    "\n",
    "The sum of $N$ independent and identically distributed (iid) random variables will look similerto a Gaussian for large $N$.\n",
    "Mathematically, let $X_1,X_2,\\dots$ be iid random variables with mean $\\mu$ and variance $\\sigma^2$ and define the running average of the random variables (This defnition is copied from [10]):\n",
    "$$\n",
    "S_N = \\frac{X_1+\\dots+X_N}{N}.\n",
    "$$\n",
    "The Central Limit Theorem (CLT), states that:\n",
    "$$\n",
    "S_N \\sim \\mathcal{N}(S_N|\\mu, \\frac{\\sigma^2}{N}),\n",
    "$$\n",
    "for large $N$.\n",
    "We are not going to prove this, but let us test it numerically:\n"
   ]
  },
  {
   "cell_type": "markdown",
   "metadata": {},
   "source": [
    "### The  68-95-99.7 Rule\n",
    "\n",
    "In the thory of linear regression, we know that we need to find the confidence interval where the probability of getting the value is high(Close to 100%). In practical, we wont get 100% confidence. In practical we can have derive upto 99.7 to 95% confidence interval.\n",
    "\n",
    "+ 99.7% confidence will be lies in the interval of $\\mu-3\\sigma$\n",
    "+ 95% confidence will be lies in the interval of $\\mu-2\\sigma$\n",
    "+ 68% confidence will be lies in the interval of $\\mu-1\\sigma$\n",
    "\n",
    "The following graph depicts the relationship between the standard deviation and the normal distribution[1]. "
   ]
  },
  {
   "cell_type": "code",
   "execution_count": 37,
   "metadata": {},
   "outputs": [
    {
     "data": {
      "image/png": "[encoded data removed]",
      "text/plain": [
       "<matplotlib.figure.Figure at 0x7d5b430>"
      ]
     },
     "metadata": {},
     "output_type": "display_data"
    }
   ],
   "source": [
    "from gaussian_internal import display_stddev_plot  ##make sure the gausian internal file in your directory \n",
    "display_stddev_plot()\n",
    "##(below plotting has been copied from [2]) "
   ]
  },
  {
   "cell_type": "markdown",
   "metadata": {},
   "source": [
    "### Computing Probabilities with tensorflow.distributions\n",
    "\n",
    "Below are the coding examples for computing probability in python which includes normal and standard normal"
   ]
  },
  {
   "cell_type": "code",
   "execution_count": 21,
   "metadata": {},
   "outputs": [
    {
     "name": "stdout",
     "output_type": "stream",
     "text": [
      "pdf of 1.5 is 0.1311\n"
     ]
    }
   ],
   "source": [
    "dist = tf.distributions.Normal(loc=2., scale=3.)\n",
    "p1 = dist.prob(1.5)\n",
    "p1 = sess.run(p1)\n",
    "\n",
    "print('pdf of 1.5 is %.4f' % p1)"
   ]
  },
  {
   "cell_type": "markdown",
   "metadata": {},
   "source": [
    "The call `norm(2, 3)`calls scipy and creats one random distribution withg mean of 2 and a standard deviation of 3. and returns its object. (This is adapted from [17]):"
   ]
  },
  {
   "cell_type": "code",
   "execution_count": 22,
   "metadata": {},
   "outputs": [
    {
     "name": "stdout",
     "output_type": "stream",
     "text": [
      "pdf of 2.5 is also  0.1311\n",
      "pdf of 2 is         0.1330\n"
     ]
    }
   ],
   "source": [
    "p2 = dist.prob(2.5)\n",
    "p2 = sess.run(p2)\n",
    "print('pdf of 2.5 is also  %.4f' % p2)\n",
    "\n",
    "p3 = dist.prob(2.)\n",
    "p3 = sess.run(p3)\n",
    "\n",
    "print('pdf of 2 is         %.4f' % p3)"
   ]
  },
  {
   "cell_type": "markdown",
   "metadata": {},
   "source": [
    "##  Calculating Normal probabilities\n",
    "\n",
    "For continuous random variables, PDF means that its the total area under the curve. To find the probability in an interval we need to use cumulative distribution.\n",
    "\n",
    "The standard normal distribution will have zero mean and one variance denoted by $Z\\sim N(0,1)$ .\n",
    "\n",
    "That is $$Z \\stackrel{\\mathrm{d}}{=} \\mathrm{N}(0,1)$$\n",
    "$$f_Z(z) = \\dfrac{1}{\\sqrt{2\\pi}} \\exp\\bigl(-\\tfrac{1}{2} z^2\\bigr), \\qquad\\text{for } z \\in \\mathbb{R}.$$\n",
    "\n",
    "We genreally the normalise our distribution just becuase we need zero as our mean and eases our calculations."
   ]
  },
  {
   "cell_type": "markdown",
   "metadata": {},
   "source": [
    "## Standardisation of a Normal distribution\n",
    "\n",
    "$$\\quad \\textrm {If} \\quad X \\stackrel{\\mathrm{d}}{=} \\mathrm{N}(\\mu,\\sigma^2) \\quad \\textrm {and} \\quad X_s = \\dfrac{X-\\mu}{\\sigma} \\quad \\textrm {then} \\quad X_s \\stackrel{\\mathrm{d}}{=} \\mathrm{N}(0,1)$$\n",
    "\n",
    "\n",
    "** Proof **\n",
    "The result is established by first considering the cdf of Xs. We have\n",
    "$$\\begin{align*}\n",
    "  F_{X_s}(z) &= \\Pr(X_s \\leq z) \\\\\\\\\n",
    "  &= \\Pr\\Bigl(\\dfrac{X-\\mu}{\\sigma} \\leq z\\Bigr) \\\\\\\\\n",
    "  &= \\Pr(X \\leq \\sigma z + \\mu) \\\\\\\\\n",
    "  &= F_X(\\sigma z + \\mu).\n",
    "  \\end{align*}$$\n",
    "Hence\n",
    "$$\\begin{align*}\n",
    "  f_{X_s}(z) &= \\dfrac{d}{dz} F_{X_s}(z) \\\\\\\\\n",
    "  &= \\dfrac{d}{dz} F_X(\\sigma z + \\mu) \\\\\\\\\n",
    "  &= \\sigma f_X(\\sigma z + \\mu) \\qquad\\qquad \\text{(by the chain rule)} \\\\\\\\\n",
    "  &= \\dfrac{1}{\\sqrt{2\\pi}} \\exp\\bigl(-\\tfrac{1}{2} z^2\\bigr).\n",
    "  \\end{align*}$$\n",
    "\n",
    "The cdf of $$  Z \\stackrel{\\mathrm{d}}{=} \\mathrm{N}(0,1)$$ <br>\n",
    "$$F_Z(z) = \\int_{-\\infty}^z \\dfrac{1}{\\sqrt{2\\pi}} \\exp\\bigl(-\\tfrac{1}{2}t^2\\bigr) \\;dt.$$\n",
    "\n",
    "\n",
    "\n"
   ]
  },
  {
   "cell_type": "markdown",
   "metadata": {
    "collapsed": true
   },
   "source": [
    "## Example: Crowd size\n",
    "Suppose that crowd size at home games for a particular football club follows a Normal distribution with mean 26 000 and standard deviation 5000. What percentage of crowds are between 31000 and 36000 (This example is copied from [11])?\n",
    "\n",
    "**Answer **\n",
    "$$X \\stackrel{\\mathrm{d}}{=} \\mathrm{N}(26\\;000, 5000^2)$$\n",
    "\n",
    "$$X_s = \\dfrac{X - 26\\;000}{5000} \\stackrel{\\mathrm{d}}{=} \\mathrm{N}(0,1)$$\n",
    "\n",
    "$$\\begin{align*}\n",
    "  \\Pr(31\\;000 < X < 36\\;000) &= \\Pr\\Bigl(\\dfrac{31\\;000 - 26\\;000}{5000} < \\dfrac{X - 26\\;000}{5000} < \\dfrac{36\\;000 - 26\\;000}{5000}\\Bigr) \\\\\\\\\n",
    "  &= \\Pr(1 < X_s < 2) \\\\\\\\\n",
    "  &= F_{X_s}(2) - F_{X_s}(1) \\\\\\\\\n",
    "  &= 0.9772 - 0.8413 \\\\\\\\\n",
    "  &= 0.1359.\n",
    "  \\end{align*}$$\n",
    "  \n"
   ]
  },
  {
   "cell_type": "code",
   "execution_count": 27,
   "metadata": {},
   "outputs": [
    {
     "data": {
      "text/plain": [
       "[<matplotlib.lines.Line2D at 0x1c3d275358>]"
      ]
     },
     "execution_count": 27,
     "metadata": {},
     "output_type": "execute_result"
    },
    {
     "data": {
      "image/png": "[encoded data removed]",
      "text/plain": [
       "<Figure size 432x288 with 1 Axes>"
      ]
     },
     "metadata": {},
     "output_type": "display_data"
    }
   ],
   "source": [
    "dist = tf.distributions.Normal(loc=0., scale=0.1)\n",
    "x = np.linspace(-1, 1, 1000)\n",
    "norm = dist.prob(x)\n",
    "norm = sess.run(norm)\n",
    "\n",
    "plt.plot(norm)"
   ]
  },
  {
   "cell_type": "code",
   "execution_count": 32,
   "metadata": {},
   "outputs": [
    {
     "name": "stdout",
     "output_type": "stream",
     "text": [
      "0.5\n"
     ]
    }
   ],
   "source": [
    "dist = tf.distributions.Normal(loc=100., scale=12.)\n",
    "cdf = dist.cdf(100)\n",
    "cdf = sess.run(cdf)\n",
    "\n",
    "print(cdf)"
   ]
  },
  {
   "cell_type": "markdown",
   "metadata": {},
   "source": [
    "## Linear functions of a random variable\n",
    "\n",
    "Let Function Y as linear function of $X$  as below equation [4]\n",
    "$$ Y = aX+b, \\quad X\\sim N(\\mu,\\sigma^2) $$ \n",
    "As we know that\n",
    "$$E(Y) = aE(X)+b$$\n",
    "Output function Y can be expressed as \n",
    "$$Y \\sim (a\\mu_X+b , a^2\\sigma_X^2)$$\n",
    "$$\\mu_Y=a\\mu_X+b \\quad \\sigma_Y^2 = a^2\\sigma_X^2$$"
   ]
  },
  {
   "cell_type": "code",
   "execution_count": 37,
   "metadata": {},
   "outputs": [
    {
     "name": "stdout",
     "output_type": "stream",
     "text": [
      "The expected value is array[x] E(x): 5.3333335\n"
     ]
    }
   ],
   "source": [
    "# Define the values of random variable X\n",
    "x = [1., 2., 3., 4., 5., 6., 8., 9., 10.]\n",
    "\n",
    "# Calculating the mean value of random varaible X\n",
    "E_x = tf.reduce_mean(x)\n",
    "E_x = sess.run(E_x)\n",
    "\n",
    "# Printing out the result\n",
    "print( 'The expected value is array[x] E(x): ' +str(E_x))"
   ]
  },
  {
   "cell_type": "code",
   "execution_count": 38,
   "metadata": {},
   "outputs": [
    {
     "name": "stdout",
     "output_type": "stream",
     "text": [
      "linearity y=ax+b= [ 12.  22.  32.  42.  52.  62.  82.  92. 102.]\n",
      "The expected value is array[y] E(y): 55.333333333333336\n"
     ]
    }
   ],
   "source": [
    "## linearity y=ax+b, let a=10 and b=2\n",
    "a = 10\n",
    "b = 2\n",
    "x = [1., 2., 3., 4., 5., 6., 8., 9., 10.]\n",
    "\n",
    "y = np.multiply(a, x) + b\n",
    "print(\"linearity y=ax+b=\", y)\n",
    "\n",
    "E_y = tf.reduce_mean(y)\n",
    "E_y = sess.run(E_y)\n",
    "print( 'The expected value is array[y] E(y): ' +str(E_y ))"
   ]
  },
  {
   "cell_type": "markdown",
   "metadata": {},
   "source": [
    "To check linearity lets calculate mean and variance of Y and compare it with x\n",
    "$$\\mu_Y= 55.33 $$\n",
    "\n",
    "$$a\\mu_X+b=10*5.33+2=55.33$$\n",
    "\n",
    "$$\\sigma_Y^2 = 888.888 $$ and  $$ a^2\\sigma_X^2= 10^2*8.888 = 888.88$$\n",
    "\n",
    "$$\\mu_Y=a\\mu_X+b \\quad \\sigma_Y^2 = a^2\\sigma_X^2$$ "
   ]
  },
  {
   "cell_type": "code",
   "execution_count": 43,
   "metadata": {},
   "outputs": [
    {
     "name": "stdout",
     "output_type": "stream",
     "text": [
      "The mean of x is: 5.3333335\n",
      "The variance of x is: 8.888889\n",
      "The mean of x is: 55.333333333333336\n",
      "The variance of x is: 888.8888888888889\n"
     ]
    }
   ],
   "source": [
    "x_var = tfp.stats.variance(x)\n",
    "x_var = sess.run(x_var)\n",
    "\n",
    "print(\"The mean of x is:\", E_x)\n",
    "print(\"The variance of x is:\", x_var)\n",
    "\n",
    "y_var = tfp.stats.variance(y)\n",
    "y_var = sess.run(y_var)\n",
    "\n",
    "print(\"The mean of x is:\", E_y)\n",
    "print(\"The variance of x is:\", y_var)"
   ]
  },
  {
   "cell_type": "code",
   "execution_count": 44,
   "metadata": {},
   "outputs": [
    {
     "data": {
      "image/png": "[encoded data removed]",
      "text/plain": [
       "<Figure size 432x288 with 1 Axes>"
      ]
     },
     "metadata": {},
     "output_type": "display_data"
    },
    {
     "data": {
      "image/png": "[encoded data removed]",
      "text/plain": [
       "<Figure size 432x288 with 1 Axes>"
      ]
     },
     "metadata": {},
     "output_type": "display_data"
    }
   ],
   "source": [
    "from scipy.stats import norm\n",
    "import pylab as pl\n",
    "import math\n",
    "\n",
    "mu = 5.33 # mean and standard deviation\n",
    "variance = 8.88\n",
    "plt.title(\"Normal distribution curve\")\n",
    "sigma  =math.sqrt(variance) #caluculating sigma as square root og variance\n",
    "x = np.linspace(mu - 3 * sigma, mu + 3 *sigma, 1000) # Assigning the input x values depending upon the bin\n",
    "\n",
    "plt.plot(x, norm.pdf(x,mu,sigma)) #plotting  normal curve\n",
    "plt.show()\n",
    "\n",
    "##plotting standard Normal pdf of x\n",
    "mu = 0\n",
    "variance = 1\n",
    "sigma = math.sqrt(variance)\n",
    "x = np.linspace(mu - 3*sigma, mu + 3*sigma, 100)\n",
    "\n",
    "plt.title(\"Standrad Normal distribution curve\")\n",
    "plt.plot(x,norm.pdf(x, mu, sigma))\n",
    "plt.show()"
   ]
  },
  {
   "cell_type": "code",
   "execution_count": 47,
   "metadata": {},
   "outputs": [
    {
     "data": {
      "image/png": "[encoded data removed]",
      "text/plain": [
       "<Figure size 432x288 with 1 Axes>"
      ]
     },
     "metadata": {},
     "output_type": "display_data"
    },
    {
     "data": {
      "image/png": "[encoded data removed]",
      "text/plain": [
       "<Figure size 432x288 with 1 Axes>"
      ]
     },
     "metadata": {},
     "output_type": "display_data"
    }
   ],
   "source": [
    "from scipy.stats import norm\n",
    "import pylab as pl\n",
    "import math\n",
    "\n",
    "mu = 55.33 # mean and standard deviation\n",
    "variance = 888.88\n",
    "sigma = math.sqrt(variance) #calculating sigma as square root og variance\n",
    "\n",
    "y = np.linspace(mu - 3 * sigma, mu + 3 *sigma, 100) # Assigning the input y values depending upon the bin\n",
    "plt.title(\" Normal distribution curve\")\n",
    "plt.plot(y, norm.pdf(y,mu,sigma)) #plotting normal curve\n",
    "plt.show()\n",
    "\n",
    "##plotting standard Normal pdf of Y\n",
    "mu = 0\n",
    "variance = 1\n",
    "sigma = math.sqrt(variance)\n",
    "y = np.linspace(mu - 3*sigma, mu + 3*sigma, 100)\n",
    "\n",
    "plt.title(\"Standrad Normal distribution curve\")\n",
    "plt.plot(y,norm.pdf(y, mu, sigma))\n",
    "plt.show()"
   ]
  },
  {
   "cell_type": "markdown",
   "metadata": {},
   "source": [
    "## Conditional Expectaion of X, given an event A\n",
    "\n",
    "The conditional expectation, conditional expected value, or conditional mean of a random variable is its expected value given that a certain set of \"conditions\" is known to occur. In the case when the random variable is defined over a discrete probability space, the \"conditions\" are a partition of this probability space. (This definition is copied from [4]).\n",
    "\n",
    "With two random variables X and A, if one random variable X is having mean which is independent of A, then conditional expectation of X given A is equals to the random variable's (unconditional) expected value. This always true if the variables are independent.\n",
    "\n",
    "If there is a probability of occurance of one random variable with other then conditional expectation is given by the individual product of their expected values and probability as explained above.\n",
    "\n",
    "Below are some useful statistics equations(copied from [4])\n",
    "\n",
    "$$ E(X) = \\sum_x xp_X(x)\\quad \\quad \\quad \\quad \\quad \\quad E(X) =  \\int_{-\\infty}^{\\infty} { xf_X(x) dx }$$\n",
    "\n",
    "$$ E(X | A) = \\sum_x xp_{X|A}(x)\\quad \\quad \\quad \\quad \\quad E(X|A) =  \\int_{-\\infty}^{\\infty} { xf_{X | A}(x) dx }$$\n",
    "\n",
    "__Expected Value Rule__\n",
    "$$E[g(X)] = \\sum_x g(x)\\,p_X(x) \\quad \\quad \\quad \\quad E[g(X)] = \\int_{-\\infty}^{\\infty} g(x)\\,f_X(x)\\;dx$$\n",
    "\n",
    "$$E[g(X | A)] = \\sum_x g(x)\\,p_{X|A}(x) \\quad \\quad \\quad \\quad E[g(X|A)] = \\int_{-\\infty}^{\\infty} g(x)\\,f_{X|A}(x)\\;dx$$\n"
   ]
  },
  {
   "cell_type": "markdown",
   "metadata": {},
   "source": [
    "## Total probability and Expectation theorem\n",
    "\n",
    "![Image13_PX.PNG](2.2/Image13_PX.PNG \"Probability tree\")\n",
    "![Image14_PX_A](2.2/Image14_PX_A.PNG \"Probability tree\")\n",
    "\n",
    "(Above figures are copied from[4])\n",
    "\n",
    "In probability theory, the law (or formula) of total probability is a fundamental rule relating marginal probabilities to conditional probabilities. It expresses the total probability of an outcome which can be realized via several distinct events—hence the name(Definition is copied from [18]).\n",
    "\n",
    "Lets $A_1,A_2... A_n$ are the probabilities and B is marginal probability then It is given the sum of individual probabilities and their conditional probabilities. \n",
    "\n",
    "$$p(B)= p(A_1)p(B \\mid A_1)+p(A_2)p(B \\mid A_2)+......+p(A_n)p(B\\mid A_n)$$\n",
    "\n",
    "$$p_X(x)= p(A_1)p_{X\\mid A_1}(x) +p(A_2)p_{X\\mid A_2}(x)+......+p(A_n)p_{X\\mid A_n}(x)$$\n",
    "\n",
    "$$f_X(x)= p(A_1)f(X \\mid A_1)+p(A_2)f(X \\mid A_2)+......+p(A_n)f(X\\mid A_n)$$\n",
    "\n",
    "$$E[X]= p(A_1)E[X\\mid A_1] +p(A_2)E[X\\mid A_2]+......+p(A_n)E[X\\mid A_n]$$\n",
    "\n",
    "In other words,For Discrete random variables[4],\n",
    "$$p_X(x)= \\sum_yp_Y(y)p_{X\\mid Y}(x\\mid y)$$\n",
    "$$E[X \\mid Y=y]= \\sum_x x p_{X\\mid Y}(x\\mid y)$$\n",
    "$$E[X]= \\sum_y p_Y(y)E[X \\mid Y=y]$$\n",
    "\n",
    "For Continuous random variables[4]\n",
    "$$f_X(x) = \\int_{-\\infty}^{\\infty} f_Y(y)\\,f_{X\\mid Y}(x \\mid y)\\;dy$$\n",
    "$$E[X \\mid Y=y] = \\int_{-\\infty}^{\\infty} xf_{X\\mid Y}(x \\mid y)\\;dx$$\n",
    "$$E[X] = \\int_{-\\infty}^{\\infty} f_Y(y)E(X\\mid Y= y)\\;dy$$"
   ]
  },
  {
   "cell_type": "markdown",
   "metadata": {
    "collapsed": true
   },
   "source": [
    "__Example:__ \n",
    "\n",
    "(this example is copied from [4])\n",
    "\n",
    "![Image10](2.2/image10.png \"Expectation\")\n",
    "\n",
    "In the above figure, Function \n",
    "$f_X(x)$ is given and an event $ A = \\frac {a+b}{2}\\leq X \\leq b $,  what is $E(X|A)$  and $VAR(X^2|A)$ \n",
    "\n",
    "__Answer__\n",
    "\n",
    "__a.__\n",
    "\n",
    "As we know that \n",
    "$$E[X \\mid A =y]= \\sum_x x p_{X\\mid A}(x\\mid y)$$\n",
    "\n",
    "$$E[X \\mid A ] = \\sum_{\\frac{a+b}{2}}^{b} \\frac {1}{2} $$\n",
    "\n",
    "$$E[X \\mid A ] = \\frac{1}{2} [\\frac {a+b}{2}+b ]$$\n",
    "\n",
    "$$E[X \\mid A ] = \\frac{a}{4} +\\frac {3b}{4} $$\n",
    "\n",
    "\n",
    "__b.__\n",
    "\n",
    "Variance \n",
    "$$\\mathit{VAR}(X \\mid A)=E(X^2 \\mid A)-\\mu_{X \\mid A}^2$$\n",
    "\n",
    "$$ \\quad \\textrm {Lets find out the} \\quad E[X^2 \\mid A] = \\int_{\\frac {a+b} {2}}^{b} x^2\\,\\frac{2}{(b-a)}\\;dx$$ \n",
    "\n",
    "$$ E[X^2 \\mid A] = \\frac {2}{(b-a)} \\Bigg | \\frac{x^3}{3}\\Bigg |_{\\frac {a+b} {2}}^{b}$$\n",
    "\n",
    "$$ E[X^2 \\mid A] = \\frac {1}{12(b-a)} {[b^3-(a+b)^3]}$$\n",
    "\n",
    "Substituting in above equation of _VAR(X)_\n",
    "\n",
    "$$\\mathit{VAR}(X \\mid A)=E(X^2 \\mid A)-\\mu_{X \\mid A}^2$$\n",
    "\n",
    "$$\\mathit{VAR}(X \\mid A)= \\frac {1}{12(b-a)} {[b^3-(a+b)^3]} - [\\frac{a}{4} +\\frac {3b}{4}]^2$$"
   ]
  },
  {
   "cell_type": "markdown",
   "metadata": {
    "collapsed": true
   },
   "source": [
    "## Uses in Measurement thoery\n",
    "\n",
    "Lets find out the how the important statistics have been calculated in measurement theory.\n",
    "Although its just recap on what we just went so far.\n",
    "\n",
    "- __Mean__ \n",
    "The mean (or average) is the most popular and well known measure of central tendency. It can be used with both discrete and continuous data, if we have n values in a data set and they have values x1, x2, ..., xn, the sample mean, usually denoted by  (pronounced x bar), is [12]:\n",
    "\n",
    "$$  \\overline{x} = \\sum_{p=1}^{p=n}\\frac {x_p}{n}$$\n",
    "\n",
    "- __Probability density function__\n",
    "Its just the area under the curve of probability distribution plot of random variable X, in other words its the total probability of occurance of random variable X in the sample space[12]\n",
    "\n",
    "   if p(x) is the probability of happening of any random variable x within the given interval (a, b) then\n",
    "$$p(x) = \\int_{a}^{b}p(x) dx =1$$\n",
    "\n",
    "- __Epected value of a random variable__\n",
    "The best estimate of the expected value of a random variable of n independent\n",
    "observations x1; x2; x3; : : :; xn obtained under same conditions of measurement is\n",
    "the arithmetic mean of n observations[12].\n",
    "\n",
    "$$  \\overline{x} = \\sum_{p=1}^{p=n}\\frac {x_p}{n}$$\n",
    "\n",
    "- __Variance__\n",
    "The measure of dispersion is variance. The best estimate of the population variance\n",
    "from the sample of size n is given[12]\n",
    "\n",
    "$$ s^2 = \\frac{\\sum_{p=1}^{p=n}{(x_p -  \\overline{x})^2}}{n-1}$$\n",
    "\n",
    "- __Standard deviation__ – the positive square root of variance is given by\n",
    "The standard deviation is a measure of the spread of scores within a set of data. Usually, we are interested in the standard deviation of a population. However, as we are often presented with data from a sample only, we can estimate the population standard deviation from a sample standard deviation[12].\n",
    "\n",
    "$$ s = \\Bigg\\{\\frac{\\sum_{p=1}^{p=n}{(x_p -  \\overline{x})^2}}{n-1}\\Bigg\\}^\\frac{1}{2}$$\n",
    "\n",
    "- __Standard Error__\n",
    "standard error is the standard deviation of the sampling distribution of a statistic. Standard error is a statistical term that measures the accuracy with which a sample represents a population. In statistics, a sample mean deviates from the actual mean of a population; this deviation is the standard error[12].\n",
    "\n",
    "$$ S_E = \\frac {s}{\\sqrt n} =  \\Bigg\\{\\frac{\\sum_{p=1}^{p=n}{(x_p -  \\overline{x})^2}}{n(n-1)}\\Bigg\\}^\\frac{1}{2}$$\n",
    "\n",
    "(Above equations are copied from [12])\n"
   ]
  },
  {
   "cell_type": "markdown",
   "metadata": {},
   "source": [
    "## Reference\n",
    "\n",
    "### Notebooks\n",
    "\n",
    "+ [1].  https://github.com/rlabbe/Kalman-and-Bayesian-Filters-in-Python/blob/master/Supporting_Notebooks/Computing_and_plotting_PDFs.ipynb\n",
    "\n",
    "+ [2].  Roger Labbe, Jupyter notebook, https://github.com/rlabbe/Kalman-and-Bayesian-Filters-in-Python/blob/master/03-Gaussians.ipynb\n",
    "\n",
    "+ [3].  http://docs.scipy.org/doc/scipy/reference/generated/scipy.stats.norm.html [Accessed January 24, 2018]\n",
    "\n",
    "+ [6]  https://github.com/spatialaudio/digital-signal-processing-lecture [Accessed January 24, 2018]\n",
    "\n",
    "+ [14] https://github.com/spatialaudio/digital-signal-processing-lecture/blob/master/quantization/linear_uniform_quantization_error.ipynb\n",
    "\n",
    "\n",
    "\n",
    "### Figures and Equations\n",
    "\n",
    "+ [4] Professor Nikos Tsitsiklis, \"Introduction to Probability - The Science of Uncertainty\", Probability slides from the course MITx:6.041x \n",
    "\n",
    "+ [7] https://en.wikipedia.org/wiki/Signal-to-noise_ratio [Accessed January 24, 2018]\n",
    "\n",
    "+ [8] https://en.wikipedia.org/wiki/Quantization_(signal_processing) [Accessed January 24, 2018]\n",
    "\n",
    "+ [9] https://en.wikipedia.org/wiki/Uniform_distribution_(continuous) [Accessed January 24, 2018]\n",
    "\n",
    "+ [13] https://github.com/spatialaudio/digital-signal-processing-lecture/blob/master/quantization/introduction.ipynb [Accessed January 24, 2018]\n",
    "\n",
    "+ [15] http://dsp-nbsphinx.readthedocs.io/en/nbsphinx-experiment/quantization/linear_uniform_characteristic.html\n",
    "\n",
    "### Internet Documents\n",
    "\n",
    "+ [5]. H. Lohninger, \"Fundamentals of Statistics data analysis and chemometrics\", lectures and courses of on statistics.\n",
    "http://www.statistics4u.com/fundstat_eng/ee_analog_dig_conversion.html [Accessed January 24, 2018]\n",
    "\n",
    "+ [10]. Rahul Dave, Lecture course on Statistics and Data. https://am207.github.io/2017/terms.html#probability [Accessed January 24, 2018]\n",
    "\n",
    "+ [11] http://amsi.org.au/ESA_Senior_Years/SeniorTopic4/4f/4f_2content_3.html [Accessed January 24, 2018]\n",
    "\n",
    "+ [16] https://en.wikipedia.org/wiki/Normal_distribution\n",
    "\n",
    "+ [17] (http://docs.scipy.org/doc/scipy/reference/generated/scipy.stats.norm.html#scipy.stats.normfor)\n",
    "\n",
    "+ [18] https://en.wikipedia.org/wiki/Law_of_total_probability\n",
    "\n",
    "+ [19] 'Tensorflow.org', TensorFlow Core 1.13, Module: tf.distributions[online],https://www.tensorflow.org/api_docs/python/tf/distributions\n",
    "\n",
    "+ [20] 'Matplotlib.org', Matplotlib version 3.1.0 Documentation[online],https://matplotlib.org/3.1.0/index.html\n",
    "\n",
    "### E-books\n",
    "\n",
    "+ [12] S.V Gupta, \" Measurement Uncertainties\",Physical Parameters and Calibration of Instruments, e-ISBN 978-3-642-20989-5\n",
    "\n",
    "\n",
    "\n",
    "\n"
   ]
  },
  {
   "cell_type": "code",
   "execution_count": null,
   "metadata": {
    "collapsed": true
   },
   "outputs": [],
   "source": []
  }
 ],
 "metadata": {
  "anaconda-cloud": {},
  "kernelspec": {
   "display_name": "Python 3",
   "language": "python",
   "name": "python3"
  },
  "language_info": {
   "codemirror_mode": {
    "name": "ipython",
    "version": 3
   },
   "file_extension": ".py",
   "mimetype": "text/x-python",
   "name": "python",
   "nbconvert_exporter": "python",
   "pygments_lexer": "ipython3",
   "version": "3.6.8"
  }
 },
 "nbformat": 4,
 "nbformat_minor": 2
}
