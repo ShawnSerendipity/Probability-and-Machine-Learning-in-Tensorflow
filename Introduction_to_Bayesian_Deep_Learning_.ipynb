{
  "nbformat": 4,
  "nbformat_minor": 0,
  "metadata": {
    "colab": {
      "name": "Introduction to Bayesian Deep Learning .ipynb",
      "version": "0.3.2",
      "provenance": [],
      "collapsed_sections": []
    },
    "kernelspec": {
      "name": "python3",
      "display_name": "Python 3"
    }
  },
  "cells": [
    {
      "cell_type": "markdown",
      "metadata": {
        "id": "wX_j6fTm0s6O",
        "colab_type": "text"
      },
      "source": [
        "# Introduction to Bayesian Deep Learning "
      ]
    },
    {
      "cell_type": "markdown",
      "metadata": {
        "id": "8MRbPsA57uhy",
        "colab_type": "text"
      },
      "source": [
        "## Probabilistic Machine Learning"
      ]
    },
    {
      "cell_type": "markdown",
      "metadata": {
        "id": "PWKRloHj705n",
        "colab_type": "text"
      },
      "source": [
        "### 1. Machine Learning<br>\n",
        "Machine Learning simply is to develop some algorithms that perform certain tasks given some data. It can range from finding a pattern in unstructured data to classifying emails, from language understanding to autonomous cars. Based on the observed data, some inference is made by a machine learning method. A model is trained which learns some patterns and assumptions from the observed data (training data) and makes inference on the unobserved data (test data). Since every inference comes with prediction confidence, a conclusion is derived. However, the model can be uncertain about the prediction due to numerous reasons: input data noise, sensory noise, measurement errors, non-optimal hyper-parameters settings and so on. <br>\n",
        "\n",
        "### 2. Probabilistic Model in Machine Learning<br>\n",
        "The probabilistic model in Machine Learning states that all forms of uncertainty cannot be a true value but more like a probability value and uses probability theory to answer everything. Probabilistic distributions are used to model the learning, the uncertainty, and the unobserved states. A prior probability distribution is defined before observing the data, the learning happens and the distribution transforms into posterior distributions once the data is observed. Using probability theory to learn from data forms the base for Bayesian Learning."
      ]
    },
    {
      "cell_type": "markdown",
      "metadata": {
        "id": "dkKL03wN3dvO",
        "colab_type": "text"
      },
      "source": [
        "## Neural Networks"
      ]
    },
    {
      "cell_type": "markdown",
      "metadata": {
        "id": "kxYZaadM39Pm",
        "colab_type": "text"
      },
      "source": [
        "### 1. Brain Analogies\n",
        "\n",
        "A perceptron is conceived as a mathematical model of how the neurons function in our brain by a famous psychologist Rosenblatt. According to Rosenblatt, a neuron takes a set of binary inputs (nearby neurons), multiplies each input by a continuous-valued weight (the synapse strength to each nearby neuron), and thresholds the sum of these weighted inputs to output a 1 if the sum is big enough and otherwise a 0 (the same way neurons either fire or do not fire).\n",
        "\n",
        "<img src=\"https://miro.medium.com/max/1894/1*9oIF4_k2zL5FH92dkRot0Q.png\" width=\"50%\" align=\"center\"> <br>\n",
        "[source: http://cs231n.github.io/neural-networks-1/]"
      ]
    },
    {
      "cell_type": "markdown",
      "metadata": {
        "id": "BGz0BRp356d3",
        "colab_type": "text"
      },
      "source": [
        "### 2. Artificial Neural Network\n",
        "\n",
        "Inspired by the biological nervous system, the structure of an Artificial Neural Network (ANN) was developed to process information similar to how brain process information. A large number of highly interconnected processing elements (neurons) working together makes a Neural Network solve complex problems. Just like humans learn by example, so does a Neural Network. Learning in biological systems involves adjustments to the synaptic connections which is similar to weight updates in a Neural Network.<br>\n",
        "\n",
        "A Neural Network consists of three layers: input layer to feed the data to the model to learn representation, hidden layer that learns the representation and the output layer that outputs the results or predictions. Neural Networks can be thought of an end to end system that finds patterns in data which are too complex to be recognized by a human to teach to a machine.\n",
        "\n",
        "<img src=\"https://miro.medium.com/max/1522/1*ozBVCzy6acVfLuSESiyeBw.png\" width=\"50%\" align=\"center\"> <br>"
      ]
    },
    {
      "cell_type": "markdown",
      "metadata": {
        "id": "yOW0JSRw7nUD",
        "colab_type": "text"
      },
      "source": [
        "## Bayesian Deep learning"
      ]
    },
    {
      "cell_type": "markdown",
      "metadata": {
        "id": "mWThtsu-73fv",
        "colab_type": "text"
      },
      "source": [
        "### 1. Modelling complex systems\n",
        "\n",
        "According to Cohen & Stewart, mathematical descriptions of anything more or less complex are merely models and not fundamental truths. Mathematically, we build our model based on observed data by doing inference.<br>\n",
        "\n",
        "In Bayesian inference, we see the model parameters θ as random variables, i.e. we want to learn them, whereas we see in frequentist inference the model parameters θ as fixed, but unknown descriptions of the truth. In frequentist inference, our conducted experiments are seen as samples from an infinitely large set of the exact same experiment (e.g., rolling a fair dice, i.e. the true model parameters θ determining the outcome of each roll are 1/6 for each side of the dice).<br>\n",
        "\n",
        "<img src=\"https://miro.medium.com/max/1200/0*BwLwi0fgMY6m7b0V.png\" width=\"50%\" align=\"center\"> <br>\n",
        "\n",
        "In frequentist inference, we see model parameters θ as unchangeable, hence this school of thought argues that an ideal model, i.e. conducting our experiments infinitely often, represent the true state of anything more or less complex. So, we can directly deduce that Bayesian inference is in any complex instance more appropriate to use than frequentist inference.<br>\n",
        "\n"
      ]
    },
    {
      "cell_type": "markdown",
      "metadata": {
        "id": "uK_EysJuE_cw",
        "colab_type": "text"
      },
      "source": [
        "### 2. Bayesian Neural Network (BNN)"
      ]
    },
    {
      "cell_type": "markdown",
      "metadata": {
        "id": "OocjgjDIFFV9",
        "colab_type": "text"
      },
      "source": [
        "A Bayesian neural network (BNN) refers to extending standard networks with posterior inference. Standard NN training via optimization is (from a probabilistic perspective) equivalent to maximum likelihood estimation (MLE) for the weights.\n",
        "\n",
        "For many reasons this is unsatisfactory. One reason is that it lacks proper theoretical justification from a probabilistic perspective: why maximum likelihood? Why just point estimates? Using MLE ignores any uncertainty that we may have in the proper weight values. From a practical standpoint, this type of training is often susceptible to overfitting, as NNs often do.\n",
        "\n",
        "One partial fix for this is to introduce regularization. From a Bayesian perspective, this is equivalent to inducing priors on the weights (say Gaussian distributions if we are using L2 regularization). Optimization in this case is akin to searching for MAP estimators rather than MLE. Again from a probabilistic perspective, this is not the right thing to do, though it certainly works well in practice.\n",
        "\n",
        "The correct (i.e., theoretically justifiable) thing to do is posterior inference, though this is very challenging both from a modelling and computational point of view. BNNs are neural networks that take this approach. In the past this was all but impossible, and we had to resort to poor approximations such as Laplace’s method (low complexity) or MCMC (long convergence, difficult to diagnose). However, lately there have been some super-interesting results on using variational inference to do this, and this has sparked a great deal of interest in the area.\n",
        "\n",
        "BNNs are important in specific settings, especially when we care about uncertainty very much. Some examples of these cases are decision making systems, (relatively) smaller data settings, Bayesian Optimization, model-based reinforcement learning and others."
      ]
    },
    {
      "cell_type": "markdown",
      "metadata": {
        "id": "Gpn_4fRH_B9T",
        "colab_type": "text"
      },
      "source": [
        "### 3. Bayes by Backprop"
      ]
    },
    {
      "cell_type": "markdown",
      "metadata": {
        "id": "0kur-rAp_gwn",
        "colab_type": "text"
      },
      "source": [
        "Bayes by Backprop was introduced was Blundell, et al. (cite) for learning a probability distribution on the weights of a neural network. According to Bayes theorem, it allows us to predict an output y for a new data point x by integrating over all parameters θ:<br>\n",
        "\n",
        "<img src=\"https://miro.medium.com/max/1384/1*7iOrI5jb6Dae630hCYENjA.png\" width=\"25%\" align=\"center\"> <br>\n",
        "\n",
        "as stated above, we try to find the probability of our model parameters θ given some data x. This is known as posterior and we want to compute it. Now the numerator has P(θ) which is our prior (estimation before seeing the data) and P(x|θ) which is the likelihood and shows the data distribution. Both of these values are easy to compute. The denominator P(x) is the evidence and it shows if the data x is generated from the model. Now, this makes things tricky. We can only compute this by integrating over all possible model values:<br>\n",
        "\n",
        "<img src=\"https://miro.medium.com/max/1316/1*FzrX_7Qb7m1n6eXO2zrE9Q.png\" width=\"21%\" align=\"center\"> <br>\n",
        "\n",
        "As we can see, this makes the whole solution intractable and the only way to solve it is to approximate it. There are several methods that can be used to approximate the integrals and the popular ones such as Markov Chain Monte Carlo and variational inference.<br>\n",
        "\n",
        "We have already known MCMC from previous courses, so here we mainly focus on variational inference.Assume we have any density function and we want to estimate it. We start with choosing a distribution (can be Gaussian as it is the most popular one) and we keep on changing it until we reach the very close to the desired function, our posterior in this case. We want to reach as close as possible to the true distribution which is intractable and we can do that by minimizing the Kullback-Liebler (KL) divergence between the two:\n",
        "\n",
        "<img src=\"https://miro.medium.com/max/1506/1*b08FgIvbikjpX0ZTraY1sg.png\" width=\"39%\" align=\"center\"> <br>\n",
        "\n",
        "So, we have a function P(w|D) (our posterior from above) and we want to approximate it with another distribution q(w|D) with some variational parameters θ. But this is not the end. If we solve the KL divergence, it gives an intractable equation again due to the presence of an integral function:\n",
        "\n",
        "<img src=\"https://miro.medium.com/max/2330/1*sZGFVuHKPZdhROYNWEy9YQ.png\" width=\"50%\" align=\"center\"> <br>\n",
        "\n",
        "Now we cannot approximate an approximated function already (Technically we can but it will again need to be as close as to the original function and hence KL divergence to find the distance and again the integration problem). So we can sample from the approximated function q(w|D) as it is much easier to sample weights from an approximated function q(w|D) than an intractable true posterior function p(w|D). Upon doing so we reach to a tractable function as stated below:\n",
        "\n",
        "<img src=\"https://miro.medium.com/max/2058/1*88qCMa1S_2v-dWSbtwEG_A.png\" width=\"50%\" align=\"center\"> <br>\n",
        "\n",
        "These sampled weights w, are used in the backpropagation of the neural network to learn the posterior distribution. Now, as we can see it is possible to train the Bayesian Neural Network by Bayes by Backprop approach and Bayesian Neural Network incorporates regularization automatically."
      ]
    },
    {
      "cell_type": "markdown",
      "metadata": {
        "id": "pkpUTcto08RV",
        "colab_type": "text"
      },
      "source": [
        "## Bayesian NNs using TensorFlow Probability(TFP) example"
      ]
    },
    {
      "cell_type": "code",
      "metadata": {
        "id": "qouuMTGd1A7J",
        "colab_type": "code",
        "colab": {}
      },
      "source": [
        "#@title Import { display-mode: \"form\" }\n",
        "\n",
        "import numpy as np\n",
        "import matplotlib.pyplot as plt\n",
        "%matplotlib inline\n",
        "import seaborn as sns\n",
        "\n",
        "import tensorflow as tf\n",
        "import tensorflow_probability as tfp\n",
        "\n",
        "from sklearn import datasets\n",
        "from sklearn.model_selection import train_test_split\n",
        "from sklearn.metrics import confusion_matrix, accuracy_score\n",
        "\n",
        "from tensorflow.keras.models import Model\n",
        "from tensorflow.keras.layers import Input, MaxPooling2D, Flatten, Dropout\n",
        "\n",
        "np.random.seed(10)\n",
        "tf.set_random_seed(10)"
      ],
      "execution_count": 0,
      "outputs": []
    },
    {
      "cell_type": "markdown",
      "metadata": {
        "id": "N49zmXELBtDn",
        "colab_type": "text"
      },
      "source": [
        ""
      ]
    },
    {
      "cell_type": "markdown",
      "metadata": {
        "id": "XNr4oKUS1a5_",
        "colab_type": "text"
      },
      "source": [
        "1. Import and preprocessing data"
      ]
    },
    {
      "cell_type": "code",
      "metadata": {
        "id": "4OLioH_61lBk",
        "colab_type": "code",
        "outputId": "ae73be3d-2c5e-456a-c5cf-58c39f1995a9",
        "colab": {
          "base_uri": "https://localhost:8080/",
          "height": 102
        }
      },
      "source": [
        "# Using MNIST data set for hand written digits recognition\n",
        "from keras.datasets import mnist\n",
        "\n",
        "(x_train, y_train), (x_test, y_test) = mnist.load_data()\n",
        "\n",
        "x_train = x_train.astype('float32') / 255.\n",
        "x_test = x_test.astype('float32') / 255.\n",
        "\n",
        "img_zero = []\n",
        "img_one = []\n",
        "img_two = []\n",
        "img_three = []\n",
        "img_six = []\n",
        "\n",
        "for i in range(len(x_train)):\n",
        "  if y_train[i] == 0:\n",
        "    img_zero.append(x_train[i])\n",
        "  elif y_train[i] == 1:\n",
        "    img_one.append(x_train[i])\n",
        "  elif y_train[i] == 2:\n",
        "    img_two.append(x_train[i])\n",
        "  elif y_train[i] == 3:\n",
        "    img_three.append(x_train[i])\n",
        "  elif y_train[i] == 6:\n",
        "    img_six.append(x_train[i])\n",
        "  else:\n",
        "    pass\n",
        "\n",
        "img_zero = np.expand_dims(np.array(img_zero), axis=3)\n",
        "img_one = np.expand_dims(np.array(img_one), axis=3)\n",
        "img_two = np.expand_dims(np.array(img_two), axis=3)\n",
        "img_three = np.expand_dims(np.array(img_three), axis=3)\n",
        "img_six = np.expand_dims(np.array(img_six), axis=3)\n",
        "\n",
        "label_zero = np.ones(len(img_zero), dtype=np.int32)*0\n",
        "label_one = np.ones(len(img_one), dtype=np.int32)*1\n",
        "label_two = np.ones(len(img_two), dtype=np.int32)*2\n",
        "label_three = np.ones(len(img_three), dtype=np.int32)*3\n",
        "label_six = np.ones(len(img_six), dtype=np.int32)*6\n",
        "\n",
        "x_data = np.concatenate((img_zero, img_one, img_two), axis=0)\n",
        "y_data = np.concatenate((label_zero, label_one, label_two), axis= 0)\n",
        "\n",
        "print ('shape of x_data: ', x_data.shape)\n",
        "print ('shape of y_data: ', y_data.shape)\n",
        "\n",
        "x_train, x_val, y_train, y_val = train_test_split(x_data, y_data, test_size=0.2, \n",
        "                                                 stratify=y_data,\n",
        "                                                 random_state=10) "
      ],
      "execution_count": 0,
      "outputs": [
        {
          "output_type": "stream",
          "text": [
            "Downloading data from https://s3.amazonaws.com/img-datasets/mnist.npz\n",
            "\r    8192/11490434 [..............................] - ETA: 17s"
          ],
          "name": "stdout"
        },
        {
          "output_type": "stream",
          "text": [
            "Using TensorFlow backend.\n"
          ],
          "name": "stderr"
        },
        {
          "output_type": "stream",
          "text": [
            "11493376/11490434 [==============================] - 0s 0us/step\n",
            "shape of x_data:  (18623, 28, 28, 1)\n",
            "shape of y_data:  (18623,)\n"
          ],
          "name": "stdout"
        }
      ]
    },
    {
      "cell_type": "markdown",
      "metadata": {
        "id": "Wkukrxh115KB",
        "colab_type": "text"
      },
      "source": [
        "2. Build the bayesian deep learning model"
      ]
    },
    {
      "cell_type": "code",
      "metadata": {
        "id": "JKxKCEbC2Ki0",
        "colab_type": "code",
        "outputId": "40c2b4c6-bc1c-495f-bfc9-0b335803c591",
        "colab": {
          "base_uri": "https://localhost:8080/",
          "height": 459
        }
      },
      "source": [
        "#sess.close()\n",
        "tf.reset_default_graph()\n",
        "\n",
        "inputs = Input(shape=(28, 28, 1))\n",
        "x = tfp.layers.Convolution2DFlipout(32, (5, 5), activation='relu', padding='same')(inputs)\n",
        "x = MaxPooling2D((2, 2))(x)\n",
        "x = tfp.layers.Convolution2DFlipout(64, (5, 5), activation='relu', padding='same')(x)\n",
        "x = MaxPooling2D((2, 2))(x)\n",
        "\n",
        "x = Flatten()(x)\n",
        "x = tfp.layers.DenseFlipout(128, activation='relu')(x)\n",
        "x = Dropout(0.25)(x)\n",
        "outputs = tfp.layers.DenseFlipout(3, activation=None)(x)\n",
        "\n",
        "model = Model(inputs, outputs)\n",
        "\n",
        "model.summary()"
      ],
      "execution_count": 0,
      "outputs": [
        {
          "output_type": "stream",
          "text": [
            "Model: \"model\"\n",
            "_________________________________________________________________\n",
            "Layer (type)                 Output Shape              Param #   \n",
            "=================================================================\n",
            "input_1 (InputLayer)         [(None, 28, 28, 1)]       0         \n",
            "_________________________________________________________________\n",
            "conv2d_flipout (Conv2DFlipou (None, 28, 28, 32)        1632      \n",
            "_________________________________________________________________\n",
            "max_pooling2d (MaxPooling2D) (None, 14, 14, 32)        0         \n",
            "_________________________________________________________________\n",
            "conv2d_flipout_1 (Conv2DFlip (None, 14, 14, 64)        102464    \n",
            "_________________________________________________________________\n",
            "max_pooling2d_1 (MaxPooling2 (None, 7, 7, 64)          0         \n",
            "_________________________________________________________________\n",
            "flatten (Flatten)            (None, 3136)              0         \n",
            "_________________________________________________________________\n",
            "dense_flipout (DenseFlipout) (None, 128)               802944    \n",
            "_________________________________________________________________\n",
            "dropout (Dropout)            (None, 128)               0         \n",
            "_________________________________________________________________\n",
            "dense_flipout_1 (DenseFlipou (None, 3)                 771       \n",
            "=================================================================\n",
            "Total params: 907,811\n",
            "Trainable params: 907,811\n",
            "Non-trainable params: 0\n",
            "_________________________________________________________________\n"
          ],
          "name": "stdout"
        }
      ]
    },
    {
      "cell_type": "markdown",
      "metadata": {
        "id": "IVp-hPI02Z9p",
        "colab_type": "text"
      },
      "source": [
        "3. Train the model"
      ]
    },
    {
      "cell_type": "code",
      "metadata": {
        "id": "Lm4Buh_A2O0h",
        "colab_type": "code",
        "outputId": "c62a5e70-0187-4022-bbdd-b344b71a2b4d",
        "colab": {
          "base_uri": "https://localhost:8080/",
          "height": 85
        }
      },
      "source": [
        "x = tf.placeholder(shape=[None, 28, 28, 1], dtype=tf.float32)\n",
        "y = tf.placeholder(shape=[None], dtype=tf.int32)\n",
        "n = tf.placeholder(shape=[], dtype=tf.float32) \n",
        "\n",
        "logits = model(x)\n",
        "probs = tf.nn.softmax(logits, axis=1)\n",
        "labels_distribution = tfp.distributions.Categorical(logits=logits)\n",
        "log_probs = labels_distribution.log_prob(y)\n",
        "\n",
        "neg_log_likelihood = -tf.reduce_mean(log_probs)\n",
        "kl = sum(model.losses) / n\n",
        "elbo_loss = neg_log_likelihood + kl\n",
        "\n",
        "correct_preds = tf.equal(tf.cast(y, dtype=tf.int64), tf.argmax(probs, axis=1))\n",
        "accuracy = tf.reduce_mean(tf.cast(correct_preds, tf.float32))\n",
        "\n",
        "optimizer = tf.train.AdamOptimizer(0.001)\n",
        "train_op = optimizer.minimize(elbo_loss)\n",
        "\n",
        "init = tf.global_variables_initializer()\n",
        "\n",
        "sess = tf.Session()\n",
        "sess.run(init)\n",
        "\n",
        "batch_size = 32\n",
        "n_iter = 100\n",
        "show_step = 50\n",
        "\n",
        "history_loss_train = []\n",
        "history_acc_train = []\n",
        "history_loss_val = []\n",
        "history_acc_val = []\n",
        "\n",
        "for i in range(n_iter):\n",
        "  batch_indices = np.random.choice(len(x_train), batch_size, replace=False)\n",
        "  batch_x = x_train[batch_indices] \n",
        "  batch_y = y_train[batch_indices]\n",
        "\n",
        "  feed_dict = {x: batch_x, y: batch_y, n: batch_size}\n",
        "  sess.run(train_op, feed_dict=feed_dict )\n",
        "\n",
        "  temp_loss, temp_acc = sess.run([elbo_loss, accuracy], \n",
        "                                        feed_dict=feed_dict)\n",
        "\n",
        "  history_loss_train.append(temp_loss)\n",
        "  history_acc_train.append(temp_acc)\n",
        "\n",
        "  if (i+1) % show_step == 0:\n",
        "    print ('-' * 70)\n",
        "    print ('Iteration: ' + str(i+1) + '  Loss: ' + str(temp_loss) \n",
        "           + '  Accuracy: ' + str(temp_acc))\n",
        "\n",
        "  batch_indices = np.random.choice(len(x_val), batch_size, replace=False)\n",
        "  batch_x = x_val[batch_indices] \n",
        "  batch_y = y_val[batch_indices]\n",
        "\n",
        "  feed_dict = {x: batch_x, y: batch_y, n: batch_size}\n",
        "  sess.run(train_op, feed_dict=feed_dict )\n",
        "\n",
        "  temp_loss, temp_acc = sess.run([elbo_loss, accuracy], \n",
        "                                        feed_dict=feed_dict)\n",
        "\n",
        "  history_loss_val.append(temp_loss)\n",
        "  history_acc_val.append(temp_acc)"
      ],
      "execution_count": 0,
      "outputs": [
        {
          "output_type": "stream",
          "text": [
            "----------------------------------------------------------------------\n",
            "Iteration: 50  Loss: 34474.777  Accuracy: 0.9375\n",
            "----------------------------------------------------------------------\n",
            "Iteration: 100  Loss: 33087.727  Accuracy: 0.96875\n"
          ],
          "name": "stdout"
        }
      ]
    },
    {
      "cell_type": "markdown",
      "metadata": {
        "id": "B9XMvSva2fWL",
        "colab_type": "text"
      },
      "source": [
        "4. Trace the training process"
      ]
    },
    {
      "cell_type": "code",
      "metadata": {
        "id": "0NjarooW2Vo-",
        "colab_type": "code",
        "outputId": "8cadd255-490a-4dad-ab30-28c024d17908",
        "colab": {
          "base_uri": "https://localhost:8080/",
          "height": 227
        }
      },
      "source": [
        "fig = plt.figure(figsize = (10, 3))\n",
        "ax1 = fig.add_subplot(1, 2, 1)\n",
        "ax1.plot(range(n_iter), history_loss_train, 'b-', label='Training')\n",
        "ax1.plot(range(n_iter), history_loss_val, 'r-', label='Validation')\n",
        "ax1.set_title('Loss')\n",
        "ax1.legend(loc='best')\n",
        "\n",
        "ax2 = fig.add_subplot(1, 2, 2)\n",
        "ax2.plot(range(n_iter), history_acc_train, 'b-', label='Training')\n",
        "ax2.plot(range(n_iter), history_acc_val, 'r-', label='Validation')\n",
        "ax2.set_title('Accuracy')\n",
        "ax2.legend(loc='best')\n",
        "\n",
        "plt.show()"
      ],
      "execution_count": 0,
      "outputs": [
        {
          "output_type": "display_data",
          "data": {
            "image/png": "[encoded data removed]",
            "text/plain": [
              "<Figure size 720x216 with 2 Axes>"
            ]
          },
          "metadata": {
            "tags": []
          }
        }
      ]
    },
    {
      "cell_type": "markdown",
      "metadata": {
        "id": "WgE3rNY-2tpK",
        "colab_type": "text"
      },
      "source": [
        "5. Test the model using data set"
      ]
    },
    {
      "cell_type": "code",
      "metadata": {
        "id": "BiZCTT-m2s_b",
        "colab_type": "code",
        "colab": {}
      },
      "source": [
        "idx = np.random.randint(1000)\n",
        "n_samples = 100\n",
        "\n",
        "#x_test = np.expand_dims(img_zero[idx], axis=0)\n",
        "#y_true = 0\n",
        "\n",
        "#x_test = np.expand_dims(img_two[idx], axis=0)\n",
        "#y_true = 2\n",
        "\n",
        "#x_test = np.expand_dims(img_three[idx], axis=0)\n",
        "#y_true = 3\n",
        "\n",
        "x_test = np.expand_dims(img_six[idx], axis=0)\n",
        "y_true = 6\n",
        "\n",
        "y_test_prob = []\n",
        "feed_dict = {x: x_test, n: 1}\n",
        "for i in range(n_samples):\n",
        "  y_test_prob.append(sess.run(probs, feed_dict=feed_dict))\n",
        "\n",
        "y_test_prob = np.squeeze(np.array(y_test_prob))"
      ],
      "execution_count": 0,
      "outputs": []
    },
    {
      "cell_type": "code",
      "metadata": {
        "id": "ivwL6j7b23s_",
        "colab_type": "code",
        "outputId": "e7b539c1-2d8e-4bba-ef1d-bbd3c0e52724",
        "colab": {
          "base_uri": "https://localhost:8080/",
          "height": 457
        }
      },
      "source": [
        "print ('Input: ', y_true)\n",
        "print ()\n",
        "\n",
        "plt.figure(figsize=(5, 3))\n",
        "plt.imshow(np.squeeze(x_test), cmap='Greys')\n",
        "plt.title('Image')\n",
        "plt.grid(False)\n",
        "plt.xticks([])\n",
        "plt.yticks([])\n",
        "plt.show()\n",
        "\n",
        "fig = plt.figure(figsize = (10, 3))\n",
        "ax1 = fig.add_subplot(1, 3, 1)\n",
        "ax1.hist(y_test_prob[:, 0], range=(0.0, 1.0))\n",
        "ax1.set_title('0, median: ' + str(np.median(y_test_prob[:, 0])))\n",
        "\n",
        "ax2 = fig.add_subplot(1, 3, 2)\n",
        "ax2.hist(y_test_prob[:, 1], range=(0.0, 1.0))\n",
        "ax2.set_title('1, median: ' + str(np.median(y_test_prob[:, 1])))\n",
        "\n",
        "ax3 = fig.add_subplot(1, 3, 3)\n",
        "ax3.hist(y_test_prob[:, 2], range=(0.0, 1.0))\n",
        "ax3.set_title('2, median: ' + str(np.median(y_test_prob[:, 2])))\n",
        "\n",
        "plt.show()"
      ],
      "execution_count": 0,
      "outputs": [
        {
          "output_type": "stream",
          "text": [
            "Input:  6\n",
            "\n"
          ],
          "name": "stdout"
        },
        {
          "output_type": "display_data",
          "data": {
            "image/png": "[encoded data removed]",
            "text/plain": [
              "<Figure size 360x216 with 1 Axes>"
            ]
          },
          "metadata": {
            "tags": []
          }
        },
        {
          "output_type": "display_data",
          "data": {
            "image/png": "[encoded data removed]",
            "text/plain": [
              "<Figure size 720x216 with 3 Axes>"
            ]
          },
          "metadata": {
            "tags": []
          }
        }
      ]
    },
    {
      "cell_type": "markdown",
      "metadata": {
        "id": "dIGP5Pmj3C0P",
        "colab_type": "text"
      },
      "source": [
        "## References\n",
        "\n",
        "[1] Bayesian Neural Network Series Post 2: Background Knowledge. <br> [Online] https://medium.com/neuralspace/bayesian-neural-network-series-post-2-background-knowledge-fdec6ac62d43<br>\n",
        "\n",
        "[2] Probabilistic Deep Learning: Bayes by Backprop. <br> [Online] https://medium.com/neuralspace/probabilistic-deep-learning-bayes-by-backprop-c4a3de0d9743<br>\n",
        "\n",
        "[3] Blundell, C., Cornebise, J., Kavukcuoglu, K., & Wierstra, D. (2015). Weight uncertainty in neural networks. arXiv preprint arXiv:1505.05424.\n",
        "\n",
        "[4] Graves, A. (2011). Practical variational inference for neural networks. In Advances in neural information processing systems (pp. 2348–2356).\n",
        "\n",
        "[5] Bayesian NNs using TensorFlow Probability - Making Your Neural Network Say “I Don’t Know”.<br> [Online] https://qiita.com/takeshikondo/items/6bae6124799c20e33eee<br>"
      ]
    }
  ]
}