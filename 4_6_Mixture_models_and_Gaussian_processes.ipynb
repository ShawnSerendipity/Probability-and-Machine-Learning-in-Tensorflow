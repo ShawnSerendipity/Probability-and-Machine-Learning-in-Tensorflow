{
  "nbformat": 4,
  "nbformat_minor": 0,
  "metadata": {
    "anaconda-cloud": {},
    "kernelspec": {
      "display_name": "Python [default]",
      "language": "python",
      "name": "python3"
    },
    "language_info": {
      "codemirror_mode": {
        "name": "ipython",
        "version": 3
      },
      "file_extension": ".py",
      "mimetype": "text/x-python",
      "name": "python",
      "nbconvert_exporter": "python",
      "pygments_lexer": "ipython3",
      "version": "3.5.2"
    },
    "colab": {
      "name": "4.6 Mixture models and Gaussian processes.ipynb",
      "version": "0.3.2",
      "provenance": [],
      "collapsed_sections": [
        "gDTO3pwt8MXk",
        "0unNfUAE8MXl",
        "CIZBxzVY8MYJ",
        "VBOlpcZa8MYJ",
        "X8QDO9n58MYP",
        "m2DRyQFv8MYQ",
        "XYKlm3fN8MYS"
      ]
    }
  },
  "cells": [
    {
      "cell_type": "markdown",
      "metadata": {
        "id": "4xwnYccX8MXO",
        "colab_type": "text"
      },
      "source": [
        "# 4.6 Mixture Models & Gaussian Process"
      ]
    },
    {
      "cell_type": "markdown",
      "metadata": {
        "id": "oppeRrd88MXQ",
        "colab_type": "text"
      },
      "source": [
        "## Objectives\n",
        "* Definitions of Mixture Models and Gaussian Process\n",
        "* Mixture models python examples\n",
        "* Gaussian Process' python example\n",
        "* Use of Gaussian process to model errors and process scientific data"
      ]
    },
    {
      "cell_type": "markdown",
      "metadata": {
        "id": "EBuvAqTa8MXS",
        "colab_type": "text"
      },
      "source": [
        "# Mixture Models"
      ]
    },
    {
      "cell_type": "markdown",
      "metadata": {
        "id": "OoX974gW8MXU",
        "colab_type": "text"
      },
      "source": [
        "* A common approach to model building is to combine or mix simpler models to obtain more complex ones. In statistics, these models are known as **Mixture models**.<br> \n",
        "* Mixture model is a probabilistic model for representing the presence of subpopulations within an overall population, without requiring that an observed data set should identify the sub-population to which an individual observation belongs. <br>\n",
        "* Sometimes a process or phenomenon under study cannot be properly described using a single distribution like a Gaussian or a binomial, or any other pure distribution, but can be described as a mixture of such distributions. Models that assume the data comes from a mixture of distributions known as Mixture models. [1]  "
      ]
    },
    {
      "cell_type": "markdown",
      "metadata": {
        "id": "fRfFY9d98MXW",
        "colab_type": "text"
      },
      "source": [
        "Bayesian Gaussian Mixture model using plate notation<br>\n",
        "![Image01](https://github.com/Health-Devices/Course-Uncertainty-Evaluation-in-Measurements-and-Machine-Learning/raw/d31e370d1410b8667fb33c98bf04c757ed406810/Course%20Material/4.6/mixturemodels.png)<br>\n",
        "[copied from 1]"
      ]
    },
    {
      "cell_type": "markdown",
      "metadata": {
        "id": "UhBnxVsa8MXZ",
        "colab_type": "text"
      },
      "source": [
        "## Structure of a Mixture Model"
      ]
    },
    {
      "cell_type": "markdown",
      "metadata": {
        "id": "MAO9TcD28MXb",
        "colab_type": "text"
      },
      "source": [
        "### General Mixture Model"
      ]
    },
    {
      "cell_type": "markdown",
      "metadata": {
        "id": "-xSQzjww8MXd",
        "colab_type": "text"
      },
      "source": [
        "A typical finite-dimensional mixture model is a hierarchical model consisting of the following components:\n",
        "\n",
        "1. N random variables that are observed, each distributed according to a mixture of **K** components, with the components belonging to the same parametric family of distributions but with different parameters. <br> \n",
        "2. N random latent variables specifying the identity of the mixture component of each observation, each distributed according to a K-dimensional categorical distribution.<br> \n",
        "3. A set of **K** mixture weights, which are probabilities that sum to 1.<br>\n",
        "4. A set of **K** parameters, each specifying the parameter of the corresponding mixture component. If the mixture components are Gaussian distributions, there will be a mean and variance for each component. If the mixture components are categorical distributions there will be a vector of V probabilities summing to 1.  [1]"
      ]
    },
    {
      "cell_type": "markdown",
      "metadata": {
        "id": "ikzHh_0s8MXe",
        "colab_type": "text"
      },
      "source": [
        "A parametric mixture model is described mathematically as follows: [1]<br>\n",
        "\n",
        "$$K  = number \\, of \\, mixture\\, components$$ <br>\n",
        "$$N = number\\,of\\,observation$$ <br>\n",
        "$${\\theta}_{i=1...K} \\quad = \\, parameter\\, of\\, distribution\\, of\\, observation\\, associated\\, with\\, component\\, i$$ <br>\n",
        "$${\\Phi}_{i=1...K} \\quad = \\, mixture\\, weight, \\, i.e. \\, prior\\, probability\\, of\\, a\\, particular\\, component\\, i$$ <br>\n",
        "$${\\Phi} \\quad = \\, K-dimensional\\, vector\\, composed \\, of\\, all\\, the\\, individual\\, {\\Phi}_{i=1...K}; \\, must\\, sum\\, to\\, 1$$ <br>\n",
        "$$z_{i=1...N} \\quad = \\, component\\, of\\, observation\\, i$$ <br>\n",
        "$$x_{i=1...N} \\quad = \\, observation\\, i$$ <br>\n"
      ]
    },
    {
      "cell_type": "markdown",
      "metadata": {
        "id": "40JBR2gf8MXf",
        "colab_type": "text"
      },
      "source": [
        "### Multi-variate Gaussian mixture model"
      ]
    },
    {
      "cell_type": "markdown",
      "metadata": {
        "id": "DlJNkNl18MXg",
        "colab_type": "text"
      },
      "source": [
        "A Bayesian Gaussian mixture model is extended to fit a vector of unknown parameters, or multivariate normal distributions. In a multivariate distribution (i.e. one modelling a vector with N random variables) one may model a vector of parameters using a Gaussian mixture model prior distribution on the vector of estimates given by,\n",
        "$$ p(\\theta) = \\sum_{i=1}^{K}\\Phi_i N(\\mu_i, \\sum_i ) $$"
      ]
    },
    {
      "cell_type": "markdown",
      "metadata": {
        "id": "1e4ElTXh8MXg",
        "colab_type": "text"
      },
      "source": [
        "where the $i_{th}$ vector is characterized by normal distributions with weights $\\Phi_i$, means $\\mu_i$ and covariance matrices $\\sum_i$. <br>\n",
        "The multi-variate gaussian distribution is useful for patch wise shapes of images and clusters. [1]"
      ]
    },
    {
      "cell_type": "markdown",
      "metadata": {
        "id": "WRjJpzz_8MXh",
        "colab_type": "text"
      },
      "source": [
        "### Parameter estimation and system identification"
      ]
    },
    {
      "cell_type": "markdown",
      "metadata": {
        "id": "gY9CbkXx8MXi",
        "colab_type": "text"
      },
      "source": [
        "Parametric mixture models are used when the output i.e. distribution Y is known and can be sampled from X i.e. input values, but the values $a_i$ and $\\theta_i$ are to evaluated. <br>\n",
        "A variety of approaches for such problems are available, but the maximum likelihood methods such as expectation maximization(EM) or maximum a posteriori(MAP) are mainly used. [1]"
      ]
    },
    {
      "cell_type": "markdown",
      "metadata": {
        "id": "W4pmYCEJ8MXj",
        "colab_type": "text"
      },
      "source": [
        "### Expectation-Maximization (EM)"
      ]
    },
    {
      "cell_type": "markdown",
      "metadata": {
        "id": "Zj-eFeEN8MXk",
        "colab_type": "text"
      },
      "source": [
        "EM is the most widely used method to determine the parameters of a parametric mixture model distribution($a_i \\, and \\, \\theta_i$). It is an iterative algorithm with two steps: 1)Expectation step and 2) Maximization step.   [1]"
      ]
    },
    {
      "cell_type": "markdown",
      "metadata": {
        "id": "gDTO3pwt8MXk",
        "colab_type": "text"
      },
      "source": [
        "### Expectation Step\n",
        "With initial guesses for the parameters of the mixture model, 'partial membership' of each data point in each constituent distribution is computed by calculating expectation values for the membership variables of each data point. [1]"
      ]
    },
    {
      "cell_type": "markdown",
      "metadata": {
        "id": "0unNfUAE8MXl",
        "colab_type": "text"
      },
      "source": [
        "### Maximization Step\n",
        "With expectation values in hand for group membership, plug-iin estimates are recomputed for the distribution parameters. <br>\n",
        "The mixing coefficients $a_i$ are the means of the values over the N data points. <br>\n",
        "The component model parameters $\\theta_i$ are calculated by expectation-maximization using data points $x_j$ that have been weighted using the values. <br>\n",
        "With the new estimates being computed, the expectation step is repeated to recompute new values. The entire procedure is until the model parameters converge. [1]\n"
      ]
    },
    {
      "cell_type": "markdown",
      "metadata": {
        "id": "j7G-ZIbg8MXm",
        "colab_type": "text"
      },
      "source": [
        "## Gaussian Mixture Model:\n",
        "A Gaussian mixture model is a probabilistic model that assumes all the data points are generated from a mixture of a finite number of Gaussian distributions with unknown parameters. [14] (The code is referenced from [7])"
      ]
    },
    {
      "cell_type": "code",
      "metadata": {
        "id": "nQRiaNzG_ZS8",
        "colab_type": "code",
        "colab": {}
      },
      "source": [
        "import numpy as np\n",
        "import tensorflow as tf\n",
        "import matplotlib.pyplot as plt\n",
        "import matplotlib.cm as cm"
      ],
      "execution_count": 0,
      "outputs": []
    },
    {
      "cell_type": "markdown",
      "metadata": {
        "id": "zBuhqMoKApkE",
        "colab_type": "text"
      },
      "source": [
        "### 1. Set up parameters"
      ]
    },
    {
      "cell_type": "code",
      "metadata": {
        "id": "vM7gDzSr_ark",
        "colab_type": "code",
        "colab": {}
      },
      "source": [
        "DIMENSIONS = 2\n",
        "CLUSTERS = 10\n",
        "DATA_POINTS = 10000\n",
        "\n",
        "TRAINING_STEPS = 1000\n",
        "TOLERANCE = 0"
      ],
      "execution_count": 0,
      "outputs": []
    },
    {
      "cell_type": "markdown",
      "metadata": {
        "id": "3B-W2YDEAznD",
        "colab_type": "text"
      },
      "source": [
        "### 2. Build data generating function and plotting function"
      ]
    },
    {
      "cell_type": "code",
      "metadata": {
        "id": "jnNMmgHS_dPP",
        "colab_type": "code",
        "colab": {}
      },
      "source": [
        "def generate_gmm_data(points, components, dimensions):\n",
        "    \"\"\"Generates synthetic data of a given size from a random GMM\"\"\"\n",
        "    np.random.seed(10)\n",
        "\n",
        "    c_means = np.random.normal(size=[components, dimensions]) * 10\n",
        "    c_variances = np.abs(np.random.normal(size=[components, dimensions]))\n",
        "    c_weights = np.abs(np.random.normal(size=[components]))\n",
        "    c_weights /= np.sum(c_weights)\n",
        "\n",
        "    result = np.zeros((points, dimensions), dtype=np.float32)\n",
        "\n",
        "    for i in range(points):\n",
        "        comp = np.random.choice(np.array(range(10)), p=c_weights)\n",
        "        result[i] = np.random.multivariate_normal(\n",
        "            c_means[comp], np.diag(c_variances[comp])\n",
        "        )\n",
        "\n",
        "    np.random.seed()\n",
        "\n",
        "    return result, c_means, c_variances, c_weights\n",
        "\n",
        "def plot_data(points, means):\n",
        "    for cluster in range(CLUSTERS):\n",
        "        plt.plot(points[:, 0], points[:, 1], \".\", color='blue', zorder=0)\n",
        "        plt.plot(means[cluster, 0], means[cluster, 1], \".\", color=\"black\", zorder=1)\n",
        "\n",
        "    plt.show()\n",
        "\n",
        "def plot_clustered_data(points, c_means, c_assignments):\n",
        "    \"\"\"Plots the cluster-colored data and the cluster means\"\"\"\n",
        "    colors = cm.rainbow(np.linspace(0, 1, CLUSTERS))\n",
        "\n",
        "    for cluster, color in zip(range(CLUSTERS), colors):\n",
        "        c_points = points[c_assignments == cluster]\n",
        "        plt.plot(c_points[:, 0], c_points[:, 1], \".\", color=color, zorder=0)\n",
        "        plt.plot(c_means[cluster, 0], c_means[cluster, 1], \".\", color=\"black\", zorder=1)\n",
        "\n",
        "    plt.show()"
      ],
      "execution_count": 0,
      "outputs": []
    },
    {
      "cell_type": "markdown",
      "metadata": {
        "id": "7IVCVJYQA-Ti",
        "colab_type": "text"
      },
      "source": [
        "### 3. Preparing Data"
      ]
    },
    {
      "cell_type": "code",
      "metadata": {
        "id": "XUll9w7t_gXP",
        "colab_type": "code",
        "outputId": "ffc8d685-1d30-49db-c38c-31f772519c5a",
        "colab": {
          "base_uri": "https://localhost:8080/",
          "height": 269
        }
      },
      "source": [
        "# generating DATA_POINTS points from a GMM with CLUSTERS components\n",
        "data, true_means, true_variances, true_weights = generate_gmm_data(DATA_POINTS, CLUSTERS, DIMENSIONS)\n",
        "\n",
        "# visualizing dataset\n",
        "plot_data(data, true_means)"
      ],
      "execution_count": 4,
      "outputs": [
        {
          "output_type": "display_data",
          "data": {
            "image/png": "[encoded data removed]",
            "text/plain": [
              "<Figure size 432x288 with 1 Axes>"
            ]
          },
          "metadata": {
            "tags": []
          }
        }
      ]
    },
    {
      "cell_type": "markdown",
      "metadata": {
        "id": "JrT4OtSMBEcn",
        "colab_type": "text"
      },
      "source": [
        "### 4. Building the computational graph"
      ]
    },
    {
      "cell_type": "code",
      "metadata": {
        "id": "jw0vyYRh_ljd",
        "colab_type": "code",
        "outputId": "6e7de249-7622-4f08-c09f-c0dfb8836bc1",
        "colab": {
          "base_uri": "https://localhost:8080/",
          "height": 115
        }
      },
      "source": [
        "# model inputs: generated data points\n",
        "input = tf.placeholder(tf.float32, [None, DIMENSIONS])\n",
        "\n",
        "# trainable variables: clusters means\n",
        "random_point_ids = tf.squeeze(tf.multinomial(tf.ones([1, tf.shape(input)[0]]), CLUSTERS))\n",
        "means = tf.Variable(tf.gather(input, random_point_ids), dtype=tf.float32)\n",
        "\n",
        "# E-step: recomputing cluster assignments according to the current means\n",
        "inputs_ex, means_ex = tf.expand_dims(input, 0), tf.expand_dims(means, 1)\n",
        "distances = tf.reduce_sum(tf.squared_difference(inputs_ex, means_ex), 2)\n",
        "assignments = tf.argmin(distances, 0)\n",
        "\n",
        "# M-step: relocating cluster means according to the computed assignments\n",
        "sums = tf.unsorted_segment_sum(input, assignments, CLUSTERS)\n",
        "counts = tf.reduce_sum(tf.one_hot(assignments, CLUSTERS), 0)\n",
        "means_ = tf.divide(sums, tf.expand_dims(counts, 1))\n",
        "\n",
        "# distortion measure: sum of squared distances \n",
        "# from each point to the closest cluster mean\n",
        "distortion = tf.reduce_sum(tf.reduce_min(distances, 0))\n",
        "\n",
        "# updating the means by new values\n",
        "train_step = means.assign(means_)"
      ],
      "execution_count": 5,
      "outputs": [
        {
          "output_type": "stream",
          "text": [
            "WARNING: Logging before flag parsing goes to stderr.\n",
            "W0805 00:03:31.446147 140657487599488 deprecation.py:323] From <ipython-input-5-589a2e603f43>:4: multinomial (from tensorflow.python.ops.random_ops) is deprecated and will be removed in a future version.\n",
            "Instructions for updating:\n",
            "Use `tf.random.categorical` instead.\n"
          ],
          "name": "stderr"
        }
      ]
    },
    {
      "cell_type": "markdown",
      "metadata": {
        "id": "wa8gosCXBPCO",
        "colab_type": "text"
      },
      "source": [
        "### 5. Running the computational graph"
      ]
    },
    {
      "cell_type": "code",
      "metadata": {
        "id": "gpRUXfj__qef",
        "colab_type": "code",
        "outputId": "19dddb48-e55e-4650-c12a-ed3cf942ef50",
        "colab": {
          "base_uri": "https://localhost:8080/",
          "height": 864
        }
      },
      "source": [
        "# RUNNING COMPUTATIONAL GRAPH\n",
        "\n",
        "# creating session\n",
        "sess = tf.InteractiveSession()\n",
        "\n",
        "# initializing trainable variables\n",
        "sess.run(tf.global_variables_initializer(), feed_dict={input: data})\n",
        "\n",
        "previous_assignments = None\n",
        "\n",
        "# training loop\n",
        "for step in range(TRAINING_STEPS):\n",
        "    # executing a training step and\n",
        "    # fetching evaluation information\n",
        "    distortion_measure, current_means, current_assignments, _ = sess.run(\n",
        "        [distortion, means_, assignments, train_step],\n",
        "        feed_dict={input: data}\n",
        "    )\n",
        "\n",
        "    if step > 0:\n",
        "        # computing the number of re-assignments during the step\n",
        "        re_assignments = (current_assignments != previous_assignments).sum()\n",
        "        print(\"{0}:\\tdistortion {1:.2f}\\tre-assignments {2}\".format(\n",
        "            step, distortion_measure, re_assignments))\n",
        "\n",
        "        # stopping if no re-assignments occurred\n",
        "        if re_assignments <= TOLERANCE:\n",
        "            break\n",
        "    else:\n",
        "        print(\"{0}:\\tdistortion {1:.2f}\".format(\n",
        "            step, distortion_measure))\n",
        "\n",
        "    previous_assignments = current_assignments\n",
        "\n",
        "plot_clustered_data(data, current_means, current_assignments)"
      ],
      "execution_count": 6,
      "outputs": [
        {
          "output_type": "stream",
          "text": [
            "0:\tdistortion 279267.28\n",
            "1:\tdistortion 115495.66\tre-assignments 535\n",
            "2:\tdistortion 113300.78\tre-assignments 594\n",
            "3:\tdistortion 106469.66\tre-assignments 428\n",
            "4:\tdistortion 103539.92\tre-assignments 304\n",
            "5:\tdistortion 102992.20\tre-assignments 430\n",
            "6:\tdistortion 102056.59\tre-assignments 501\n",
            "7:\tdistortion 100830.68\tre-assignments 389\n",
            "8:\tdistortion 99981.49\tre-assignments 293\n",
            "9:\tdistortion 99676.41\tre-assignments 173\n",
            "10:\tdistortion 99590.03\tre-assignments 107\n",
            "11:\tdistortion 99570.54\tre-assignments 63\n",
            "12:\tdistortion 99563.09\tre-assignments 42\n",
            "13:\tdistortion 99559.91\tre-assignments 31\n",
            "14:\tdistortion 99555.82\tre-assignments 43\n",
            "15:\tdistortion 99551.01\tre-assignments 36\n",
            "16:\tdistortion 99549.36\tre-assignments 32\n",
            "17:\tdistortion 99547.52\tre-assignments 31\n",
            "18:\tdistortion 99544.93\tre-assignments 41\n",
            "19:\tdistortion 99541.86\tre-assignments 39\n",
            "20:\tdistortion 99539.36\tre-assignments 36\n",
            "21:\tdistortion 99537.41\tre-assignments 34\n",
            "22:\tdistortion 99535.56\tre-assignments 32\n",
            "23:\tdistortion 99534.09\tre-assignments 31\n",
            "24:\tdistortion 99532.89\tre-assignments 20\n",
            "25:\tdistortion 99532.34\tre-assignments 17\n",
            "26:\tdistortion 99532.01\tre-assignments 14\n",
            "27:\tdistortion 99531.67\tre-assignments 12\n",
            "28:\tdistortion 99531.47\tre-assignments 9\n",
            "29:\tdistortion 99531.39\tre-assignments 6\n",
            "30:\tdistortion 99531.37\tre-assignments 3\n",
            "31:\tdistortion 99531.35\tre-assignments 2\n",
            "32:\tdistortion 99531.34\tre-assignments 1\n",
            "33:\tdistortion 99531.34\tre-assignments 1\n",
            "34:\tdistortion 99531.34\tre-assignments 0\n"
          ],
          "name": "stdout"
        },
        {
          "output_type": "display_data",
          "data": {
            "image/png": "[encoded data removed]",
            "text/plain": [
              "<Figure size 432x288 with 1 Axes>"
            ]
          },
          "metadata": {
            "tags": []
          }
        }
      ]
    },
    {
      "cell_type": "markdown",
      "metadata": {
        "id": "Br5UwcJu8MX0",
        "colab_type": "text"
      },
      "source": [
        "The uncertainty in the data points can be visualized by increasing the size of each point proportional to the certainty of its prediction. From the plot we can see that, the points on the boundary of clusters indicate the uncertainty of data points in the cluster."
      ]
    },
    {
      "cell_type": "markdown",
      "metadata": {
        "id": "tn98BLXV8MX-",
        "colab_type": "text"
      },
      "source": [
        "### Mixture model example with data.npy\n",
        "The code is copied from [6] with minor changes"
      ]
    },
    {
      "cell_type": "code",
      "metadata": {
        "id": "wKAWv-188MYA",
        "colab_type": "code",
        "outputId": "d787f325-e607-4046-cd13-57f3553e8533",
        "colab": {
          "base_uri": "https://localhost:8080/",
          "height": 351
        }
      },
      "source": [
        "import warnings\n",
        "warnings.filterwarnings(\"ignore\")\n",
        "from sklearn.mixture import GaussianMixture\n",
        "\n",
        "X = np.load('data.npy') #load data \n",
        "#print(X)\n",
        "#fit GMM\n",
        "gmm = GaussianMixture(n_components = 2, covariance_type = 'full', tol = 0.001)\n",
        "gmm.fit(X)\n",
        "\n",
        "#predict the values\n",
        "labels = gmm.predict(X)\n",
        "plt.scatter(X[:, 0], X[:, 1], c=labels, s=None, cmap='viridis')\n",
        "#plt.legend()\n",
        "plt.show()"
      ],
      "execution_count": 7,
      "outputs": [
        {
          "output_type": "error",
          "ename": "FileNotFoundError",
          "evalue": "ignored",
          "traceback": [
            "\u001b[0;31m---------------------------------------------------------------------------\u001b[0m",
            "\u001b[0;31mFileNotFoundError\u001b[0m                         Traceback (most recent call last)",
            "\u001b[0;32m<ipython-input-7-ed39acc9de79>\u001b[0m in \u001b[0;36m<module>\u001b[0;34m()\u001b[0m\n\u001b[1;32m      3\u001b[0m \u001b[0;32mfrom\u001b[0m \u001b[0msklearn\u001b[0m\u001b[0;34m.\u001b[0m\u001b[0mmixture\u001b[0m \u001b[0;32mimport\u001b[0m \u001b[0mGaussianMixture\u001b[0m\u001b[0;34m\u001b[0m\u001b[0;34m\u001b[0m\u001b[0m\n\u001b[1;32m      4\u001b[0m \u001b[0;34m\u001b[0m\u001b[0m\n\u001b[0;32m----> 5\u001b[0;31m \u001b[0mX\u001b[0m \u001b[0;34m=\u001b[0m \u001b[0mnp\u001b[0m\u001b[0;34m.\u001b[0m\u001b[0mload\u001b[0m\u001b[0;34m(\u001b[0m\u001b[0;34m'data.npy'\u001b[0m\u001b[0;34m)\u001b[0m \u001b[0;31m#load data\u001b[0m\u001b[0;34m\u001b[0m\u001b[0;34m\u001b[0m\u001b[0m\n\u001b[0m\u001b[1;32m      6\u001b[0m \u001b[0;31m#print(X)\u001b[0m\u001b[0;34m\u001b[0m\u001b[0;34m\u001b[0m\u001b[0;34m\u001b[0m\u001b[0m\n\u001b[1;32m      7\u001b[0m \u001b[0;31m#fit GMM\u001b[0m\u001b[0;34m\u001b[0m\u001b[0;34m\u001b[0m\u001b[0;34m\u001b[0m\u001b[0m\n",
            "\u001b[0;32m/usr/local/lib/python3.6/dist-packages/numpy/lib/npyio.py\u001b[0m in \u001b[0;36mload\u001b[0;34m(file, mmap_mode, allow_pickle, fix_imports, encoding)\u001b[0m\n\u001b[1;32m    420\u001b[0m         \u001b[0mown_fid\u001b[0m \u001b[0;34m=\u001b[0m \u001b[0;32mFalse\u001b[0m\u001b[0;34m\u001b[0m\u001b[0;34m\u001b[0m\u001b[0m\n\u001b[1;32m    421\u001b[0m     \u001b[0;32melse\u001b[0m\u001b[0;34m:\u001b[0m\u001b[0;34m\u001b[0m\u001b[0;34m\u001b[0m\u001b[0m\n\u001b[0;32m--> 422\u001b[0;31m         \u001b[0mfid\u001b[0m \u001b[0;34m=\u001b[0m \u001b[0mopen\u001b[0m\u001b[0;34m(\u001b[0m\u001b[0mos_fspath\u001b[0m\u001b[0;34m(\u001b[0m\u001b[0mfile\u001b[0m\u001b[0;34m)\u001b[0m\u001b[0;34m,\u001b[0m \u001b[0;34m\"rb\"\u001b[0m\u001b[0;34m)\u001b[0m\u001b[0;34m\u001b[0m\u001b[0;34m\u001b[0m\u001b[0m\n\u001b[0m\u001b[1;32m    423\u001b[0m         \u001b[0mown_fid\u001b[0m \u001b[0;34m=\u001b[0m \u001b[0;32mTrue\u001b[0m\u001b[0;34m\u001b[0m\u001b[0;34m\u001b[0m\u001b[0m\n\u001b[1;32m    424\u001b[0m \u001b[0;34m\u001b[0m\u001b[0m\n",
            "\u001b[0;31mFileNotFoundError\u001b[0m: [Errno 2] No such file or directory: 'data.npy'"
          ]
        }
      ]
    },
    {
      "cell_type": "code",
      "metadata": {
        "id": "ZPCgncip8MYD",
        "colab_type": "code",
        "outputId": "0eff4175-730a-45f2-a0d8-d4d423b416b2",
        "colab": {}
      },
      "source": [
        "#evaluate mean and covariance\n",
        "print('The mean is:',gmm.means_)  \n",
        "print('The covariance is:',gmm.covariances_)"
      ],
      "execution_count": 0,
      "outputs": [
        {
          "output_type": "stream",
          "text": [
            "The mean is: [[ 1.60629419  1.3470999 ]\n",
            " [ 3.0363831   3.09828041]]\n",
            "The covariance is: [[[ 0.75275611 -0.5054196 ]\n",
            "  [-0.5054196   0.74286061]]\n",
            "\n",
            " [[ 0.8465178   0.38644336]\n",
            "  [ 0.38644336  0.73395863]]]\n"
          ],
          "name": "stdout"
        }
      ]
    },
    {
      "cell_type": "code",
      "metadata": {
        "id": "QVJjify38MYF",
        "colab_type": "code",
        "outputId": "ab1cc821-0236-4e30-d03c-c2a5cdfafe24",
        "colab": {}
      },
      "source": [
        "probs = gmm.predict_proba(X)\n",
        "print('The probability is:',probs[:5].round(2))"
      ],
      "execution_count": 0,
      "outputs": [
        {
          "output_type": "stream",
          "text": [
            "The probability is: [[ 0.01  0.99]\n",
            " [ 0.06  0.94]\n",
            " [ 0.    1.  ]\n",
            " [ 0.87  0.13]\n",
            " [ 0.    1.  ]]\n"
          ],
          "name": "stdout"
        }
      ]
    },
    {
      "cell_type": "markdown",
      "metadata": {
        "id": "9cy9CIKy8MYG",
        "colab_type": "text"
      },
      "source": [
        "Here a grid of all X and Y coordinates is created and GMM is evaluated. Then GMM can be plotted as contours over the original data."
      ]
    },
    {
      "cell_type": "code",
      "metadata": {
        "id": "Bx6EFS6q8MYG",
        "colab_type": "code",
        "outputId": "4c5a3f1c-3bcf-4867-a661-93b14882ff44",
        "colab": {}
      },
      "source": [
        "A, B = np.meshgrid(np.linspace(-1, 5.5), np.linspace(-1,6))\n",
        "X_new = np.array([A.ravel(), B.ravel()]).T\n",
        "\n",
        "C = gmm.score_samples(X_new)\n",
        "C = C.reshape((50,50))\n",
        "\n",
        "plt.contour(A, B, C)\n",
        "plt.scatter(X[:, 0], X[:, 1])\n",
        "\n",
        "plt.show()"
      ],
      "execution_count": 0,
      "outputs": [
        {
          "output_type": "display_data",
          "data": {
            "image/png": "[encoded data removed]",
            "text/plain": [
              "<matplotlib.figure.Figure at 0x19537941860>"
            ]
          },
          "metadata": {
            "tags": []
          }
        }
      ]
    },
    {
      "cell_type": "markdown",
      "metadata": {
        "id": "5VNcjbCd8MYH",
        "colab_type": "text"
      },
      "source": [
        "Gaussian Mixture Models is a clustering technique that fits multivariate Gaussian distributions to the given data. [6]"
      ]
    },
    {
      "cell_type": "markdown",
      "metadata": {
        "id": "1SVFReej8MYI",
        "colab_type": "text"
      },
      "source": [
        "## Gaussian Process (GP)"
      ]
    },
    {
      "cell_type": "markdown",
      "metadata": {
        "id": "KjNQaiPC8MYI",
        "colab_type": "text"
      },
      "source": [
        "### Definition: \n",
        "For the function vector, $ f = (f(x_1),...f(x_n))$. \n",
        "If, for any choice of input points, $(x_1,...,x_n)$, the marginal distribution over f: <br> $$P(F) = \\int_{f \\not\\in F} P(f) df $$ <br> is a multi-variate Gaussian then the distribution *P(f)* over the function *f* is said to be a **Gaussian Process**. [2]"
      ]
    },
    {
      "cell_type": "markdown",
      "metadata": {
        "id": "c241R3_l8MYI",
        "colab_type": "text"
      },
      "source": [
        "A GP is parameterized with a mean function and a covariance function. <br>\n",
        "A Gaussian Process Regression is an application of a multivariate Gaussian Distribution as a powerful predictive tool for data that is highly non-linear or not easily modeled using linear or multivariate regression. [14] <br>\n",
        "GP's can be expressed entirely by:\n",
        "1. vector of mean values defined by data at i/p variables $x_1,x_2,...,x_n$\n",
        "2. covariance matrix across $(x_1,x_1), (x_2,x_2),...,(x_i,x_j)$ <br>"
      ]
    },
    {
      "cell_type": "markdown",
      "metadata": {
        "id": "CIZBxzVY8MYJ",
        "colab_type": "text"
      },
      "source": [
        "### Covariance functions\n",
        "Gaussian processes can be completely defined by their second-order statistics. The covariance function completely defines the process behaviour when Gaussian function has mean = 0. <br>\n",
        "Stationarity, Isotropy, Smoothness and Periodicity are the key aspects defined by covariance functions. <br>\n",
        "**Stationarity** refers to the process's behaviour regarding the separation of any two points $x$ and $x'$. If the process is stationary,it depends on their separation, $x-x'$, while if non-stationary it depends on the actual position of the points $x$ and $x'$. <br>\n",
        "If the process depends only on $|x-x'|$, the Euclidean distance between $x$ and $x'$, then the process is considered **Isotropic**. <br>\n",
        "A process that is currently stationary and isotropic is considered to be **Homogeneous**. <br>\n",
        "**Periodicity** refers to inducing periodic patterns within the behaviour of the process. [2]"
      ]
    },
    {
      "cell_type": "markdown",
      "metadata": {
        "id": "VBOlpcZa8MYJ",
        "colab_type": "text"
      },
      "source": [
        "### Gaussian process prediction or Kriging\n",
        "For Kriging, it is assumed that for a Gaussian process $f$ observed at coordinates $x$, the vector of values $f(x)$ is just one sample from a multivariate Gaussian distribution of dimension equal to number of observed coordinates $|x|$. [2]"
      ]
    },
    {
      "cell_type": "markdown",
      "metadata": {
        "id": "wGmPO_rZ8MYJ",
        "colab_type": "text"
      },
      "source": [
        "## Example: Exact GP Regression on Noisy Sinusoidal Data"
      ]
    },
    {
      "cell_type": "markdown",
      "metadata": {
        "id": "lzHco7q28MYJ",
        "colab_type": "text"
      },
      "source": [
        "Here we generate training data from a noisy sinusoid, then sample a bunch of curves from the posterior of the GP regression model. We use Adam to optimize the kernel hyperparameters (we minimize the negative log likelihood of the data under the prior). We plot the training curve, followed by the true function and the posterior samples."
      ]
    },
    {
      "cell_type": "markdown",
      "metadata": {
        "id": "Tlk5MOt98MYK",
        "colab_type": "text"
      },
      "source": [
        "The code is copied from [15 ] with minor changes"
      ]
    },
    {
      "cell_type": "code",
      "metadata": {
        "id": "u8uUeiWm8MYK",
        "colab_type": "code",
        "outputId": "df3cb300-88d6-4c1e-dcb8-6336439b22de",
        "colab": {
          "base_uri": "https://localhost:8080/",
          "height": 34
        }
      },
      "source": [
        "import numpy as np\n",
        "import tensorflow as tf\n",
        "from mpl_toolkits.mplot3d import Axes3D\n",
        "from tensorflow_probability import distributions as tfd\n",
        "from tensorflow_probability import positive_semidefinite_kernels as tfk\n",
        "\n",
        "%pylab inline\n",
        "# Configure plot defaults\n",
        "plt.rcParams['axes.facecolor'] = 'white'\n",
        "plt.rcParams['grid.color'] = '#666666'\n",
        "%config InlineBackend.figure_format = 'png'"
      ],
      "execution_count": 8,
      "outputs": [
        {
          "output_type": "stream",
          "text": [
            "Populating the interactive namespace from numpy and matplotlib\n"
          ],
          "name": "stdout"
        }
      ]
    },
    {
      "cell_type": "code",
      "metadata": {
        "id": "UQBkSRjb8MYM",
        "colab_type": "code",
        "colab": {}
      },
      "source": [
        "def reset_session():\n",
        "  \"\"\"Creates a new global, interactive session in Graph-mode.\"\"\"\n",
        "  global sess\n",
        "  try:\n",
        "    tf.reset_default_graph()\n",
        "    sess.close()\n",
        "  except:\n",
        "    pass\n",
        "  sess = tf.InteractiveSession()\n",
        "\n",
        "reset_session()"
      ],
      "execution_count": 0,
      "outputs": []
    },
    {
      "cell_type": "code",
      "metadata": {
        "id": "CDrGvhauH0f8",
        "colab_type": "code",
        "colab": {}
      },
      "source": [
        "def sinusoid(x):\n",
        "  return np.sin(3 * np.pi * x[..., 0])\n",
        "\n",
        "def generate_1d_data(num_training_points, observation_noise_variance):\n",
        "  \"\"\"Generate noisy sinusoidal observations at a random set of points.\n",
        "\n",
        "  Returns:\n",
        "     observation_index_points, observations\n",
        "  \"\"\"\n",
        "  index_points_ = np.random.uniform(-1., 1., (num_training_points, 1))\n",
        "  index_points_ = index_points_.astype(np.float64)\n",
        "  # y = f(x) + noise\n",
        "  observations_ = (sinusoid(index_points_) +\n",
        "                   np.random.normal(loc=0,\n",
        "                                    scale=np.sqrt(observation_noise_variance),\n",
        "                                    size=(num_training_points)))\n",
        "  return index_points_, observations_"
      ],
      "execution_count": 0,
      "outputs": []
    },
    {
      "cell_type": "code",
      "metadata": {
        "id": "51lJKsn58MYN",
        "colab_type": "code",
        "colab": {}
      },
      "source": [
        "# Generate training data with a known noise level (we'll later try to recover\n",
        "# this value from the data).\n",
        "NUM_TRAINING_POINTS = 100\n",
        "observation_index_points_, observations_ = generate_1d_data(\n",
        "    num_training_points=NUM_TRAINING_POINTS,\n",
        "    observation_noise_variance=.1)"
      ],
      "execution_count": 0,
      "outputs": []
    },
    {
      "cell_type": "code",
      "metadata": {
        "id": "j_ic65_NH6Qu",
        "colab_type": "code",
        "colab": {}
      },
      "source": [
        "# Create the trainable model parameters, which we'll subsequently optimize.\n",
        "# Note that we constrain them to be strictly positive.\n",
        "amplitude = (np.finfo(np.float64).tiny +\n",
        "             tf.nn.softplus(tf.Variable(initial_value=1.,\n",
        "                                        name='amplitude',\n",
        "                                        dtype=np.float64)))\n",
        "length_scale = (np.finfo(np.float64).tiny +\n",
        "                tf.nn.softplus(tf.Variable(initial_value=1.,\n",
        "                                           name='length_scale',\n",
        "                                           dtype=np.float64)))\n",
        "\n",
        "observation_noise_variance = (\n",
        "    np.finfo(np.float64).tiny +\n",
        "    tf.nn.softplus(tf.Variable(initial_value=1e-6,\n",
        "                               name='observation_noise_variance',\n",
        "                               dtype=np.float64)))"
      ],
      "execution_count": 0,
      "outputs": []
    },
    {
      "cell_type": "code",
      "metadata": {
        "id": "oRxH8NznH-aX",
        "colab_type": "code",
        "colab": {}
      },
      "source": [
        "# Create the covariance kernel, which will be shared between the prior (which we\n",
        "# use for maximum likelihood training) and the posterior (which we use for\n",
        "# posterior predictive sampling)\n",
        "kernel = tfk.ExponentiatedQuadratic(amplitude, length_scale)"
      ],
      "execution_count": 0,
      "outputs": []
    },
    {
      "cell_type": "code",
      "metadata": {
        "id": "7y4dHd7vIAuM",
        "colab_type": "code",
        "colab": {}
      },
      "source": [
        "# Create the GP prior distribution, which we will use to train the model\n",
        "# parameters.\n",
        "gp = tfd.GaussianProcess(\n",
        "    kernel=kernel,\n",
        "    index_points=observation_index_points_,\n",
        "    observation_noise_variance=observation_noise_variance)\n",
        "\n",
        "# This lets us compute the log likelihood of the observed data. Then we can\n",
        "# maximize this quantity to find optimal model parameters.\n",
        "log_likelihood = gp.log_prob(observations_)"
      ],
      "execution_count": 0,
      "outputs": []
    },
    {
      "cell_type": "code",
      "metadata": {
        "id": "dQMPz7CEICq2",
        "colab_type": "code",
        "outputId": "41974977-bba9-414c-8016-d80360c4a10d",
        "colab": {
          "base_uri": "https://localhost:8080/",
          "height": 98
        }
      },
      "source": [
        "# Define the optimization ops for maximizing likelihood (minimizing neg\n",
        "# log-likelihood!)\n",
        "optimizer = tf.train.AdamOptimizer(learning_rate=.01)\n",
        "train_op = optimizer.minimize(-log_likelihood)"
      ],
      "execution_count": 15,
      "outputs": [
        {
          "output_type": "stream",
          "text": [
            "W0805 00:04:24.837824 140657487599488 deprecation.py:323] From /usr/local/lib/python3.6/dist-packages/tensorflow/python/ops/math_grad.py:1205: add_dispatch_support.<locals>.wrapper (from tensorflow.python.ops.array_ops) is deprecated and will be removed in a future version.\n",
            "Instructions for updating:\n",
            "Use tf.where in 2.0, which has the same broadcast rule as np.where\n"
          ],
          "name": "stderr"
        }
      ]
    },
    {
      "cell_type": "code",
      "metadata": {
        "id": "wpM8GwMLIFKR",
        "colab_type": "code",
        "outputId": "9e0db982-b22a-4edb-ab68-f5cce1493267",
        "colab": {
          "base_uri": "https://localhost:8080/",
          "height": 85
        }
      },
      "source": [
        "# Now we optimize the model parameters.\n",
        "num_iters = 1000\n",
        "# Store the likelihood values during training, so we can plot the progress\n",
        "lls_ = np.zeros(num_iters, np.float64)\n",
        "sess.run(tf.global_variables_initializer())\n",
        "for i in range(num_iters):\n",
        "  _, lls_[i] = sess.run([train_op, log_likelihood])\n",
        "\n",
        "[amplitude_,\n",
        " length_scale_,\n",
        " observation_noise_variance_] = sess.run([\n",
        "    amplitude,\n",
        "    length_scale,\n",
        "    observation_noise_variance])\n",
        "print('Trained parameters:'.format(amplitude_))\n",
        "print('amplitude: {}'.format(amplitude_))\n",
        "print('length_scale: {}'.format(length_scale_))\n",
        "print('observation_noise_variance: {}'.format(observation_noise_variance_))"
      ],
      "execution_count": 16,
      "outputs": [
        {
          "output_type": "stream",
          "text": [
            "Trained parameters:\n",
            "amplitude: 0.8286547056334547\n",
            "length_scale: 0.17309663986648044\n",
            "observation_noise_variance: 0.12301189989139515\n"
          ],
          "name": "stdout"
        }
      ]
    },
    {
      "cell_type": "code",
      "metadata": {
        "id": "HfXu11QnIIvf",
        "colab_type": "code",
        "outputId": "38941379-6c4f-4104-ea94-1353a6ff4cf0",
        "colab": {
          "base_uri": "https://localhost:8080/",
          "height": 283
        }
      },
      "source": [
        "# Plot the loss evolution\n",
        "plt.figure(figsize=(12, 4))\n",
        "plt.plot(lls_)\n",
        "plt.xlabel(\"Training iteration\")\n",
        "plt.ylabel(\"Log marginal likelihood\")\n",
        "plt.show()"
      ],
      "execution_count": 17,
      "outputs": [
        {
          "output_type": "display_data",
          "data": {
            "image/png": "[encoded data removed]",
            "text/plain": [
              "<Figure size 864x288 with 1 Axes>"
            ]
          },
          "metadata": {
            "tags": []
          }
        }
      ]
    },
    {
      "cell_type": "code",
      "metadata": {
        "id": "qC5dNHYvILsU",
        "colab_type": "code",
        "colab": {}
      },
      "source": [
        "# Having trained the model, we'd like to sample from the posterior conditioned\n",
        "# on observations. We'd like the samples to be at points other than the training\n",
        "# inputs.\n",
        "predictive_index_points_ = np.linspace(-1.2, 1.2, 200, dtype=np.float64)\n",
        "# Reshape to [200, 1] -- 1 is the dimensionality of the feature space.\n",
        "predictive_index_points_ = predictive_index_points_[..., np.newaxis]\n",
        "\n",
        "gprm = tfd.GaussianProcessRegressionModel(\n",
        "    kernel=kernel,  # Reuse the same kernel instance, with the same params\n",
        "    index_points=predictive_index_points_,\n",
        "    observation_index_points=observation_index_points_,\n",
        "    observations=observations_,\n",
        "    observation_noise_variance=observation_noise_variance,\n",
        "    predictive_noise_variance=0.)\n",
        "\n",
        "# Create op to draw  50 independent samples, each of which is a *joint* draw\n",
        "# from the posterior at the predictive_index_points_. Since we have 200 input\n",
        "# locations as defined above, this posterior distribution over corresponding\n",
        "# function values is a 200-dimensional multivariate Gaussian distribution!\n",
        "num_samples = 50\n",
        "samples = gprm.sample(num_samples)"
      ],
      "execution_count": 0,
      "outputs": []
    },
    {
      "cell_type": "code",
      "metadata": {
        "id": "KDW2FwKXIO-K",
        "colab_type": "code",
        "outputId": "743b3a7d-873c-4c16-b630-7760a247bd70",
        "colab": {
          "base_uri": "https://localhost:8080/",
          "height": 289
        }
      },
      "source": [
        "# Draw samples and visualize.\n",
        "samples_ = sess.run(samples)\n",
        "\n",
        "# Plot the true function, observations, and posterior samples.\n",
        "plt.figure(figsize=(12, 4))\n",
        "plt.plot(predictive_index_points_, sinusoid(predictive_index_points_),\n",
        "         label='True fn')\n",
        "plt.scatter(observation_index_points_[:, 0], observations_,\n",
        "            label='Observations')\n",
        "for i in range(num_samples):\n",
        "  plt.plot(predictive_index_points_, samples_[i, :], c='r', alpha=.1,\n",
        "           label='Posterior Sample' if i == 0 else None)\n",
        "leg = plt.legend(loc='upper right')\n",
        "for lh in leg.legendHandles: \n",
        "    lh.set_alpha(1)\n",
        "plt.xlabel(r\"Index points ($\\mathbb{R}^1$)\")\n",
        "plt.ylabel(\"Observation space\")\n",
        "plt.show()"
      ],
      "execution_count": 19,
      "outputs": [
        {
          "output_type": "display_data",
          "data": {
            "image/png": "[encoded data removed]",
            "text/plain": [
              "<Figure size 864x288 with 1 Axes>"
            ]
          },
          "metadata": {
            "tags": []
          }
        }
      ]
    },
    {
      "cell_type": "markdown",
      "metadata": {
        "id": "ZAsHD7j7IS7z",
        "colab_type": "text"
      },
      "source": [
        "*Note: if you run the above code several times, sometimes it looks great and\n",
        "other times it looks terrible! The maximum likelihood training of the parameters\n",
        "is quite sensitive and sometimes converges to poor models. The best approach\n",
        "is to use MCMC to marginalize the model hyperparameters.*"
      ]
    },
    {
      "cell_type": "markdown",
      "metadata": {
        "id": "vR_WjFO38MYP",
        "colab_type": "text"
      },
      "source": [
        "## Use of Gaussian Process to model errors and process scientific data"
      ]
    },
    {
      "cell_type": "markdown",
      "metadata": {
        "id": "Nf3TDYCh8MYP",
        "colab_type": "text"
      },
      "source": [
        "The method of Gaussian Process Regression(GPR) assumes that the data can be well modeled as a sample of a Gaussian Process.\n",
        "We are given a set of inputs 'x' and its corresponding outputs 'y', called as training data. [9]<br>\n",
        "Consider the following model of a sample Gaussian process, [9] $$ y(x) = \\mu (x) + z(x) + z_0 $$ <br>\n",
        "$$\\mu (x) \\rightarrow models\\, unconditional\\, expectation\\, of\\, process $$\n",
        "$$z(x) \\rightarrow Gaussian \\, random\\,field\\,with\\,zero\\,mean\\,and\\,covariance $$\n",
        "$$z_0 \\rightarrow random \\,variable\\,called\\,noise $$  "
      ]
    },
    {
      "cell_type": "markdown",
      "metadata": {
        "id": "lE4j8O6o8MYP",
        "colab_type": "text"
      },
      "source": [
        "GPR models can predict the standard deviation of prediction and acts as a measure of uncertainty to the model's prediction. <br>\n",
        "GPR can aslo perform the automatic tuning of adjustable parameters by maximum likelihood estmation(MLE). <br>\n",
        "The hyperparameters $\\theta,\\, \\sigma,\\, \\sigma_0,\\, \\mu \\, and \\, \\mu_0 $ can help to evaluate the marginal likelihood of given data. <br>\n",
        "The maximum likelihood predicts how likely the data is to occur given a particular model and serves as a rating of how well the model explains the data. [9]"
      ]
    },
    {
      "cell_type": "markdown",
      "metadata": {
        "id": "X8QDO9n58MYP",
        "colab_type": "text"
      },
      "source": [
        "### Applications:"
      ]
    },
    {
      "cell_type": "markdown",
      "metadata": {
        "id": "m2DRyQFv8MYQ",
        "colab_type": "text"
      },
      "source": [
        "###  $\\rightarrow$ Design Optimization: [9]\n",
        "The use of regression techniques to optimize designs has increased significantly. It combines the robustness of stochastic global search methods with the efficiency of traditional gradient based algorithms. <br>\n",
        "The basic steps to build a model-based optimization algorithm are:\n",
        "* Develop a local model for an unknown function; within the trust limits of the model\n",
        "* Optimize the model\n",
        "* Validate results and update the models based on required changes. Repeat until the model reaches its limits\n",
        " "
      ]
    },
    {
      "cell_type": "markdown",
      "metadata": {
        "id": "D15b__Vr8MYQ",
        "colab_type": "text"
      },
      "source": [
        "###  $\\rightarrow$ Measurement Error Estimation: [9]\n",
        "\n",
        "Another application is to estimate measurement errors.<br>\n",
        "It is done by fitting a parametric model to the measured data and the residual errors are used to build an estimate of the measurement error. <br>\n",
        "In case of parametric approach, a systematic error is inroduced if the equation that describes the model us not specified correctly. In such a case, non-parametric data models can be used to estimate measurement errors. <br>\n",
        "The maximum likelihood estimation of hyperparameters in GPR can estimate the measurement error by training the GPR model using data."
      ]
    },
    {
      "cell_type": "markdown",
      "metadata": {
        "id": "RW7B_pR38MYQ",
        "colab_type": "text"
      },
      "source": [
        "The output from an example using GPR method to process data from tunnel measurements of a rotor blade of a steam turbine is shown below."
      ]
    },
    {
      "cell_type": "markdown",
      "metadata": {
        "id": "rvbWaIpb8MYQ",
        "colab_type": "text"
      },
      "source": [
        "![Image02](https://github.com/Health-Devices/Course-Uncertainty-Evaluation-in-Measurements-and-Machine-Learning/raw/d31e370d1410b8667fb33c98bf04c757ed406810/Course%20Material/4.6/fig1.png)"
      ]
    },
    {
      "cell_type": "markdown",
      "metadata": {
        "id": "Juhuxaem8MYQ",
        "colab_type": "text"
      },
      "source": [
        "Above figure shows a gray-scale map of the prediction of a GPR model trained for experimental data. <br>\n",
        "Darker areas correspond to a smaller entropy loss. [9]"
      ]
    },
    {
      "cell_type": "markdown",
      "metadata": {
        "id": "DS0MSBcC8MYR",
        "colab_type": "text"
      },
      "source": [
        "### Gaussian process model with uncertain inputs:"
      ]
    },
    {
      "cell_type": "markdown",
      "metadata": {
        "id": "AN4GqFdy8MYR",
        "colab_type": "text"
      },
      "source": [
        "Developing a model with uncertain or missing inputs is not an easy task. In statistics, the models dealing with uncertain inputs are called error-in-variables models. <br>\n",
        "To demonstrate this using a Gaussian Process Prior model, the original model with inputs generated using Delta method is used. <br>\n",
        "The covariances obtained from the data, estimates the randomness of input.  [10]"
      ]
    },
    {
      "cell_type": "markdown",
      "metadata": {
        "id": "CV7yDQM98MYR",
        "colab_type": "text"
      },
      "source": [
        "The following statistical model is assumed:\n",
        "$$ t = f(x) + \\in t $$ <br>\n",
        "$$ x \\rightarrow input, \\, \\in t \\rightarrow additive\\,gaussian\\,white\\,noise $$"
      ]
    },
    {
      "cell_type": "markdown",
      "metadata": {
        "id": "Rgtg793N8MYR",
        "colab_type": "text"
      },
      "source": [
        "In such a case of uncertain inputs, a new Gaussian process i.e. a generative model is developed using Delta method. <br>\n",
        "On calculating the approximations using correlated and covariance funtions, the likelihood of data is obtained. <br>\n",
        "The predictive distribution of a regular Gaussian Process model is a Gaussian with mean and variance. But the new model, leads to a predictive mean and variance which takes in accont the randomness of the training input.  [10]"
      ]
    },
    {
      "cell_type": "markdown",
      "metadata": {
        "id": "XYKlm3fN8MYS",
        "colab_type": "text"
      },
      "source": [
        "#### The paper \"Learning a Gaussian Process Model with Uncertain Inputs\" gives a detailed mathematical explanation for the aforementioned process along with a couple of illustrative examples to verify the model."
      ]
    },
    {
      "cell_type": "markdown",
      "metadata": {
        "id": "QKOimfl78MYS",
        "colab_type": "text"
      },
      "source": [
        "## References\n",
        "[1] https://en.wikipedia.org/wiki/Mixture_model <br>\n",
        "[2] https://en.wikipedia.org/wiki/Gaussian_process <br>\n",
        "[3] https://nbviewer.jupyter.org/gist/AustinRochford/96d7eb6256692b34661b0000e86ee4e0 <br>\n",
        "[4] http://scikit-learn.org/stable/auto_examples/gaussian_process/plot_gpr_noisy_targets.html <br>\n",
        "[5] https://docs.pymc.io/notebooks/GP-slice-sampling.html#Gaussian-Process-Regression <br>\n",
        "[6] https://pythonmachinelearning.pro/clustering-with-gaussian-mixture-models/  <br>\n",
        "[7] TensorFlow Example Models.[Online].Available: https://github.com/aakhundov/tf-example-models<br>\n",
        "[8] https://stackoverflow.com/questions/41631161/understanding-gaussian-mixture-models <br>\n",
        "[9] J. Hajek, Use of Gaussian Process Regression in Processing Scientific Data, 2008 <br>\n",
        "[10] Agathe Girard, Raderick Murray-Smith; Learning a Gaussian Process Model with Uncertain Inputs. <br>\n",
        "[11] Christopher K.I. Williams, Carl Edward Rasmussen; Gaussian Process Regression. <br>\n",
        "[12] https://github.com/AM207/2017/blob/master/lectures/lecture25.md <br>\n",
        "[13] https://towardsdatascience.com/a-visual-comparison-of-gaussian-process-regression-kernels-8d47f2c9f63c <br>\n",
        "[14] https://www.techopedia.com/definition/30331/gaussian-mixture-model-gmm<br>\n",
        "[15] Gaussian Process Regression in TensorFlow Probability.[Online].Available: https://colab.research.google.com/github/tensorflow/probability/blob/master/tensorflow_probability/examples/jupyter_notebooks/Gaussian_Process_Regression_In_TFP.ipynb#scrollTo=56dF5DnkKx0a"
      ]
    }
  ]
}